{
  "cells": [
    {
      "cell_type": "markdown",
      "metadata": {
        "id": "yAvsx6KLKphr"
      },
      "source": [
        "### To run this notebook ensure the 64x64_SIGNS.zip file is uploaded directly in Google Drive."
      ]
    },
    {
      "cell_type": "markdown",
      "metadata": {
        "id": "ycT-To9owMZH"
      },
      "source": [
        "###Connecting to Google Drive\n"
      ]
    },
    {
      "cell_type": "code",
      "execution_count": 1,
      "metadata": {
        "colab": {
          "base_uri": "https://localhost:8080/"
        },
        "id": "3a8ic3FDyk7O",
        "outputId": "fbff01e3-54d7-4146-f09b-0d987c996329"
      },
      "outputs": [
        {
          "output_type": "stream",
          "name": "stdout",
          "text": [
            "Mounted at /content/drive\n"
          ]
        }
      ],
      "source": [
        "from google.colab import drive\n",
        "drive.mount('/content/drive')"
      ]
    },
    {
      "cell_type": "markdown",
      "metadata": {
        "id": "NW3CSBtkFu5G"
      },
      "source": [
        "##Extracting the data from the ZIP File 64X64_SIGNS"
      ]
    },
    {
      "cell_type": "code",
      "execution_count": 19,
      "metadata": {
        "colab": {
          "base_uri": "https://localhost:8080/"
        },
        "id": "h33cnNu2Du2r",
        "outputId": "f04edff2-d0e2-459f-cb78-e9e84c8a8058"
      },
      "outputs": [
        {
          "output_type": "stream",
          "name": "stdout",
          "text": [
            "Number of images in train_signs folder: 864\n",
            "Number of images in test_signs folder: 120\n",
            "Number of images in val_signs folder: 216\n"
          ]
        }
      ],
      "source": [
        "import zipfile\n",
        "import os\n",
        "\n",
        "# The path to your ZIP file on Google Drive\n",
        "zip_file_path = '/content/drive/My Drive/64x64_SIGNS.zip'\n",
        "\n",
        "# Destination folder to extract the contents\n",
        "extracted_folder_path = '/content/data'\n",
        "\n",
        "# Extracting the ZIP file\n",
        "with zipfile.ZipFile(zip_file_path, 'r') as zip_ref:\n",
        "    zip_ref.extractall(extracted_folder_path)\n",
        "\n",
        "# To access the contents of the extracted folders (train_signs, test_signs, val_signs)\n",
        "train_folder_path = os.path.join(extracted_folder_path, '64x64_SIGNS/train_signs')\n",
        "test_folder_path = os.path.join(extracted_folder_path, '64x64_SIGNS/test_signs')\n",
        "val_folder_path = os.path.join(extracted_folder_path, '64x64_SIGNS/val_signs')\n",
        "\n",
        "# Listing the contents of the folders\n",
        "train_files = os.listdir(train_folder_path)\n",
        "test_files = os.listdir(test_folder_path)\n",
        "val_files = os.listdir(val_folder_path)\n",
        "\n",
        "# Displaying the number of images in each folder\n",
        "num_train_images = len(train_files)\n",
        "num_test_images = len(test_files)\n",
        "num_val_images = len(val_files)\n",
        "\n",
        "print(f\"Number of images in train_signs folder: {num_train_images}\")\n",
        "print(f\"Number of images in test_signs folder: {num_test_images}\")\n",
        "print(f\"Number of images in val_signs folder: {num_val_images}\")\n"
      ]
    },
    {
      "cell_type": "markdown",
      "metadata": {
        "id": "_czvEtV2OZEa"
      },
      "source": [
        "## Importing the necessary libraries"
      ]
    },
    {
      "cell_type": "code",
      "execution_count": 4,
      "metadata": {
        "id": "j5Phz7Cm-g-L"
      },
      "outputs": [],
      "source": [
        "import os\n",
        "from PIL import Image\n",
        "import torch\n",
        "import torch.nn as nn\n",
        "import torch.optim as optim\n",
        "from torch.utils.data import DataLoader, Dataset\n",
        "import torchvision.transforms as transforms\n",
        "import torchvision.models as models\n",
        "from tqdm import tqdm\n",
        "import matplotlib.pyplot as plt\n",
        "import numpy as np\n",
        "\n"
      ]
    },
    {
      "cell_type": "markdown",
      "metadata": {
        "id": "YGP3HKONO5ht"
      },
      "source": [
        "## Creating a custom class for the Dataset\n"
      ]
    },
    {
      "cell_type": "markdown",
      "metadata": {
        "id": "7xlMx_BHLLX3"
      },
      "source": [
        "#### Creating transformations (All images are already resized)"
      ]
    },
    {
      "cell_type": "code",
      "execution_count": 5,
      "metadata": {
        "id": "RelsfzyEQvl2"
      },
      "outputs": [],
      "source": [
        "transform = transforms.Compose([\n",
        "    transforms.ToTensor(),\n",
        "   transforms.Normalize(mean=[0.485, 0.456, 0.406], std=[0.229, 0.224, 0.225])\n",
        "])"
      ]
    },
    {
      "cell_type": "code",
      "execution_count": 6,
      "metadata": {
        "id": "5oZ7m1UJO9b6"
      },
      "outputs": [],
      "source": [
        "class HandSignDataset(Dataset):\n",
        "    def __init__(self,data_folder,transformation):\n",
        "      self.data_folder = data_folder\n",
        "      self.transformation = transformation\n",
        "      self.file_list = os.listdir(self.data_folder)\n",
        "    def __len__(self):\n",
        "        return len(self.file_list)\n",
        "    def __getitem__(self, idx):\n",
        "        img_name = os.path.join(self.data_folder, self.file_list[idx])\n",
        "        image = Image.open(img_name)\n",
        "        label = int(os.path.splitext(self.file_list[idx])[0].split('_')[0]) # Extracting label from the filename\n",
        "        if self.transformation:\n",
        "            image = self.transformation(image)\n",
        "        return image, label"
      ]
    },
    {
      "cell_type": "code",
      "source": [
        "EPOCHS=25"
      ],
      "metadata": {
        "id": "mC5-idAfT5MK"
      },
      "execution_count": 8,
      "outputs": []
    },
    {
      "cell_type": "markdown",
      "metadata": {
        "id": "_w_Q4hEERAYh"
      },
      "source": [
        "## Creating paths to the train,test and validation data"
      ]
    },
    {
      "cell_type": "code",
      "execution_count": 9,
      "metadata": {
        "id": "oopLjHu3QjSx"
      },
      "outputs": [],
      "source": [
        "train_data_path = '/content/data/64x64_SIGNS/train_signs'\n",
        "test_data_path = '/content/data/64x64_SIGNS/test_signs'\n",
        "val_data_path = '/content/data/64x64_SIGNS/val_signs'"
      ]
    },
    {
      "cell_type": "markdown",
      "metadata": {
        "id": "PSneStSFRWaN"
      },
      "source": [
        "## Creating the datasets"
      ]
    },
    {
      "cell_type": "code",
      "execution_count": 11,
      "metadata": {
        "id": "8l7hONchRRov"
      },
      "outputs": [],
      "source": [
        "train_dataset = HandSignDataset(train_data_path,transform)\n",
        "test_dataset = HandSignDataset(test_data_path,transform)\n",
        "val_dataset = HandSignDataset(val_data_path,transform)"
      ]
    },
    {
      "cell_type": "markdown",
      "metadata": {
        "id": "obfepEHERn7e"
      },
      "source": [
        "## Creating dataloaders"
      ]
    },
    {
      "cell_type": "code",
      "execution_count": 12,
      "metadata": {
        "id": "x8PX4LnxRf7V"
      },
      "outputs": [],
      "source": [
        "train_batch_size=32\n",
        "test_batch_size=32\n",
        "val_batch_size=32\n",
        "train_loader = DataLoader(train_dataset, batch_size=train_batch_size, shuffle=True)\n",
        "test_loader = DataLoader(test_dataset, batch_size=test_batch_size, shuffle=True)\n",
        "val_loader = DataLoader(val_dataset, batch_size=val_batch_size, shuffle=True)"
      ]
    },
    {
      "cell_type": "markdown",
      "metadata": {
        "id": "DP1OnY_STwRl"
      },
      "source": [
        "## Creating the Neural Network Model"
      ]
    },
    {
      "cell_type": "code",
      "execution_count": 13,
      "metadata": {
        "id": "0MMZgUUBRy-G"
      },
      "outputs": [],
      "source": [
        "class NNModel(nn.Module):\n",
        "    def __init__(self):\n",
        "        super(NNModel, self).__init__()\n",
        "        # Three dense layers with ReLU activation\n",
        "        self.input_layer = nn.Linear(64 * 64 * 3, 1024)  # Input size: 64x64x3\n",
        "        self.relu1 = nn.ReLU()\n",
        "        self.hidden_layer1 = nn.Linear(1024, 12288)\n",
        "        self.relu2 = nn.ReLU()\n",
        "        self.hidden_layer2 = nn.Linear(12288, 6)  # Output layer with 6 classes\n",
        "\n",
        "    def forward(self, x):\n",
        "        x = x.view(x.size(0), -1)  # Flatten the input\n",
        "        x = self.input_layer(x)\n",
        "        x = self.relu1(x)\n",
        "        x = self.hidden_layer1(x)\n",
        "        x = self.relu2(x)\n",
        "        x = self.hidden_layer2(x)\n",
        "        return x"
      ]
    },
    {
      "cell_type": "code",
      "execution_count": 14,
      "metadata": {
        "colab": {
          "base_uri": "https://localhost:8080/"
        },
        "id": "ipJBEZV8UF08",
        "outputId": "140f3043-81d7-400d-d94d-5d2a13c95334"
      },
      "outputs": [
        {
          "output_type": "stream",
          "name": "stdout",
          "text": [
            "NNModel(\n",
            "  (input_layer): Linear(in_features=12288, out_features=1024, bias=True)\n",
            "  (relu1): ReLU()\n",
            "  (hidden_layer1): Linear(in_features=1024, out_features=12288, bias=True)\n",
            "  (relu2): ReLU()\n",
            "  (hidden_layer2): Linear(in_features=12288, out_features=6, bias=True)\n",
            ")\n"
          ]
        }
      ],
      "source": [
        "\n",
        "# Initialize the model\n",
        "model = NNModel()\n",
        "\n",
        "# Print the model architecture\n",
        "print(model)"
      ]
    },
    {
      "cell_type": "markdown",
      "metadata": {
        "id": "NcUkgnuVjyiT"
      },
      "source": [
        "## Common function for evaluating the model"
      ]
    },
    {
      "cell_type": "code",
      "execution_count": 15,
      "metadata": {
        "id": "-DNsZgVeUJ5A"
      },
      "outputs": [],
      "source": [
        "def evaluate_per_epoch(model, loader, criterion):\n",
        "    model.eval()\n",
        "    correct = 0\n",
        "    total = 0\n",
        "    total_loss = 0.0  # Variable to accumulate the total loss\n",
        "\n",
        "    with torch.no_grad():\n",
        "        for inputs, labels in tqdm(loader, desc='Evaluation'):\n",
        "            outputs = model(inputs)\n",
        "            loss = criterion(outputs, labels)\n",
        "            total_loss += loss.item()  # Accumulate the loss\n",
        "\n",
        "            _, predicted = torch.max(outputs.data, 1)\n",
        "            total += labels.size(0)\n",
        "            correct += (predicted == labels).sum().item()\n",
        "\n",
        "    accuracy = 100 * correct / total\n",
        "    average_loss = total_loss / len(loader)  # Calculate the average loss\n",
        "\n",
        "    return accuracy, average_loss"
      ]
    },
    {
      "cell_type": "markdown",
      "metadata": {
        "id": "gDXBHGXanOey"
      },
      "source": [
        "##Training the model with L2 Penalty and Adam optimizer"
      ]
    },
    {
      "cell_type": "code",
      "execution_count": 16,
      "metadata": {
        "id": "laTgdDOsSSoN"
      },
      "outputs": [],
      "source": [
        "num_epochs=EPOCHS\n",
        "weight_decay=0.001\n",
        "criterion = nn.CrossEntropyLoss()\n",
        "optimizer = optim.Adam(model.parameters(), weight_decay=weight_decay)"
      ]
    },
    {
      "cell_type": "code",
      "execution_count": 18,
      "metadata": {
        "colab": {
          "base_uri": "https://localhost:8080/"
        },
        "id": "gVo9R_TdnG9e",
        "outputId": "473361cd-98d3-446e-b35c-7d6a5f90308b"
      },
      "outputs": [
        {
          "output_type": "stream",
          "name": "stderr",
          "text": [
            "Epoch [1/25]: 100%|██████████| 27/27 [00:18<00:00,  1.48it/s]\n",
            "Evaluation: 100%|██████████| 7/7 [00:00<00:00, 15.68it/s]\n"
          ]
        },
        {
          "output_type": "stream",
          "name": "stdout",
          "text": [
            "Epoch [1/25] - Train Loss: 6.6872 - Val Loss: 1.5000 - Val Accuracy: 31.94%\n"
          ]
        },
        {
          "output_type": "stream",
          "name": "stderr",
          "text": [
            "Epoch [2/25]: 100%|██████████| 27/27 [00:23<00:00,  1.16it/s]\n",
            "Evaluation: 100%|██████████| 7/7 [00:00<00:00, 16.49it/s]\n"
          ]
        },
        {
          "output_type": "stream",
          "name": "stdout",
          "text": [
            "Epoch [2/25] - Train Loss: 1.4737 - Val Loss: 1.6259 - Val Accuracy: 37.50%\n"
          ]
        },
        {
          "output_type": "stream",
          "name": "stderr",
          "text": [
            "Epoch [3/25]: 100%|██████████| 27/27 [00:21<00:00,  1.27it/s]\n",
            "Evaluation: 100%|██████████| 7/7 [00:00<00:00, 11.70it/s]\n"
          ]
        },
        {
          "output_type": "stream",
          "name": "stdout",
          "text": [
            "Epoch [3/25] - Train Loss: 1.3898 - Val Loss: 1.3030 - Val Accuracy: 45.83%\n"
          ]
        },
        {
          "output_type": "stream",
          "name": "stderr",
          "text": [
            "Epoch [4/25]: 100%|██████████| 27/27 [00:20<00:00,  1.31it/s]\n",
            "Evaluation: 100%|██████████| 7/7 [00:00<00:00, 16.02it/s]\n"
          ]
        },
        {
          "output_type": "stream",
          "name": "stdout",
          "text": [
            "Epoch [4/25] - Train Loss: 1.2540 - Val Loss: 1.1361 - Val Accuracy: 50.46%\n"
          ]
        },
        {
          "output_type": "stream",
          "name": "stderr",
          "text": [
            "Epoch [5/25]: 100%|██████████| 27/27 [00:17<00:00,  1.51it/s]\n",
            "Evaluation: 100%|██████████| 7/7 [00:00<00:00, 16.02it/s]\n"
          ]
        },
        {
          "output_type": "stream",
          "name": "stdout",
          "text": [
            "Epoch [5/25] - Train Loss: 1.1202 - Val Loss: 1.0691 - Val Accuracy: 53.24%\n"
          ]
        },
        {
          "output_type": "stream",
          "name": "stderr",
          "text": [
            "Epoch [6/25]: 100%|██████████| 27/27 [00:18<00:00,  1.46it/s]\n",
            "Evaluation: 100%|██████████| 7/7 [00:00<00:00, 11.08it/s]\n"
          ]
        },
        {
          "output_type": "stream",
          "name": "stdout",
          "text": [
            "Epoch [6/25] - Train Loss: 0.9839 - Val Loss: 1.1401 - Val Accuracy: 55.56%\n"
          ]
        },
        {
          "output_type": "stream",
          "name": "stderr",
          "text": [
            "Epoch [7/25]: 100%|██████████| 27/27 [00:19<00:00,  1.38it/s]\n",
            "Evaluation: 100%|██████████| 7/7 [00:00<00:00, 16.38it/s]\n"
          ]
        },
        {
          "output_type": "stream",
          "name": "stdout",
          "text": [
            "Epoch [7/25] - Train Loss: 0.8471 - Val Loss: 0.8401 - Val Accuracy: 70.83%\n"
          ]
        },
        {
          "output_type": "stream",
          "name": "stderr",
          "text": [
            "Epoch [8/25]: 100%|██████████| 27/27 [00:18<00:00,  1.47it/s]\n",
            "Evaluation: 100%|██████████| 7/7 [00:00<00:00, 15.92it/s]\n"
          ]
        },
        {
          "output_type": "stream",
          "name": "stdout",
          "text": [
            "Epoch [8/25] - Train Loss: 0.8449 - Val Loss: 1.0048 - Val Accuracy: 59.72%\n"
          ]
        },
        {
          "output_type": "stream",
          "name": "stderr",
          "text": [
            "Epoch [9/25]: 100%|██████████| 27/27 [00:18<00:00,  1.47it/s]\n",
            "Evaluation: 100%|██████████| 7/7 [00:00<00:00, 10.67it/s]\n"
          ]
        },
        {
          "output_type": "stream",
          "name": "stdout",
          "text": [
            "Epoch [9/25] - Train Loss: 0.7488 - Val Loss: 1.1233 - Val Accuracy: 59.72%\n"
          ]
        },
        {
          "output_type": "stream",
          "name": "stderr",
          "text": [
            "Epoch [10/25]: 100%|██████████| 27/27 [00:18<00:00,  1.42it/s]\n",
            "Evaluation: 100%|██████████| 7/7 [00:00<00:00, 15.96it/s]\n"
          ]
        },
        {
          "output_type": "stream",
          "name": "stdout",
          "text": [
            "Epoch [10/25] - Train Loss: 0.6360 - Val Loss: 0.9807 - Val Accuracy: 63.89%\n"
          ]
        },
        {
          "output_type": "stream",
          "name": "stderr",
          "text": [
            "Epoch [11/25]: 100%|██████████| 27/27 [00:18<00:00,  1.48it/s]\n",
            "Evaluation: 100%|██████████| 7/7 [00:00<00:00, 15.77it/s]\n"
          ]
        },
        {
          "output_type": "stream",
          "name": "stdout",
          "text": [
            "Epoch [11/25] - Train Loss: 0.5727 - Val Loss: 0.7953 - Val Accuracy: 69.44%\n"
          ]
        },
        {
          "output_type": "stream",
          "name": "stderr",
          "text": [
            "Epoch [12/25]: 100%|██████████| 27/27 [00:18<00:00,  1.45it/s]\n",
            "Evaluation: 100%|██████████| 7/7 [00:00<00:00, 10.41it/s]\n"
          ]
        },
        {
          "output_type": "stream",
          "name": "stdout",
          "text": [
            "Epoch [12/25] - Train Loss: 0.5029 - Val Loss: 0.7723 - Val Accuracy: 75.00%\n"
          ]
        },
        {
          "output_type": "stream",
          "name": "stderr",
          "text": [
            "Epoch [13/25]: 100%|██████████| 27/27 [00:19<00:00,  1.41it/s]\n",
            "Evaluation: 100%|██████████| 7/7 [00:00<00:00, 16.55it/s]\n"
          ]
        },
        {
          "output_type": "stream",
          "name": "stdout",
          "text": [
            "Epoch [13/25] - Train Loss: 0.4807 - Val Loss: 1.2159 - Val Accuracy: 62.04%\n"
          ]
        },
        {
          "output_type": "stream",
          "name": "stderr",
          "text": [
            "Epoch [14/25]: 100%|██████████| 27/27 [00:18<00:00,  1.48it/s]\n",
            "Evaluation: 100%|██████████| 7/7 [00:00<00:00, 16.58it/s]\n"
          ]
        },
        {
          "output_type": "stream",
          "name": "stdout",
          "text": [
            "Epoch [14/25] - Train Loss: 0.6189 - Val Loss: 0.8911 - Val Accuracy: 68.98%\n"
          ]
        },
        {
          "output_type": "stream",
          "name": "stderr",
          "text": [
            "Epoch [15/25]: 100%|██████████| 27/27 [00:18<00:00,  1.43it/s]\n",
            "Evaluation: 100%|██████████| 7/7 [00:00<00:00, 10.59it/s]\n"
          ]
        },
        {
          "output_type": "stream",
          "name": "stdout",
          "text": [
            "Epoch [15/25] - Train Loss: 0.4229 - Val Loss: 0.8050 - Val Accuracy: 76.39%\n"
          ]
        },
        {
          "output_type": "stream",
          "name": "stderr",
          "text": [
            "Epoch [16/25]: 100%|██████████| 27/27 [00:18<00:00,  1.46it/s]\n",
            "Evaluation: 100%|██████████| 7/7 [00:00<00:00, 16.68it/s]\n"
          ]
        },
        {
          "output_type": "stream",
          "name": "stdout",
          "text": [
            "Epoch [16/25] - Train Loss: 0.3947 - Val Loss: 0.9678 - Val Accuracy: 70.37%\n"
          ]
        },
        {
          "output_type": "stream",
          "name": "stderr",
          "text": [
            "Epoch [17/25]: 100%|██████████| 27/27 [00:18<00:00,  1.48it/s]\n",
            "Evaluation: 100%|██████████| 7/7 [00:00<00:00, 16.32it/s]\n"
          ]
        },
        {
          "output_type": "stream",
          "name": "stdout",
          "text": [
            "Epoch [17/25] - Train Loss: 0.5004 - Val Loss: 0.7087 - Val Accuracy: 77.78%\n"
          ]
        },
        {
          "output_type": "stream",
          "name": "stderr",
          "text": [
            "Epoch [18/25]: 100%|██████████| 27/27 [00:19<00:00,  1.38it/s]\n",
            "Evaluation: 100%|██████████| 7/7 [00:00<00:00, 10.57it/s]\n"
          ]
        },
        {
          "output_type": "stream",
          "name": "stdout",
          "text": [
            "Epoch [18/25] - Train Loss: 0.3616 - Val Loss: 0.8702 - Val Accuracy: 71.30%\n"
          ]
        },
        {
          "output_type": "stream",
          "name": "stderr",
          "text": [
            "Epoch [19/25]: 100%|██████████| 27/27 [00:32<00:00,  1.20s/it]\n",
            "Evaluation: 100%|██████████| 7/7 [00:00<00:00, 10.17it/s]\n"
          ]
        },
        {
          "output_type": "stream",
          "name": "stdout",
          "text": [
            "Epoch [19/25] - Train Loss: 0.3768 - Val Loss: 0.7901 - Val Accuracy: 77.31%\n"
          ]
        },
        {
          "output_type": "stream",
          "name": "stderr",
          "text": [
            "Epoch [20/25]: 100%|██████████| 27/27 [00:19<00:00,  1.39it/s]\n",
            "Evaluation: 100%|██████████| 7/7 [00:00<00:00, 16.45it/s]\n"
          ]
        },
        {
          "output_type": "stream",
          "name": "stdout",
          "text": [
            "Epoch [20/25] - Train Loss: 0.2900 - Val Loss: 0.8644 - Val Accuracy: 74.07%\n"
          ]
        },
        {
          "output_type": "stream",
          "name": "stderr",
          "text": [
            "Epoch [21/25]: 100%|██████████| 27/27 [00:19<00:00,  1.40it/s]\n",
            "Evaluation: 100%|██████████| 7/7 [00:00<00:00, 10.80it/s]\n"
          ]
        },
        {
          "output_type": "stream",
          "name": "stdout",
          "text": [
            "Epoch [21/25] - Train Loss: 0.2548 - Val Loss: 0.7924 - Val Accuracy: 79.63%\n"
          ]
        },
        {
          "output_type": "stream",
          "name": "stderr",
          "text": [
            "Epoch [22/25]: 100%|██████████| 27/27 [00:19<00:00,  1.35it/s]\n",
            "Evaluation: 100%|██████████| 7/7 [00:00<00:00, 16.38it/s]\n"
          ]
        },
        {
          "output_type": "stream",
          "name": "stdout",
          "text": [
            "Epoch [22/25] - Train Loss: 0.4835 - Val Loss: 1.0367 - Val Accuracy: 76.39%\n"
          ]
        },
        {
          "output_type": "stream",
          "name": "stderr",
          "text": [
            "Epoch [23/25]: 100%|██████████| 27/27 [00:19<00:00,  1.40it/s]\n",
            "Evaluation: 100%|██████████| 7/7 [00:00<00:00, 16.34it/s]\n"
          ]
        },
        {
          "output_type": "stream",
          "name": "stdout",
          "text": [
            "Epoch [23/25] - Train Loss: 0.3701 - Val Loss: 0.7298 - Val Accuracy: 77.31%\n"
          ]
        },
        {
          "output_type": "stream",
          "name": "stderr",
          "text": [
            "Epoch [24/25]: 100%|██████████| 27/27 [00:20<00:00,  1.33it/s]\n",
            "Evaluation: 100%|██████████| 7/7 [00:00<00:00, 16.40it/s]\n"
          ]
        },
        {
          "output_type": "stream",
          "name": "stdout",
          "text": [
            "Epoch [24/25] - Train Loss: 0.2159 - Val Loss: 0.8051 - Val Accuracy: 79.63%\n"
          ]
        },
        {
          "output_type": "stream",
          "name": "stderr",
          "text": [
            "Epoch [25/25]: 100%|██████████| 27/27 [00:19<00:00,  1.40it/s]\n",
            "Evaluation: 100%|██████████| 7/7 [00:00<00:00, 16.38it/s]"
          ]
        },
        {
          "output_type": "stream",
          "name": "stdout",
          "text": [
            "Epoch [25/25] - Train Loss: 0.2118 - Val Loss: 0.7415 - Val Accuracy: 80.56%\n"
          ]
        },
        {
          "output_type": "stream",
          "name": "stderr",
          "text": [
            "\n"
          ]
        }
      ],
      "source": [
        "# Training loop with evaluation and plotting\n",
        "train_losses_l2 = []\n",
        "val_losses_l2 = []\n",
        "val_accuracies_l2 = []\n",
        "\n",
        "for epoch in range(num_epochs):\n",
        "    model.train()\n",
        "    train_loss = 0.0\n",
        "    for inputs, labels in tqdm(train_loader, desc=f'Epoch [{epoch + 1}/{num_epochs}]'):\n",
        "        optimizer.zero_grad()\n",
        "        outputs = model(inputs)\n",
        "        loss = criterion(outputs, labels)\n",
        "\n",
        "        # Calculate L2-norm penalty\n",
        "        l2_penalty = 0.0\n",
        "        for param in model.parameters():\n",
        "            l2_penalty += torch.norm(param, 2)\n",
        "\n",
        "        loss += weight_decay * l2_penalty\n",
        "\n",
        "        loss.backward()\n",
        "        optimizer.step()\n",
        "        train_loss += loss.item()\n",
        "\n",
        "    train_losses_l2.append(train_loss / len(train_loader))\n",
        "\n",
        "    # Evaluate the model after each epoch and collect accuracy and loss\n",
        "    val_accuracy, val_loss = evaluate_per_epoch(model, val_loader, criterion)\n",
        "    val_losses_l2.append(val_loss)\n",
        "    val_accuracies_l2.append(val_accuracy)\n",
        "\n",
        "    print(f'Epoch [{epoch + 1}/{num_epochs}] - Train Loss: {train_losses_l2[-1]:.4f} - Val Loss: {val_loss:.4f} - Val Accuracy: {val_accuracy:.2f}%')\n"
      ]
    },
    {
      "cell_type": "markdown",
      "metadata": {
        "id": "OfTABfIWX3AT"
      },
      "source": [
        "## Testing on the test dataset"
      ]
    },
    {
      "cell_type": "code",
      "execution_count": 20,
      "metadata": {
        "colab": {
          "base_uri": "https://localhost:8080/"
        },
        "id": "i-i9d9PbX2aA",
        "outputId": "39bbf70f-d098-41c9-a228-27443bc26b98"
      },
      "outputs": [
        {
          "output_type": "stream",
          "name": "stderr",
          "text": [
            "Evaluation: 100%|██████████| 4/4 [00:00<00:00, 15.83it/s]"
          ]
        },
        {
          "output_type": "stream",
          "name": "stdout",
          "text": [
            "\n",
            "Test Accuracy with L2-norm penalty: 80.83%\n",
            "Test Loss with L2-norm penalty: 0.6913\n"
          ]
        },
        {
          "output_type": "stream",
          "name": "stderr",
          "text": [
            "\n"
          ]
        }
      ],
      "source": [
        "test_accuracy_l2, test_loss_l2 = evaluate_per_epoch(model, test_loader, criterion)\n",
        "print(f'\\nTest Accuracy with L2-norm penalty: {test_accuracy_l2:.2f}%')\n",
        "print(f'Test Loss with L2-norm penalty: {np.mean(test_loss_l2):.4f}')"
      ]
    },
    {
      "cell_type": "markdown",
      "metadata": {
        "id": "R_7iWGvY3IHo"
      },
      "source": [
        "## Plotting the loss and validation accuracy"
      ]
    },
    {
      "cell_type": "code",
      "execution_count": 21,
      "metadata": {
        "colab": {
          "base_uri": "https://localhost:8080/",
          "height": 393
        },
        "id": "d_gyHILmnYXF",
        "outputId": "3e7d46b4-7cf9-41c1-8e0d-88195de076af"
      },
      "outputs": [
        {
          "output_type": "display_data",
          "data": {
            "text/plain": [
              "<Figure size 1200x400 with 2 Axes>"
            ],
            "image/png": "[encoded data removed]"
          },
          "metadata": {}
        }
      ],
      "source": [
        "# Determine the x-axis range based on the number of epochs\n",
        "x_range = range(1, num_epochs + 1)\n",
        "\n",
        "# Plot loss and accuracy per epoch (limit x-axis to the number of epochs)\n",
        "plt.figure(figsize=(12, 4))\n",
        "plt.subplot(1, 2, 1)\n",
        "plt.plot(x_range, train_losses_l2[:num_epochs], label='Train Loss')\n",
        "plt.plot(x_range, val_losses_l2[:num_epochs], label='Validation Loss')\n",
        "plt.xlabel('Epoch')\n",
        "plt.ylabel('Loss')\n",
        "plt.legend()\n",
        "\n",
        "plt.subplot(1, 2, 2)\n",
        "plt.plot(x_range, val_accuracies_l2[:num_epochs], label='Validation Accuracy', color='red')\n",
        "plt.xlabel('Epoch')\n",
        "plt.ylabel('Accuracy (%)')\n",
        "plt.legend()\n",
        "plt.show()\n"
      ]
    },
    {
      "cell_type": "markdown",
      "metadata": {
        "id": "bzA4JoNhYv2r"
      },
      "source": [
        "## Training the model using Early Stopping Regularization  and then running the model"
      ]
    },
    {
      "cell_type": "code",
      "execution_count": 22,
      "metadata": {
        "id": "tC2tB696b80n"
      },
      "outputs": [],
      "source": [
        "criterion = nn.CrossEntropyLoss()\n",
        "optimizer = optim.Adam(model.parameters(), lr=0.01, weight_decay=weight_decay)"
      ]
    },
    {
      "cell_type": "code",
      "execution_count": 28,
      "metadata": {
        "colab": {
          "base_uri": "https://localhost:8080/"
        },
        "id": "MTpdBmhn4VrK",
        "outputId": "a3dcd93c-d4f4-4d5a-d7de-fcb077ba328f"
      },
      "outputs": [
        {
          "output_type": "stream",
          "name": "stdout",
          "text": [
            "Epoch 1/25, Train Loss: 9.4755, Validation Loss: 1.4956, Validation Accuracy: 0.3935\n",
            "Epoch 2/25, Train Loss: 1.3603, Validation Loss: 1.1811, Validation Accuracy: 0.5046\n",
            "Epoch 3/25, Train Loss: 1.1509, Validation Loss: 1.0335, Validation Accuracy: 0.5972\n",
            "Epoch 4/25, Train Loss: 0.9009, Validation Loss: 0.9153, Validation Accuracy: 0.6296\n",
            "Epoch 5/25, Train Loss: 0.7742, Validation Loss: 0.9598, Validation Accuracy: 0.6481\n",
            "Epoch 6/25, Train Loss: 0.5978, Validation Loss: 0.9139, Validation Accuracy: 0.6852\n",
            "Epoch 7/25, Train Loss: 0.6060, Validation Loss: 0.8187, Validation Accuracy: 0.7269\n",
            "Epoch 8/25, Train Loss: 0.4886, Validation Loss: 0.8277, Validation Accuracy: 0.7407\n",
            "Epoch 9/25, Train Loss: 0.5012, Validation Loss: 0.8864, Validation Accuracy: 0.7593\n",
            "Epoch 10/25, Train Loss: 0.5009, Validation Loss: 1.2905, Validation Accuracy: 0.5833\n",
            "Epoch 11/25, Train Loss: 0.3712, Validation Loss: 0.8930, Validation Accuracy: 0.7407\n",
            "Epoch 12/25, Train Loss: 0.3045, Validation Loss: 0.8185, Validation Accuracy: 0.7500\n",
            "Epoch 13/25, Train Loss: 0.4055, Validation Loss: 1.3074, Validation Accuracy: 0.6898\n",
            "Epoch 14/25, Train Loss: 0.3360, Validation Loss: 0.7933, Validation Accuracy: 0.7963\n",
            "Epoch 15/25, Train Loss: 0.2523, Validation Loss: 1.2184, Validation Accuracy: 0.6667\n",
            "Epoch 16/25, Train Loss: 0.6380, Validation Loss: 1.1409, Validation Accuracy: 0.6852\n",
            "Epoch 17/25, Train Loss: 0.3444, Validation Loss: 0.7010, Validation Accuracy: 0.7778\n",
            "Epoch 18/25, Train Loss: 0.1908, Validation Loss: 0.6673, Validation Accuracy: 0.7870\n",
            "Epoch 19/25, Train Loss: 0.1812, Validation Loss: 0.7174, Validation Accuracy: 0.8009\n",
            "Epoch 20/25, Train Loss: 0.1663, Validation Loss: 0.7725, Validation Accuracy: 0.8241\n",
            "Epoch 21/25, Train Loss: 0.0955, Validation Loss: 0.9799, Validation Accuracy: 0.7870\n",
            "Epoch 22/25, Train Loss: 0.1612, Validation Loss: 0.9857, Validation Accuracy: 0.7870\n",
            "Epoch 23/25, Train Loss: 0.1736, Validation Loss: 0.8298, Validation Accuracy: 0.7917\n",
            "Epoch 24/25, Train Loss: 0.0940, Validation Loss: 0.8060, Validation Accuracy: 0.8102\n",
            "Epoch 25/25, Train Loss: 0.4086, Validation Loss: 0.7210, Validation Accuracy: 0.8009\n"
          ]
        }
      ],
      "source": [
        "def train_with_early_stopping(model, train_loader, val_loader, num_epochs, patience, weight_decay):\n",
        "    # Define loss function and optimizer\n",
        "    criterion = nn.CrossEntropyLoss()\n",
        "    optimizer = optim.Adam(model.parameters(), weight_decay=weight_decay)\n",
        "    # Initialize variables for early stopping\n",
        "    best_val_loss = float('inf')\n",
        "    current_patience = 0\n",
        "\n",
        "    # Store losses and accuracies\n",
        "    train_losses = []\n",
        "    val_losses = []\n",
        "    val_accuracies = []\n",
        "\n",
        "    # Training loop\n",
        "    for epoch in range(num_epochs):\n",
        "        # Set model to training mode\n",
        "        model.train()\n",
        "\n",
        "        # Initialize epoch statistics\n",
        "        train_loss = 0\n",
        "        total = 0\n",
        "        correct = 0\n",
        "\n",
        "        # Iterate over mini-batches in the training loader\n",
        "        for inputs, labels in train_loader:\n",
        "            # Forward pass\n",
        "            outputs = model(inputs)\n",
        "            loss = criterion(outputs, labels)\n",
        "\n",
        "            # Backward pass and optimization\n",
        "            optimizer.zero_grad()\n",
        "            loss.backward()\n",
        "            optimizer.step()\n",
        "\n",
        "            # Track training loss\n",
        "            train_loss += loss.item()\n",
        "\n",
        "            # Track training accuracy\n",
        "            _, predicted = outputs.max(1)\n",
        "            total += labels.size(0)\n",
        "            correct += predicted.eq(labels).sum().item()\n",
        "\n",
        "        # Calculate average training loss and accuracy\n",
        "        train_loss /= len(train_loader)\n",
        "        train_acc = correct / total\n",
        "\n",
        "        # Calculate validation loss and accuracy\n",
        "        model.eval()  # Set model to evaluation mode\n",
        "        val_loss = 0\n",
        "        total = 0\n",
        "        correct = 0\n",
        "        with torch.no_grad():\n",
        "            for inputs, labels in val_loader:\n",
        "                outputs = model(inputs)\n",
        "                val_loss += criterion(outputs, labels).item()\n",
        "\n",
        "                # Track validation accuracy\n",
        "                _, predicted = outputs.max(1)\n",
        "                total += labels.size(0)\n",
        "                correct += predicted.eq(labels).sum().item()\n",
        "\n",
        "        val_loss /= len(val_loader)\n",
        "        val_acc = correct / total\n",
        "\n",
        "        # Early stopping check\n",
        "        if val_loss < best_val_loss:\n",
        "            best_val_loss = val_loss\n",
        "            current_patience = 0\n",
        "        else:\n",
        "            current_patience += 1\n",
        "            if current_patience >= patience:\n",
        "                print(f'Early stopping at epoch {epoch}.')\n",
        "                break\n",
        "\n",
        "        # Store losses and accuracies for plotting\n",
        "        train_losses.append(train_loss)\n",
        "        val_losses.append(val_loss)\n",
        "        val_accuracies.append(val_acc)\n",
        "\n",
        "        # Print epoch statistics\n",
        "        print(f'Epoch {epoch+1}/{num_epochs}, Train Loss: {train_loss:.4f}, Validation Loss: {val_loss:.4f}, Validation Accuracy: {val_acc:.4f}')\n",
        "\n",
        "    return train_losses, val_losses, val_accuracies,epoch+1\n",
        "\n",
        "# Example usage with early stopping\n",
        "model = NNModel()  # Initialize your model\n",
        "weight_decay = 0.001  # Adjust the weight decay as needed\n",
        "patience = 10 # Number of epochs without improvement to wait before early stopping\n",
        "\n",
        "train_losses_es, val_losses_es, val_accuracies_es,epoch_early_es= train_with_early_stopping(model, train_loader, val_loader, num_epochs=EPOCHS,patience=patience, weight_decay=weight_decay)\n"
      ]
    },
    {
      "cell_type": "markdown",
      "source": [
        "##Plotting the loss and validation accuracy"
      ],
      "metadata": {
        "id": "FnQL_8rJxe63"
      }
    },
    {
      "cell_type": "code",
      "source": [
        "# Determine the x-axis range based on the number of epochs\n",
        "x_range=range(1,epoch_early_es + 1)\n",
        "val_accuracies_es_100 = [x * 100 for x in val_accuracies_es]\n",
        "# Plot loss and accuracy per epoch (limit x-axis to the number of epochs)\n",
        "plt.figure(figsize=(12, 4))\n",
        "plt.subplot(1, 2, 1)\n",
        "plt.plot(x_range, train_losses_es[:epoch_early_es], label='Train Loss')\n",
        "plt.plot(x_range, val_losses_es[:epoch_early_es], label='Validation Loss')\n",
        "plt.xlabel('Epoch')\n",
        "plt.ylabel('Loss')\n",
        "plt.legend()\n",
        "\n",
        "plt.subplot(1, 2, 2)\n",
        "plt.plot(x_range, val_accuracies_es_100[:epoch_early_es], label='Validation Accuracy', color='red')\n",
        "plt.xlabel('Epoch')\n",
        "plt.ylabel('Accuracy (%)')\n",
        "plt.legend()\n",
        "plt.show()"
      ],
      "metadata": {
        "colab": {
          "base_uri": "https://localhost:8080/",
          "height": 388
        },
        "id": "5YTk0w7AxqhB",
        "outputId": "f26adf56-16e5-4373-e81e-feeaee42f636"
      },
      "execution_count": 30,
      "outputs": [
        {
          "output_type": "display_data",
          "data": {
            "text/plain": [
              "<Figure size 1200x400 with 2 Axes>"
            ],
            "image/png": "[encoded data removed]"
          },
          "metadata": {}
        }
      ]
    },
    {
      "cell_type": "markdown",
      "metadata": {
        "id": "6G33Nv1OnbVm"
      },
      "source": [
        "## Testing on the test set"
      ]
    },
    {
      "cell_type": "code",
      "execution_count": 27,
      "metadata": {
        "colab": {
          "base_uri": "https://localhost:8080/"
        },
        "id": "TRIx8Q1u0AP0",
        "outputId": "004af731-c1db-472b-e389-4c257dd599fc"
      },
      "outputs": [
        {
          "output_type": "stream",
          "name": "stderr",
          "text": [
            "Evaluation: 100%|██████████| 4/4 [00:00<00:00, 15.83it/s]"
          ]
        },
        {
          "output_type": "stream",
          "name": "stdout",
          "text": [
            "\n",
            "Test Accuracy with L2-norm penalty: 71.67%\n",
            "Test Loss with L2-norm penalty: 0.8736\n"
          ]
        },
        {
          "output_type": "stream",
          "name": "stderr",
          "text": [
            "\n"
          ]
        }
      ],
      "source": [
        "test_accuracy_es, test_loss_es = evaluate_per_epoch(model, test_loader, criterion)\n",
        "print(f'\\nTest Accuracy with Early stopping penalty: {test_accuracy_es:.2f}%')\n",
        "print(f'Test Loss with Early stopping penalty: {np.mean(test_loss_es):.4f}')"
      ]
    },
    {
      "cell_type": "markdown",
      "metadata": {
        "id": "fa8HOhNT6fH1"
      },
      "source": [
        "## Implementing Data Augmentation Regularization"
      ]
    },
    {
      "cell_type": "code",
      "execution_count": 48,
      "metadata": {
        "id": "Ip0GhgwM0mx4"
      },
      "outputs": [],
      "source": [
        "# Define data augmentation transformations\n",
        "augmentation_transforms = transforms.Compose([\n",
        "    transforms.RandomHorizontalFlip(p=0.2),\n",
        "    transforms.RandomVerticalFlip(p=0.2),\n",
        "    transforms.RandomRotation(10),  # Rotate by a random angle between -10 and 10 degrees\n",
        "    transforms.ColorJitter(brightness=0.2, contrast=0.2, saturation=0.2, hue=0.1),  # Adjust brightness, contrast, saturation, and hue\n",
        "    transforms.RandomResizedCrop(64, scale=(0.8, 1.0)),  # Randomly crop and resize\n",
        "    transforms.RandomAffine(0, translate=(0.1, 0.1))  # Random affine transformation\n",
        "\n",
        "])"
      ]
    },
    {
      "cell_type": "code",
      "execution_count": 49,
      "metadata": {
        "id": "rWl9tUzGB-Zc"
      },
      "outputs": [],
      "source": [
        "def custom_collate(batch):\n",
        "    # Use transforms.ToTensor() to convert images to tensors\n",
        "    transform = transforms.Compose([transforms.ToTensor()])\n",
        "    images, labels = zip(*batch)\n",
        "    images = [transform(img) for img in images]\n",
        "    images = torch.stack(images)  # Convert list of images to a tensor\n",
        "    labels = torch.tensor(labels)  # Convert list of labels to a tensor\n",
        "    return images, labels"
      ]
    },
    {
      "cell_type": "markdown",
      "metadata": {
        "id": "zCYs1uJx6qk8"
      },
      "source": [
        "## Creating an augmented train dataset"
      ]
    },
    {
      "cell_type": "code",
      "execution_count": 50,
      "metadata": {
        "id": "_-KVOaAf6kl2"
      },
      "outputs": [],
      "source": [
        "aug_train_dataset = HandSignDataset(train_data_path, augmentation_transforms)"
      ]
    },
    {
      "cell_type": "code",
      "execution_count": 51,
      "metadata": {
        "id": "-xwqVlvP6zti"
      },
      "outputs": [],
      "source": [
        "batch_size = 32\n",
        "aug_train_loader = DataLoader(aug_train_dataset, batch_size=batch_size, shuffle=True, collate_fn=custom_collate)\n"
      ]
    },
    {
      "cell_type": "markdown",
      "metadata": {
        "id": "jX73WeK07SFu"
      },
      "source": [
        "## Training and evaluating the model"
      ]
    },
    {
      "cell_type": "code",
      "execution_count": 52,
      "metadata": {
        "colab": {
          "base_uri": "https://localhost:8080/"
        },
        "id": "VCfxIOYX639b",
        "outputId": "fbf8175c-597d-48e3-ea04-c2bfa9d1278f"
      },
      "outputs": [
        {
          "output_type": "stream",
          "name": "stderr",
          "text": [
            "Epoch [1/25]: 100%|██████████| 27/27 [00:18<00:00,  1.46it/s]\n",
            "Evaluation: 100%|██████████| 7/7 [00:00<00:00,  9.96it/s]\n"
          ]
        },
        {
          "output_type": "stream",
          "name": "stdout",
          "text": [
            "Epoch [1/25] - Train Loss: 397.1066 - Val Loss: 57.2900 - Val Accuracy: 17.13%\n"
          ]
        },
        {
          "output_type": "stream",
          "name": "stderr",
          "text": [
            "Epoch [2/25]: 100%|██████████| 27/27 [00:14<00:00,  1.83it/s]\n",
            "Evaluation: 100%|██████████| 7/7 [00:00<00:00,  9.55it/s]\n"
          ]
        },
        {
          "output_type": "stream",
          "name": "stdout",
          "text": [
            "Epoch [2/25] - Train Loss: 12.3425 - Val Loss: 17.8025 - Val Accuracy: 14.35%\n"
          ]
        },
        {
          "output_type": "stream",
          "name": "stderr",
          "text": [
            "Epoch [3/25]: 100%|██████████| 27/27 [00:14<00:00,  1.86it/s]\n",
            "Evaluation: 100%|██████████| 7/7 [00:00<00:00, 15.13it/s]\n"
          ]
        },
        {
          "output_type": "stream",
          "name": "stdout",
          "text": [
            "Epoch [3/25] - Train Loss: 4.9722 - Val Loss: 5.3710 - Val Accuracy: 16.67%\n"
          ]
        },
        {
          "output_type": "stream",
          "name": "stderr",
          "text": [
            "Epoch [4/25]: 100%|██████████| 27/27 [00:14<00:00,  1.86it/s]\n",
            "Evaluation: 100%|██████████| 7/7 [00:00<00:00, 15.05it/s]\n"
          ]
        },
        {
          "output_type": "stream",
          "name": "stdout",
          "text": [
            "Epoch [4/25] - Train Loss: 2.3315 - Val Loss: 4.6499 - Val Accuracy: 17.59%\n"
          ]
        },
        {
          "output_type": "stream",
          "name": "stderr",
          "text": [
            "Epoch [5/25]: 100%|██████████| 27/27 [00:14<00:00,  1.84it/s]\n",
            "Evaluation: 100%|██████████| 7/7 [00:00<00:00, 15.72it/s]\n"
          ]
        },
        {
          "output_type": "stream",
          "name": "stdout",
          "text": [
            "Epoch [5/25] - Train Loss: 6.6979 - Val Loss: 73.1976 - Val Accuracy: 16.67%\n"
          ]
        },
        {
          "output_type": "stream",
          "name": "stderr",
          "text": [
            "Epoch [6/25]: 100%|██████████| 27/27 [00:15<00:00,  1.79it/s]\n",
            "Evaluation: 100%|██████████| 7/7 [00:00<00:00, 15.12it/s]\n"
          ]
        },
        {
          "output_type": "stream",
          "name": "stdout",
          "text": [
            "Epoch [6/25] - Train Loss: 5.4630 - Val Loss: 8.1217 - Val Accuracy: 18.06%\n"
          ]
        },
        {
          "output_type": "stream",
          "name": "stderr",
          "text": [
            "Epoch [7/25]: 100%|██████████| 27/27 [00:14<00:00,  1.83it/s]\n",
            "Evaluation: 100%|██████████| 7/7 [00:00<00:00, 15.10it/s]\n"
          ]
        },
        {
          "output_type": "stream",
          "name": "stdout",
          "text": [
            "Epoch [7/25] - Train Loss: 4.1061 - Val Loss: 6.1647 - Val Accuracy: 10.19%\n"
          ]
        },
        {
          "output_type": "stream",
          "name": "stderr",
          "text": [
            "Epoch [8/25]: 100%|██████████| 27/27 [00:14<00:00,  1.83it/s]\n",
            "Evaluation: 100%|██████████| 7/7 [00:00<00:00, 15.05it/s]\n"
          ]
        },
        {
          "output_type": "stream",
          "name": "stdout",
          "text": [
            "Epoch [8/25] - Train Loss: 1.8077 - Val Loss: 6.6155 - Val Accuracy: 14.35%\n"
          ]
        },
        {
          "output_type": "stream",
          "name": "stderr",
          "text": [
            "Epoch [9/25]: 100%|██████████| 27/27 [00:14<00:00,  1.81it/s]\n",
            "Evaluation: 100%|██████████| 7/7 [00:00<00:00, 14.35it/s]\n"
          ]
        },
        {
          "output_type": "stream",
          "name": "stdout",
          "text": [
            "Epoch [9/25] - Train Loss: 1.8048 - Val Loss: 6.4768 - Val Accuracy: 15.74%\n"
          ]
        },
        {
          "output_type": "stream",
          "name": "stderr",
          "text": [
            "Epoch [10/25]: 100%|██████████| 27/27 [00:14<00:00,  1.83it/s]\n",
            "Evaluation: 100%|██████████| 7/7 [00:00<00:00, 15.40it/s]\n"
          ]
        },
        {
          "output_type": "stream",
          "name": "stdout",
          "text": [
            "Epoch [10/25] - Train Loss: 1.7977 - Val Loss: 6.7038 - Val Accuracy: 13.89%\n"
          ]
        },
        {
          "output_type": "stream",
          "name": "stderr",
          "text": [
            "Epoch [11/25]: 100%|██████████| 27/27 [00:14<00:00,  1.83it/s]\n",
            "Evaluation: 100%|██████████| 7/7 [00:00<00:00, 14.59it/s]\n"
          ]
        },
        {
          "output_type": "stream",
          "name": "stdout",
          "text": [
            "Epoch [11/25] - Train Loss: 1.8009 - Val Loss: 6.4152 - Val Accuracy: 15.74%\n"
          ]
        },
        {
          "output_type": "stream",
          "name": "stderr",
          "text": [
            "Epoch [12/25]: 100%|██████████| 27/27 [00:14<00:00,  1.83it/s]\n",
            "Evaluation: 100%|██████████| 7/7 [00:00<00:00, 14.94it/s]\n"
          ]
        },
        {
          "output_type": "stream",
          "name": "stdout",
          "text": [
            "Epoch [12/25] - Train Loss: 16.2044 - Val Loss: 7.9742 - Val Accuracy: 19.44%\n"
          ]
        },
        {
          "output_type": "stream",
          "name": "stderr",
          "text": [
            "Epoch [13/25]: 100%|██████████| 27/27 [00:15<00:00,  1.77it/s]\n",
            "Evaluation: 100%|██████████| 7/7 [00:00<00:00, 15.28it/s]\n"
          ]
        },
        {
          "output_type": "stream",
          "name": "stdout",
          "text": [
            "Epoch [13/25] - Train Loss: 10.1111 - Val Loss: 10.9882 - Val Accuracy: 19.44%\n"
          ]
        },
        {
          "output_type": "stream",
          "name": "stderr",
          "text": [
            "Epoch [14/25]: 100%|██████████| 27/27 [00:14<00:00,  1.84it/s]\n",
            "Evaluation: 100%|██████████| 7/7 [00:00<00:00, 10.88it/s]\n"
          ]
        },
        {
          "output_type": "stream",
          "name": "stdout",
          "text": [
            "Epoch [14/25] - Train Loss: 1.8417 - Val Loss: 11.8694 - Val Accuracy: 17.59%\n"
          ]
        },
        {
          "output_type": "stream",
          "name": "stderr",
          "text": [
            "Epoch [15/25]: 100%|██████████| 27/27 [00:14<00:00,  1.82it/s]\n",
            "Evaluation: 100%|██████████| 7/7 [00:00<00:00, 10.10it/s]\n"
          ]
        },
        {
          "output_type": "stream",
          "name": "stdout",
          "text": [
            "Epoch [15/25] - Train Loss: 1.8098 - Val Loss: 11.4415 - Val Accuracy: 17.59%\n"
          ]
        },
        {
          "output_type": "stream",
          "name": "stderr",
          "text": [
            "Epoch [16/25]: 100%|██████████| 27/27 [00:14<00:00,  1.81it/s]\n",
            "Evaluation: 100%|██████████| 7/7 [00:00<00:00,  9.76it/s]\n"
          ]
        },
        {
          "output_type": "stream",
          "name": "stdout",
          "text": [
            "Epoch [16/25] - Train Loss: 1.8188 - Val Loss: 11.8210 - Val Accuracy: 21.30%\n"
          ]
        },
        {
          "output_type": "stream",
          "name": "stderr",
          "text": [
            "Epoch [17/25]: 100%|██████████| 27/27 [00:14<00:00,  1.83it/s]\n",
            "Evaluation: 100%|██████████| 7/7 [00:00<00:00,  9.48it/s]\n"
          ]
        },
        {
          "output_type": "stream",
          "name": "stdout",
          "text": [
            "Epoch [17/25] - Train Loss: 1.8112 - Val Loss: 11.4663 - Val Accuracy: 17.59%\n"
          ]
        },
        {
          "output_type": "stream",
          "name": "stderr",
          "text": [
            "Epoch [18/25]: 100%|██████████| 27/27 [00:15<00:00,  1.79it/s]\n",
            "Evaluation: 100%|██████████| 7/7 [00:00<00:00, 14.94it/s]\n"
          ]
        },
        {
          "output_type": "stream",
          "name": "stdout",
          "text": [
            "Epoch [18/25] - Train Loss: 1.8022 - Val Loss: 11.8259 - Val Accuracy: 20.37%\n"
          ]
        },
        {
          "output_type": "stream",
          "name": "stderr",
          "text": [
            "Epoch [19/25]: 100%|██████████| 27/27 [00:14<00:00,  1.83it/s]\n",
            "Evaluation: 100%|██████████| 7/7 [00:00<00:00, 14.86it/s]\n"
          ]
        },
        {
          "output_type": "stream",
          "name": "stdout",
          "text": [
            "Epoch [19/25] - Train Loss: 1.7984 - Val Loss: 11.5495 - Val Accuracy: 18.06%\n"
          ]
        },
        {
          "output_type": "stream",
          "name": "stderr",
          "text": [
            "Epoch [20/25]: 100%|██████████| 27/27 [00:14<00:00,  1.84it/s]\n",
            "Evaluation: 100%|██████████| 7/7 [00:00<00:00, 15.37it/s]\n"
          ]
        },
        {
          "output_type": "stream",
          "name": "stdout",
          "text": [
            "Epoch [20/25] - Train Loss: 1.8155 - Val Loss: 11.4705 - Val Accuracy: 17.59%\n"
          ]
        },
        {
          "output_type": "stream",
          "name": "stderr",
          "text": [
            "Epoch [21/25]: 100%|██████████| 27/27 [00:14<00:00,  1.84it/s]\n",
            "Evaluation: 100%|██████████| 7/7 [00:00<00:00, 15.09it/s]\n"
          ]
        },
        {
          "output_type": "stream",
          "name": "stdout",
          "text": [
            "Epoch [21/25] - Train Loss: 1.8051 - Val Loss: 12.4130 - Val Accuracy: 18.98%\n"
          ]
        },
        {
          "output_type": "stream",
          "name": "stderr",
          "text": [
            "Epoch [22/25]: 100%|██████████| 27/27 [00:14<00:00,  1.84it/s]\n",
            "Evaluation: 100%|██████████| 7/7 [00:00<00:00, 15.19it/s]\n"
          ]
        },
        {
          "output_type": "stream",
          "name": "stdout",
          "text": [
            "Epoch [22/25] - Train Loss: 1.8060 - Val Loss: 12.1871 - Val Accuracy: 17.59%\n"
          ]
        },
        {
          "output_type": "stream",
          "name": "stderr",
          "text": [
            "Epoch [23/25]: 100%|██████████| 27/27 [00:14<00:00,  1.83it/s]\n",
            "Evaluation: 100%|██████████| 7/7 [00:00<00:00, 15.08it/s]\n"
          ]
        },
        {
          "output_type": "stream",
          "name": "stdout",
          "text": [
            "Epoch [23/25] - Train Loss: 13.6844 - Val Loss: 11.1419 - Val Accuracy: 18.98%\n"
          ]
        },
        {
          "output_type": "stream",
          "name": "stderr",
          "text": [
            "Epoch [24/25]: 100%|██████████| 27/27 [00:15<00:00,  1.76it/s]\n",
            "Evaluation: 100%|██████████| 7/7 [00:00<00:00, 15.44it/s]\n"
          ]
        },
        {
          "output_type": "stream",
          "name": "stdout",
          "text": [
            "Epoch [24/25] - Train Loss: 1.8061 - Val Loss: 12.0517 - Val Accuracy: 18.52%\n"
          ]
        },
        {
          "output_type": "stream",
          "name": "stderr",
          "text": [
            "Epoch [25/25]: 100%|██████████| 27/27 [00:17<00:00,  1.51it/s]\n",
            "Evaluation: 100%|██████████| 7/7 [00:00<00:00, 11.96it/s]"
          ]
        },
        {
          "output_type": "stream",
          "name": "stdout",
          "text": [
            "Epoch [25/25] - Train Loss: 1.7993 - Val Loss: 11.7898 - Val Accuracy: 16.67%\n"
          ]
        },
        {
          "output_type": "stream",
          "name": "stderr",
          "text": [
            "\n"
          ]
        }
      ],
      "source": [
        "model = NNModel()\n",
        "\n",
        "# Define loss function and optimizer\n",
        "criterion = nn.CrossEntropyLoss()\n",
        "optimizer = optim.Adam(model.parameters(), lr=0.01)\n",
        "\n",
        "num_epochs = EPOCHS\n",
        "train_losses_aug = []\n",
        "val_losses_aug = []\n",
        "val_accuracies_aug = []\n",
        "\n",
        "for epoch in range(num_epochs):\n",
        "    model.train()\n",
        "    running_loss = 0.0\n",
        "    for inputs, labels in tqdm(aug_train_loader, desc=f'Epoch [{epoch + 1}/{num_epochs}]'):\n",
        "        optimizer.zero_grad()\n",
        "        outputs = model(inputs)\n",
        "        loss = criterion(outputs, labels)\n",
        "        loss.backward()\n",
        "        optimizer.step()\n",
        "        running_loss += loss.item()\n",
        "\n",
        "    # Calculate and store the training loss\n",
        "    train_losses_aug.append(running_loss / len(aug_train_loader))\n",
        "\n",
        "    # Evaluate the model on the validation set\n",
        "    val_accuracy, val_loss = evaluate_per_epoch(model, val_loader, criterion)\n",
        "    val_losses_aug.append(val_loss)\n",
        "    val_accuracies_aug.append(val_accuracy)\n",
        "\n",
        "    # Print and log the results\n",
        "    print(f'Epoch [{epoch + 1}/{num_epochs}] - Train Loss: {train_losses_aug[-1]:.4f} - Val Loss: {val_loss:.4f} - Val Accuracy: {val_accuracy:.2f}%')\n"
      ]
    },
    {
      "cell_type": "markdown",
      "metadata": {
        "id": "QPUcS_jNDKp7"
      },
      "source": [
        "## Plotting the loss and validation accuracy"
      ]
    },
    {
      "cell_type": "code",
      "execution_count": 53,
      "metadata": {
        "colab": {
          "base_uri": "https://localhost:8080/",
          "height": 388
        },
        "id": "5eGOxK5e7piD",
        "outputId": "02b60ab2-4184-4f03-cee6-be3b2b69aa1c"
      },
      "outputs": [
        {
          "output_type": "display_data",
          "data": {
            "text/plain": [
              "<Figure size 1200x400 with 2 Axes>"
            ],
            "image/png": "[encoded data removed]"
          },
          "metadata": {}
        }
      ],
      "source": [
        "# Determine the x-axis range based on the number of epochs\n",
        "x_range = range(1, num_epochs + 1)\n",
        "\n",
        "# Plot loss and accuracy per epoch (limit x-axis to the number of epochs)\n",
        "plt.figure(figsize=(12, 4))\n",
        "plt.subplot(1, 2, 1)\n",
        "plt.plot(x_range, train_losses_aug[:num_epochs], label='Train Loss')\n",
        "plt.plot(x_range, val_losses_aug[:num_epochs], label='Validation Loss')\n",
        "plt.xlabel('Epoch')\n",
        "plt.ylabel('Loss')\n",
        "plt.legend()\n",
        "\n",
        "plt.subplot(1, 2, 2)\n",
        "plt.plot(x_range, val_accuracies_aug[:num_epochs], label='Validation Accuracy', color='red')\n",
        "plt.xlabel('Epoch')\n",
        "plt.ylabel('Accuracy (%)')\n",
        "plt.legend()\n",
        "plt.show()"
      ]
    },
    {
      "cell_type": "markdown",
      "metadata": {
        "id": "yiByxBeDEBVB"
      },
      "source": [
        "## Testing on test data"
      ]
    },
    {
      "cell_type": "code",
      "execution_count": 54,
      "metadata": {
        "colab": {
          "base_uri": "https://localhost:8080/"
        },
        "id": "gXPegSWFDSwo",
        "outputId": "0e812bf9-0a2e-4ce8-c4fb-2a767538d9a4"
      },
      "outputs": [
        {
          "output_type": "stream",
          "name": "stderr",
          "text": [
            "Evaluation: 100%|██████████| 4/4 [00:00<00:00, 10.64it/s]"
          ]
        },
        {
          "output_type": "stream",
          "name": "stdout",
          "text": [
            "\n",
            "Test Accuracy with Data Augmentation penalty: 15.83%\n",
            "Test Loss with Data Augmentation penalty:  4.9696\n"
          ]
        },
        {
          "output_type": "stream",
          "name": "stderr",
          "text": [
            "\n"
          ]
        }
      ],
      "source": [
        "test_accuracy_aug, test_loss_aug = evaluate_per_epoch(model, test_loader, criterion)\n",
        "print(f'\\nTest Accuracy with Data Augmentation: {test_accuracy_aug:.2f}%')\n",
        "print(f'Test Loss with Data Augmentation:  {np.mean(test_loss_aug):.4f}')"
      ]
    },
    {
      "cell_type": "markdown",
      "metadata": {
        "id": "dBRzhIAeEcbz"
      },
      "source": [
        "# Regularization with Dropout and Optimization with Adam"
      ]
    },
    {
      "cell_type": "code",
      "execution_count": 55,
      "metadata": {
        "id": "ZNom1r3mEJe-"
      },
      "outputs": [],
      "source": [
        "class NNModel_Dropout(nn.Module):\n",
        "    def __init__(self):\n",
        "        super(NNModel_Dropout, self).__init__()\n",
        "        # Define three dense layers with ReLU activation and dropout\n",
        "        self.input_layer = nn.Linear(64 * 64 * 3, 1024)\n",
        "        self.relu1 = nn.ReLU()\n",
        "        self.dropout1 = nn.Dropout(0.5)  # Dropout layer with 20% probability\n",
        "        self.hidden_layer1 = nn.Linear(1024, 12288)\n",
        "        self.relu2 = nn.ReLU()\n",
        "        self.dropout2 = nn.Dropout(0.5)  # Dropout layer with 20% probability\n",
        "        self.hidden_layer2 = nn.Linear(12288, 6)\n",
        "\n",
        "    def forward(self, x):\n",
        "        x = x.view(x.size(0), -1)\n",
        "        x = self.input_layer(x)\n",
        "        x = self.relu1(x)\n",
        "        x = self.dropout1(x)\n",
        "        x = self.hidden_layer1(x)\n",
        "        x = self.relu2(x)\n",
        "        x = self.dropout2(x)\n",
        "        x = self.hidden_layer2(x)\n",
        "        return x\n"
      ]
    },
    {
      "cell_type": "markdown",
      "metadata": {
        "id": "6YWS43mIFg_H"
      },
      "source": [
        "## Initializing model, training and optimization"
      ]
    },
    {
      "cell_type": "code",
      "execution_count": 56,
      "metadata": {
        "id": "N49QmvwiFEmZ"
      },
      "outputs": [],
      "source": [
        "modeld = NNModel_Dropout()\n",
        "criterion = nn.CrossEntropyLoss()\n",
        "optimizer = optim.Adam(modeld.parameters(), lr=0.01)\n",
        "num_epochs = EPOCHS"
      ]
    },
    {
      "cell_type": "code",
      "execution_count": 57,
      "metadata": {
        "colab": {
          "base_uri": "https://localhost:8080/"
        },
        "id": "yDIIv5F7Ft15",
        "outputId": "3f15965d-2dad-471d-9f3b-7886635912e4"
      },
      "outputs": [
        {
          "output_type": "stream",
          "name": "stderr",
          "text": [
            "Evaluation: 100%|██████████| 7/7 [00:00<00:00, 15.02it/s]\n"
          ]
        },
        {
          "output_type": "stream",
          "name": "stdout",
          "text": [
            "Epoch [1/25] - Train Loss: 849.2451 - Val Loss: 25.6297 - Val Accuracy: 14.35%\n"
          ]
        },
        {
          "output_type": "stream",
          "name": "stderr",
          "text": [
            "Evaluation: 100%|██████████| 7/7 [00:00<00:00, 14.95it/s]\n"
          ]
        },
        {
          "output_type": "stream",
          "name": "stdout",
          "text": [
            "Epoch [2/25] - Train Loss: 5.9225 - Val Loss: 4.0468 - Val Accuracy: 14.35%\n"
          ]
        },
        {
          "output_type": "stream",
          "name": "stderr",
          "text": [
            "Evaluation: 100%|██████████| 7/7 [00:00<00:00, 14.80it/s]\n"
          ]
        },
        {
          "output_type": "stream",
          "name": "stdout",
          "text": [
            "Epoch [3/25] - Train Loss: 3.0949 - Val Loss: 4.2180 - Val Accuracy: 18.06%\n"
          ]
        },
        {
          "output_type": "stream",
          "name": "stderr",
          "text": [
            "Evaluation: 100%|██████████| 7/7 [00:00<00:00, 15.17it/s]\n"
          ]
        },
        {
          "output_type": "stream",
          "name": "stdout",
          "text": [
            "Epoch [4/25] - Train Loss: 2.8973 - Val Loss: 3.9032 - Val Accuracy: 17.59%\n"
          ]
        },
        {
          "output_type": "stream",
          "name": "stderr",
          "text": [
            "Evaluation: 100%|██████████| 7/7 [00:00<00:00, 14.91it/s]\n"
          ]
        },
        {
          "output_type": "stream",
          "name": "stdout",
          "text": [
            "Epoch [5/25] - Train Loss: 1.8240 - Val Loss: 3.8940 - Val Accuracy: 17.59%\n"
          ]
        },
        {
          "output_type": "stream",
          "name": "stderr",
          "text": [
            "Evaluation: 100%|██████████| 7/7 [00:00<00:00, 15.20it/s]\n"
          ]
        },
        {
          "output_type": "stream",
          "name": "stdout",
          "text": [
            "Epoch [6/25] - Train Loss: 1.8103 - Val Loss: 4.5369 - Val Accuracy: 15.74%\n"
          ]
        },
        {
          "output_type": "stream",
          "name": "stderr",
          "text": [
            "Evaluation: 100%|██████████| 7/7 [00:00<00:00, 15.35it/s]\n"
          ]
        },
        {
          "output_type": "stream",
          "name": "stdout",
          "text": [
            "Epoch [7/25] - Train Loss: 1.8107 - Val Loss: 3.8903 - Val Accuracy: 17.59%\n"
          ]
        },
        {
          "output_type": "stream",
          "name": "stderr",
          "text": [
            "Evaluation: 100%|██████████| 7/7 [00:00<00:00, 14.37it/s]\n"
          ]
        },
        {
          "output_type": "stream",
          "name": "stdout",
          "text": [
            "Epoch [8/25] - Train Loss: 1.8062 - Val Loss: 3.8860 - Val Accuracy: 15.74%\n"
          ]
        },
        {
          "output_type": "stream",
          "name": "stderr",
          "text": [
            "Evaluation: 100%|██████████| 7/7 [00:00<00:00,  9.94it/s]\n"
          ]
        },
        {
          "output_type": "stream",
          "name": "stdout",
          "text": [
            "Epoch [9/25] - Train Loss: 1.8043 - Val Loss: 3.8914 - Val Accuracy: 15.74%\n"
          ]
        },
        {
          "output_type": "stream",
          "name": "stderr",
          "text": [
            "Evaluation: 100%|██████████| 7/7 [00:00<00:00, 10.38it/s]\n"
          ]
        },
        {
          "output_type": "stream",
          "name": "stdout",
          "text": [
            "Epoch [10/25] - Train Loss: 1.7979 - Val Loss: 3.8892 - Val Accuracy: 14.35%\n"
          ]
        },
        {
          "output_type": "stream",
          "name": "stderr",
          "text": [
            "Evaluation: 100%|██████████| 7/7 [00:00<00:00, 10.21it/s]\n"
          ]
        },
        {
          "output_type": "stream",
          "name": "stdout",
          "text": [
            "Epoch [11/25] - Train Loss: 1.8071 - Val Loss: 3.8840 - Val Accuracy: 14.35%\n"
          ]
        },
        {
          "output_type": "stream",
          "name": "stderr",
          "text": [
            "Evaluation: 100%|██████████| 7/7 [00:00<00:00, 10.16it/s]\n"
          ]
        },
        {
          "output_type": "stream",
          "name": "stdout",
          "text": [
            "Epoch [12/25] - Train Loss: 1.8052 - Val Loss: 3.8849 - Val Accuracy: 15.74%\n"
          ]
        },
        {
          "output_type": "stream",
          "name": "stderr",
          "text": [
            "Evaluation: 100%|██████████| 7/7 [00:00<00:00, 10.37it/s]\n"
          ]
        },
        {
          "output_type": "stream",
          "name": "stdout",
          "text": [
            "Epoch [13/25] - Train Loss: 1.8020 - Val Loss: 3.8931 - Val Accuracy: 14.35%\n"
          ]
        },
        {
          "output_type": "stream",
          "name": "stderr",
          "text": [
            "Evaluation: 100%|██████████| 7/7 [00:00<00:00,  9.83it/s]\n"
          ]
        },
        {
          "output_type": "stream",
          "name": "stdout",
          "text": [
            "Epoch [14/25] - Train Loss: 1.8021 - Val Loss: 3.8851 - Val Accuracy: 17.59%\n"
          ]
        },
        {
          "output_type": "stream",
          "name": "stderr",
          "text": [
            "Evaluation: 100%|██████████| 7/7 [00:00<00:00, 12.22it/s]\n"
          ]
        },
        {
          "output_type": "stream",
          "name": "stdout",
          "text": [
            "Epoch [15/25] - Train Loss: 1.8032 - Val Loss: 3.9369 - Val Accuracy: 16.20%\n"
          ]
        },
        {
          "output_type": "stream",
          "name": "stderr",
          "text": [
            "Evaluation: 100%|██████████| 7/7 [00:00<00:00, 15.21it/s]\n"
          ]
        },
        {
          "output_type": "stream",
          "name": "stdout",
          "text": [
            "Epoch [16/25] - Train Loss: 1.8051 - Val Loss: 3.8881 - Val Accuracy: 15.74%\n"
          ]
        },
        {
          "output_type": "stream",
          "name": "stderr",
          "text": [
            "Evaluation: 100%|██████████| 7/7 [00:00<00:00, 15.02it/s]\n"
          ]
        },
        {
          "output_type": "stream",
          "name": "stdout",
          "text": [
            "Epoch [17/25] - Train Loss: 1.8040 - Val Loss: 4.5294 - Val Accuracy: 17.59%\n"
          ]
        },
        {
          "output_type": "stream",
          "name": "stderr",
          "text": [
            "Evaluation: 100%|██████████| 7/7 [00:00<00:00, 15.14it/s]\n"
          ]
        },
        {
          "output_type": "stream",
          "name": "stdout",
          "text": [
            "Epoch [18/25] - Train Loss: 1.7979 - Val Loss: 3.8825 - Val Accuracy: 17.59%\n"
          ]
        },
        {
          "output_type": "stream",
          "name": "stderr",
          "text": [
            "Evaluation: 100%|██████████| 7/7 [00:00<00:00, 15.13it/s]\n"
          ]
        },
        {
          "output_type": "stream",
          "name": "stdout",
          "text": [
            "Epoch [19/25] - Train Loss: 1.8039 - Val Loss: 3.8873 - Val Accuracy: 14.35%\n"
          ]
        },
        {
          "output_type": "stream",
          "name": "stderr",
          "text": [
            "Evaluation: 100%|██████████| 7/7 [00:00<00:00, 15.25it/s]\n"
          ]
        },
        {
          "output_type": "stream",
          "name": "stdout",
          "text": [
            "Epoch [20/25] - Train Loss: 1.8037 - Val Loss: 4.5317 - Val Accuracy: 14.35%\n"
          ]
        },
        {
          "output_type": "stream",
          "name": "stderr",
          "text": [
            "Evaluation: 100%|██████████| 7/7 [00:00<00:00, 14.32it/s]\n"
          ]
        },
        {
          "output_type": "stream",
          "name": "stdout",
          "text": [
            "Epoch [21/25] - Train Loss: 1.8010 - Val Loss: 4.5306 - Val Accuracy: 16.20%\n"
          ]
        },
        {
          "output_type": "stream",
          "name": "stderr",
          "text": [
            "Evaluation: 100%|██████████| 7/7 [00:00<00:00, 14.59it/s]\n"
          ]
        },
        {
          "output_type": "stream",
          "name": "stdout",
          "text": [
            "Epoch [22/25] - Train Loss: 1.7994 - Val Loss: 3.8854 - Val Accuracy: 14.35%\n"
          ]
        },
        {
          "output_type": "stream",
          "name": "stderr",
          "text": [
            "Evaluation: 100%|██████████| 7/7 [00:00<00:00, 13.09it/s]\n"
          ]
        },
        {
          "output_type": "stream",
          "name": "stdout",
          "text": [
            "Epoch [23/25] - Train Loss: 1.8018 - Val Loss: 3.9348 - Val Accuracy: 15.74%\n"
          ]
        },
        {
          "output_type": "stream",
          "name": "stderr",
          "text": [
            "Evaluation: 100%|██████████| 7/7 [00:00<00:00, 14.82it/s]\n"
          ]
        },
        {
          "output_type": "stream",
          "name": "stdout",
          "text": [
            "Epoch [24/25] - Train Loss: 1.7957 - Val Loss: 3.8841 - Val Accuracy: 16.20%\n"
          ]
        },
        {
          "output_type": "stream",
          "name": "stderr",
          "text": [
            "Evaluation: 100%|██████████| 7/7 [00:00<00:00, 14.95it/s]"
          ]
        },
        {
          "output_type": "stream",
          "name": "stdout",
          "text": [
            "Epoch [25/25] - Train Loss: 1.7972 - Val Loss: 3.8860 - Val Accuracy: 14.35%\n",
            "Training completed.\n"
          ]
        },
        {
          "output_type": "stream",
          "name": "stderr",
          "text": [
            "\n"
          ]
        }
      ],
      "source": [
        "# Lists to store training loss, validation loss, and validation accuracy\n",
        "train_losses_drp = []\n",
        "val_losses_drp = []\n",
        "val_accuracies_drp = []\n",
        "\n",
        "for epoch in range(num_epochs):\n",
        "    modeld.train()\n",
        "    running_loss = 0.0\n",
        "    for inputs, labels in train_loader:\n",
        "        optimizer.zero_grad()\n",
        "        outputs = modeld(inputs)\n",
        "        loss = criterion(outputs, labels)\n",
        "        loss.backward()\n",
        "        optimizer.step()\n",
        "        running_loss += loss.item()\n",
        "\n",
        "    train_losses_drp.append(running_loss / len(train_loader))\n",
        "\n",
        "    # Evaluate the model on the validation set and get validation loss and accuracy\n",
        "    val_accuracy, val_loss = evaluate_per_epoch(modeld, val_loader, criterion)\n",
        "    val_losses_drp.append(val_loss)  # Append the last validation loss\n",
        "    val_accuracies_drp.append(val_accuracy)\n",
        "\n",
        "    # Print and log the results for this epoch\n",
        "    print(f'Epoch [{epoch + 1}/{num_epochs}] - Train Loss: {train_losses_drp[-1]:.4f} - Val Loss: {val_loss:.4f} - Val Accuracy: {val_accuracy:.2f}%')\n",
        "\n",
        "print('Training completed.')"
      ]
    },
    {
      "cell_type": "code",
      "execution_count": null,
      "metadata": {
        "colab": {
          "base_uri": "https://localhost:8080/",
          "height": 388
        },
        "id": "YWsSLVT5GWix",
        "outputId": "22aa388c-3e6f-4957-f1ce-7fcdc4922d7c"
      },
      "outputs": [
        {
          "output_type": "display_data",
          "data": {
            "text/plain": [
              "<Figure size 1200x400 with 2 Axes>"
            ],
            "image/png": "[encoded data removed]"
          },
          "metadata": {}
        }
      ],
      "source": [
        "# Determine the x-axis range based on the number of epochs\n",
        "x_range = range(1, num_epochs + 1)\n",
        "\n",
        "# Plot loss and accuracy per epoch (limit x-axis to the number of epochs)\n",
        "plt.figure(figsize=(12, 4))\n",
        "plt.subplot(1, 2, 1)\n",
        "plt.plot(x_range, train_losses_drp[:num_epochs], label='Train Loss')\n",
        "plt.plot(x_range, val_losses_drp[:num_epochs], label='Validation Loss')\n",
        "plt.xlabel('Epoch')\n",
        "plt.ylabel('Loss')\n",
        "plt.legend()\n",
        "\n",
        "plt.subplot(1, 2, 2)\n",
        "plt.plot(x_range, val_accuracies_drp[:num_epochs], label='Validation Accuracy', color='red')\n",
        "plt.xlabel('Epoch')\n",
        "plt.ylabel('Accuracy (%)')\n",
        "plt.legend()\n",
        "plt.show()"
      ]
    },
    {
      "cell_type": "markdown",
      "metadata": {
        "id": "h3Pyq4AZHQ9i"
      },
      "source": [
        "## Testing on test data"
      ]
    },
    {
      "cell_type": "code",
      "execution_count": null,
      "metadata": {
        "colab": {
          "base_uri": "https://localhost:8080/"
        },
        "id": "-x_Ilto-GhXN",
        "outputId": "cffd1195-b145-4e2b-9d3c-5495b5c81989"
      },
      "outputs": [
        {
          "output_type": "stream",
          "name": "stderr",
          "text": [
            "Evaluation: 100%|██████████| 4/4 [00:00<00:00, 15.07it/s]"
          ]
        },
        {
          "output_type": "stream",
          "name": "stdout",
          "text": [
            "\n",
            "Test Accuracy with L2-norm penalty: 16.67%\n",
            "Test Loss with L2-norm penalty: 1.7924\n"
          ]
        },
        {
          "output_type": "stream",
          "name": "stderr",
          "text": [
            "\n"
          ]
        }
      ],
      "source": [
        "test_accuracy_drp, test_loss_drp= evaluate_per_epoch(modeld, test_loader, criterion)\n",
        "print(f'\\nTest Accuracy with Dropout: {test_accuracy_drp:.2f}%')\n",
        "print(f'Test Loss with Dropout: {np.mean(test_loss_drp):.4f}')"
      ]
    },
    {
      "cell_type": "markdown",
      "metadata": {
        "id": "Omj9OFWtI1Vr"
      },
      "source": [
        "# Experimenting with different Optimizers"
      ]
    },
    {
      "cell_type": "markdown",
      "metadata": {
        "id": "7MGblNcLJMEo"
      },
      "source": [
        "## Gradient Descent"
      ]
    },
    {
      "cell_type": "code",
      "execution_count": 58,
      "metadata": {
        "id": "pBFja6LUHYtH"
      },
      "outputs": [],
      "source": [
        "num_epochs=EPOCHS\n",
        "weight_decay=0.001\n",
        "learning_rate = 0.001\n",
        "criterion = nn.CrossEntropyLoss()\n",
        "optimizer = optim.SGD(model.parameters(), lr=learning_rate, weight_decay=weight_decay)"
      ]
    },
    {
      "cell_type": "code",
      "execution_count": 59,
      "metadata": {
        "colab": {
          "base_uri": "https://localhost:8080/"
        },
        "id": "92D7S2iNKhxI",
        "outputId": "4622c972-cd29-482c-adf7-1e63fd17a1ec"
      },
      "outputs": [
        {
          "output_type": "stream",
          "name": "stderr",
          "text": [
            "Epoch [1/25]: 100%|██████████| 27/27 [00:13<00:00,  2.01it/s]\n",
            "Evaluation: 100%|██████████| 7/7 [00:00<00:00, 14.88it/s]\n"
          ]
        },
        {
          "output_type": "stream",
          "name": "stdout",
          "text": [
            "Epoch [1/25] - Train Loss: 3.6165 - Val Loss: 2.6680 - Val Accuracy: 18.52%\n"
          ]
        },
        {
          "output_type": "stream",
          "name": "stderr",
          "text": [
            "Epoch [2/25]: 100%|██████████| 27/27 [00:13<00:00,  2.01it/s]\n",
            "Evaluation: 100%|██████████| 7/7 [00:00<00:00, 15.28it/s]\n"
          ]
        },
        {
          "output_type": "stream",
          "name": "stdout",
          "text": [
            "Epoch [2/25] - Train Loss: 2.4831 - Val Loss: 2.1361 - Val Accuracy: 19.44%\n"
          ]
        },
        {
          "output_type": "stream",
          "name": "stderr",
          "text": [
            "Epoch [3/25]: 100%|██████████| 27/27 [00:13<00:00,  2.03it/s]\n",
            "Evaluation: 100%|██████████| 7/7 [00:00<00:00, 15.37it/s]\n"
          ]
        },
        {
          "output_type": "stream",
          "name": "stdout",
          "text": [
            "Epoch [3/25] - Train Loss: 2.3019 - Val Loss: 1.9792 - Val Accuracy: 25.93%\n"
          ]
        },
        {
          "output_type": "stream",
          "name": "stderr",
          "text": [
            "Epoch [4/25]: 100%|██████████| 27/27 [00:13<00:00,  2.02it/s]\n",
            "Evaluation: 100%|██████████| 7/7 [00:00<00:00, 14.77it/s]\n"
          ]
        },
        {
          "output_type": "stream",
          "name": "stdout",
          "text": [
            "Epoch [4/25] - Train Loss: 2.2493 - Val Loss: 1.9734 - Val Accuracy: 20.83%\n"
          ]
        },
        {
          "output_type": "stream",
          "name": "stderr",
          "text": [
            "Epoch [5/25]: 100%|██████████| 27/27 [00:13<00:00,  2.01it/s]\n",
            "Evaluation: 100%|██████████| 7/7 [00:00<00:00, 15.25it/s]\n"
          ]
        },
        {
          "output_type": "stream",
          "name": "stdout",
          "text": [
            "Epoch [5/25] - Train Loss: 2.2278 - Val Loss: 1.9407 - Val Accuracy: 19.91%\n"
          ]
        },
        {
          "output_type": "stream",
          "name": "stderr",
          "text": [
            "Epoch [6/25]: 100%|██████████| 27/27 [00:13<00:00,  2.00it/s]\n",
            "Evaluation: 100%|██████████| 7/7 [00:00<00:00, 15.08it/s]\n"
          ]
        },
        {
          "output_type": "stream",
          "name": "stdout",
          "text": [
            "Epoch [6/25] - Train Loss: 2.2078 - Val Loss: 1.9318 - Val Accuracy: 23.15%\n"
          ]
        },
        {
          "output_type": "stream",
          "name": "stderr",
          "text": [
            "Epoch [7/25]: 100%|██████████| 27/27 [00:13<00:00,  2.00it/s]\n",
            "Evaluation: 100%|██████████| 7/7 [00:00<00:00, 15.18it/s]\n"
          ]
        },
        {
          "output_type": "stream",
          "name": "stdout",
          "text": [
            "Epoch [7/25] - Train Loss: 2.2139 - Val Loss: 1.9090 - Val Accuracy: 25.00%\n"
          ]
        },
        {
          "output_type": "stream",
          "name": "stderr",
          "text": [
            "Epoch [8/25]: 100%|██████████| 27/27 [00:13<00:00,  2.01it/s]\n",
            "Evaluation: 100%|██████████| 7/7 [00:00<00:00, 15.02it/s]\n"
          ]
        },
        {
          "output_type": "stream",
          "name": "stdout",
          "text": [
            "Epoch [8/25] - Train Loss: 2.1798 - Val Loss: 1.8627 - Val Accuracy: 36.57%\n"
          ]
        },
        {
          "output_type": "stream",
          "name": "stderr",
          "text": [
            "Epoch [9/25]: 100%|██████████| 27/27 [00:13<00:00,  2.02it/s]\n",
            "Evaluation: 100%|██████████| 7/7 [00:00<00:00, 15.27it/s]\n"
          ]
        },
        {
          "output_type": "stream",
          "name": "stdout",
          "text": [
            "Epoch [9/25] - Train Loss: 2.1479 - Val Loss: 1.9229 - Val Accuracy: 21.30%\n"
          ]
        },
        {
          "output_type": "stream",
          "name": "stderr",
          "text": [
            "Epoch [10/25]: 100%|██████████| 27/27 [00:13<00:00,  2.02it/s]\n",
            "Evaluation: 100%|██████████| 7/7 [00:00<00:00, 14.93it/s]\n"
          ]
        },
        {
          "output_type": "stream",
          "name": "stdout",
          "text": [
            "Epoch [10/25] - Train Loss: 2.1491 - Val Loss: 1.8037 - Val Accuracy: 31.48%\n"
          ]
        },
        {
          "output_type": "stream",
          "name": "stderr",
          "text": [
            "Epoch [11/25]: 100%|██████████| 27/27 [00:13<00:00,  2.02it/s]\n",
            "Evaluation: 100%|██████████| 7/7 [00:00<00:00, 13.47it/s]\n"
          ]
        },
        {
          "output_type": "stream",
          "name": "stdout",
          "text": [
            "Epoch [11/25] - Train Loss: 2.1003 - Val Loss: 1.9265 - Val Accuracy: 23.15%\n"
          ]
        },
        {
          "output_type": "stream",
          "name": "stderr",
          "text": [
            "Epoch [12/25]: 100%|██████████| 27/27 [00:13<00:00,  2.05it/s]\n",
            "Evaluation: 100%|██████████| 7/7 [00:00<00:00, 10.34it/s]\n"
          ]
        },
        {
          "output_type": "stream",
          "name": "stdout",
          "text": [
            "Epoch [12/25] - Train Loss: 2.1980 - Val Loss: 1.9472 - Val Accuracy: 27.31%\n"
          ]
        },
        {
          "output_type": "stream",
          "name": "stderr",
          "text": [
            "Epoch [13/25]: 100%|██████████| 27/27 [00:12<00:00,  2.08it/s]\n",
            "Evaluation: 100%|██████████| 7/7 [00:00<00:00, 10.06it/s]\n"
          ]
        },
        {
          "output_type": "stream",
          "name": "stdout",
          "text": [
            "Epoch [13/25] - Train Loss: 2.1457 - Val Loss: 1.7465 - Val Accuracy: 36.11%\n"
          ]
        },
        {
          "output_type": "stream",
          "name": "stderr",
          "text": [
            "Epoch [14/25]: 100%|██████████| 27/27 [00:13<00:00,  2.06it/s]\n",
            "Evaluation: 100%|██████████| 7/7 [00:00<00:00, 10.15it/s]\n"
          ]
        },
        {
          "output_type": "stream",
          "name": "stdout",
          "text": [
            "Epoch [14/25] - Train Loss: 2.0282 - Val Loss: 1.7435 - Val Accuracy: 39.81%\n"
          ]
        },
        {
          "output_type": "stream",
          "name": "stderr",
          "text": [
            "Epoch [15/25]: 100%|██████████| 27/27 [00:13<00:00,  2.08it/s]\n",
            "Evaluation: 100%|██████████| 7/7 [00:00<00:00, 10.24it/s]\n"
          ]
        },
        {
          "output_type": "stream",
          "name": "stdout",
          "text": [
            "Epoch [15/25] - Train Loss: 2.0064 - Val Loss: 1.7337 - Val Accuracy: 35.19%\n"
          ]
        },
        {
          "output_type": "stream",
          "name": "stderr",
          "text": [
            "Epoch [16/25]: 100%|██████████| 27/27 [00:13<00:00,  2.05it/s]\n",
            "Evaluation: 100%|██████████| 7/7 [00:00<00:00, 10.33it/s]\n"
          ]
        },
        {
          "output_type": "stream",
          "name": "stdout",
          "text": [
            "Epoch [16/25] - Train Loss: 1.9852 - Val Loss: 1.7501 - Val Accuracy: 29.63%\n"
          ]
        },
        {
          "output_type": "stream",
          "name": "stderr",
          "text": [
            "Epoch [17/25]: 100%|██████████| 27/27 [00:13<00:00,  2.06it/s]\n",
            "Evaluation: 100%|██████████| 7/7 [00:00<00:00,  9.84it/s]\n"
          ]
        },
        {
          "output_type": "stream",
          "name": "stdout",
          "text": [
            "Epoch [17/25] - Train Loss: 1.9445 - Val Loss: 1.7451 - Val Accuracy: 41.67%\n"
          ]
        },
        {
          "output_type": "stream",
          "name": "stderr",
          "text": [
            "Epoch [18/25]: 100%|██████████| 27/27 [00:13<00:00,  2.06it/s]\n",
            "Evaluation: 100%|██████████| 7/7 [00:00<00:00,  9.88it/s]\n"
          ]
        },
        {
          "output_type": "stream",
          "name": "stdout",
          "text": [
            "Epoch [18/25] - Train Loss: 1.9201 - Val Loss: 1.6549 - Val Accuracy: 36.57%\n"
          ]
        },
        {
          "output_type": "stream",
          "name": "stderr",
          "text": [
            "Epoch [19/25]: 100%|██████████| 27/27 [00:13<00:00,  2.05it/s]\n",
            "Evaluation: 100%|██████████| 7/7 [00:00<00:00, 11.39it/s]\n"
          ]
        },
        {
          "output_type": "stream",
          "name": "stdout",
          "text": [
            "Epoch [19/25] - Train Loss: 1.9586 - Val Loss: 1.6946 - Val Accuracy: 41.67%\n"
          ]
        },
        {
          "output_type": "stream",
          "name": "stderr",
          "text": [
            "Epoch [20/25]: 100%|██████████| 27/27 [00:13<00:00,  2.03it/s]\n",
            "Evaluation: 100%|██████████| 7/7 [00:00<00:00, 15.23it/s]\n"
          ]
        },
        {
          "output_type": "stream",
          "name": "stdout",
          "text": [
            "Epoch [20/25] - Train Loss: 1.8346 - Val Loss: 1.5943 - Val Accuracy: 47.69%\n"
          ]
        },
        {
          "output_type": "stream",
          "name": "stderr",
          "text": [
            "Epoch [21/25]: 100%|██████████| 27/27 [00:13<00:00,  2.02it/s]\n",
            "Evaluation: 100%|██████████| 7/7 [00:00<00:00, 15.51it/s]\n"
          ]
        },
        {
          "output_type": "stream",
          "name": "stdout",
          "text": [
            "Epoch [21/25] - Train Loss: 1.8099 - Val Loss: 1.6132 - Val Accuracy: 40.28%\n"
          ]
        },
        {
          "output_type": "stream",
          "name": "stderr",
          "text": [
            "Epoch [22/25]: 100%|██████████| 27/27 [00:13<00:00,  2.02it/s]\n",
            "Evaluation: 100%|██████████| 7/7 [00:00<00:00, 15.02it/s]\n"
          ]
        },
        {
          "output_type": "stream",
          "name": "stdout",
          "text": [
            "Epoch [22/25] - Train Loss: 1.7932 - Val Loss: 1.6407 - Val Accuracy: 41.67%\n"
          ]
        },
        {
          "output_type": "stream",
          "name": "stderr",
          "text": [
            "Epoch [23/25]: 100%|██████████| 27/27 [00:13<00:00,  2.02it/s]\n",
            "Evaluation: 100%|██████████| 7/7 [00:00<00:00, 15.21it/s]\n"
          ]
        },
        {
          "output_type": "stream",
          "name": "stdout",
          "text": [
            "Epoch [23/25] - Train Loss: 1.8319 - Val Loss: 1.4930 - Val Accuracy: 52.31%\n"
          ]
        },
        {
          "output_type": "stream",
          "name": "stderr",
          "text": [
            "Epoch [24/25]: 100%|██████████| 27/27 [00:13<00:00,  2.01it/s]\n",
            "Evaluation: 100%|██████████| 7/7 [00:00<00:00, 15.37it/s]\n"
          ]
        },
        {
          "output_type": "stream",
          "name": "stdout",
          "text": [
            "Epoch [24/25] - Train Loss: 1.6837 - Val Loss: 1.5331 - Val Accuracy: 43.06%\n"
          ]
        },
        {
          "output_type": "stream",
          "name": "stderr",
          "text": [
            "Epoch [25/25]: 100%|██████████| 27/27 [00:13<00:00,  2.02it/s]\n",
            "Evaluation: 100%|██████████| 7/7 [00:00<00:00, 14.97it/s]"
          ]
        },
        {
          "output_type": "stream",
          "name": "stdout",
          "text": [
            "Epoch [25/25] - Train Loss: 1.5849 - Val Loss: 1.4837 - Val Accuracy: 52.31%\n"
          ]
        },
        {
          "output_type": "stream",
          "name": "stderr",
          "text": [
            "\n"
          ]
        }
      ],
      "source": [
        "# Training loop with evaluation and plotting\n",
        "train_losses_l2_gd = []\n",
        "val_losses_l2_gd = []\n",
        "val_accuracies_l2_gd = []\n",
        "\n",
        "for epoch in range(num_epochs):\n",
        "    model.train()\n",
        "    train_loss_gd = 0.0\n",
        "    for inputs, labels in tqdm(train_loader, desc=f'Epoch [{epoch + 1}/{num_epochs}]'):\n",
        "        optimizer.zero_grad()\n",
        "        outputs = model(inputs)\n",
        "        loss_gd = criterion(outputs, labels)\n",
        "\n",
        "        # Calculate L2-norm penalty\n",
        "        l2_penalty_gd = 0.0\n",
        "        for param in model.parameters():\n",
        "            l2_penalty_gd += torch.norm(param, 2)\n",
        "\n",
        "        loss_gd += weight_decay * l2_penalty_gd\n",
        "\n",
        "        loss_gd.backward()\n",
        "        optimizer.step()\n",
        "        train_loss_gd += loss_gd.item()\n",
        "\n",
        "    train_losses_l2_gd.append(train_loss_gd / len(train_loader))\n",
        "\n",
        "    # Evaluate the model after each epoch and collect accuracy and loss\n",
        "    val_accuracy_gd, val_loss_gd = evaluate_per_epoch(model, val_loader, criterion)\n",
        "    val_losses_l2_gd.append(val_loss_gd)\n",
        "    val_accuracies_l2_gd.append(val_accuracy_gd)\n",
        "    print(f'Epoch [{epoch + 1}/{num_epochs}] - Train Loss: {train_losses_l2_gd[-1]:.4f} - Val Loss: {val_loss_gd:.4f} - Val Accuracy: {val_accuracy_gd:.2f}%')\n"
      ]
    },
    {
      "cell_type": "code",
      "execution_count": 60,
      "metadata": {
        "colab": {
          "base_uri": "https://localhost:8080/",
          "height": 388
        },
        "id": "fWga-Ro4K0fq",
        "outputId": "8cf84833-5f29-4b96-9e9e-a2f2af5d7e69"
      },
      "outputs": [
        {
          "output_type": "display_data",
          "data": {
            "text/plain": [
              "<Figure size 1200x400 with 2 Axes>"
            ],
            "image/png": "[encoded data removed]"
          },
          "metadata": {}
        }
      ],
      "source": [
        "# Determine the x-axis range based on the number of epochs\n",
        "x_range = range(1, num_epochs + 1)\n",
        "\n",
        "# Plot loss and accuracy per epoch (limit x-axis to the number of epochs)\n",
        "plt.figure(figsize=(12, 4))\n",
        "plt.subplot(1, 2, 1)\n",
        "plt.plot(x_range, train_losses_l2_gd[:num_epochs], label='Train Loss')\n",
        "plt.plot(x_range, val_losses_l2_gd[:num_epochs], label='Validation Loss')\n",
        "plt.xlabel('Epoch')\n",
        "plt.ylabel('Loss')\n",
        "plt.legend()\n",
        "\n",
        "plt.subplot(1, 2, 2)\n",
        "plt.plot(x_range, val_accuracies_l2_gd[:num_epochs], label='Validation Accuracy', color='red')\n",
        "plt.xlabel('Epoch')\n",
        "plt.ylabel('Accuracy (%)')\n",
        "plt.legend()\n",
        "plt.show()\n"
      ]
    },
    {
      "cell_type": "code",
      "execution_count": 61,
      "metadata": {
        "id": "eCEZCbeTLTxs",
        "colab": {
          "base_uri": "https://localhost:8080/"
        },
        "outputId": "afd75989-bc1e-46fe-c4fd-fded528c38a3"
      },
      "outputs": [
        {
          "output_type": "stream",
          "name": "stderr",
          "text": [
            "Evaluation: 100%|██████████| 4/4 [00:00<00:00, 10.33it/s]"
          ]
        },
        {
          "output_type": "stream",
          "name": "stdout",
          "text": [
            "\n",
            "Test Accuracy with L2-norm penalty: 54.17%\n",
            "Test Loss with L2-norm penalty: 1.2710\n"
          ]
        },
        {
          "output_type": "stream",
          "name": "stderr",
          "text": [
            "\n"
          ]
        }
      ],
      "source": [
        "test_accuracy_l2_gd, test_loss_l2_gd= evaluate_per_epoch(model, test_loader, criterion)\n",
        "print(f'\\nTest Accuracy with L2-norm penalty: {test_accuracy_l2_gd:.2f}%')\n",
        "print(f'Test Loss with L2-norm penalty: {np.mean(test_loss_l2_gd):.4f}')"
      ]
    },
    {
      "cell_type": "markdown",
      "metadata": {
        "id": "cP0mnKUDqwfL"
      },
      "source": [
        "##Stochastic Gradient Descent (1 example)"
      ]
    },
    {
      "cell_type": "code",
      "execution_count": 62,
      "metadata": {
        "id": "SMdQaoX7q5aW"
      },
      "outputs": [],
      "source": [
        "num_epochs = EPOCHS\n",
        "weight_decay = 0.001\n",
        "learning_rate = 0.001\n",
        "criterion = nn.CrossEntropyLoss()\n",
        "optimizer = optim.SGD(model.parameters(), lr=learning_rate, weight_decay=weight_decay)\n"
      ]
    },
    {
      "cell_type": "markdown",
      "metadata": {
        "id": "4_fPDIDjuPGT"
      },
      "source": [
        "#### Setting the batch size"
      ]
    },
    {
      "cell_type": "code",
      "execution_count": 63,
      "metadata": {
        "id": "CVW_tIUXuTLu"
      },
      "outputs": [],
      "source": [
        "# Modify the data loaders to use a batch size of 1 for SGD with single examples\n",
        "train_loader_sgd_1 = DataLoader(train_dataset, batch_size=1, shuffle=True)\n",
        "val_loader_sgd_1 = DataLoader(val_dataset, batch_size=1, shuffle=False)\n",
        "test_loader_sgd_1 = DataLoader(test_dataset, batch_size=1, shuffle=False)"
      ]
    },
    {
      "cell_type": "code",
      "execution_count": 64,
      "metadata": {
        "colab": {
          "base_uri": "https://localhost:8080/"
        },
        "id": "g_x_QUTgvR-P",
        "outputId": "ea4974aa-7b25-4be4-e069-472c24db41fb"
      },
      "outputs": [
        {
          "output_type": "stream",
          "name": "stderr",
          "text": [
            "Epoch [1/25]: 100%|██████████| 864/864 [05:41<00:00,  2.53it/s]\n",
            "Evaluation: 100%|██████████| 216/216 [00:02<00:00, 90.59it/s]\n"
          ]
        },
        {
          "output_type": "stream",
          "name": "stdout",
          "text": [
            "Epoch [1/25] - Train Loss: 2.3235 - Val Loss: 1.8579 - Val Accuracy: 17.59%\n"
          ]
        },
        {
          "output_type": "stream",
          "name": "stderr",
          "text": [
            "Epoch [2/25]: 100%|██████████| 864/864 [05:40<00:00,  2.53it/s]\n",
            "Evaluation: 100%|██████████| 216/216 [00:02<00:00, 84.62it/s]\n"
          ]
        },
        {
          "output_type": "stream",
          "name": "stdout",
          "text": [
            "Epoch [2/25] - Train Loss: 2.2518 - Val Loss: 1.8581 - Val Accuracy: 17.59%\n"
          ]
        },
        {
          "output_type": "stream",
          "name": "stderr",
          "text": [
            "Epoch [3/25]: 100%|██████████| 864/864 [05:45<00:00,  2.50it/s]\n",
            "Evaluation: 100%|██████████| 216/216 [00:02<00:00, 90.38it/s]\n"
          ]
        },
        {
          "output_type": "stream",
          "name": "stdout",
          "text": [
            "Epoch [3/25] - Train Loss: 2.2414 - Val Loss: 1.8584 - Val Accuracy: 15.74%\n"
          ]
        },
        {
          "output_type": "stream",
          "name": "stderr",
          "text": [
            "Epoch [4/25]: 100%|██████████| 864/864 [05:35<00:00,  2.57it/s]\n",
            "Evaluation: 100%|██████████| 216/216 [00:02<00:00, 72.41it/s]\n"
          ]
        },
        {
          "output_type": "stream",
          "name": "stdout",
          "text": [
            "Epoch [4/25] - Train Loss: 2.2404 - Val Loss: 1.8576 - Val Accuracy: 18.06%\n"
          ]
        },
        {
          "output_type": "stream",
          "name": "stderr",
          "text": [
            "Epoch [5/25]: 100%|██████████| 864/864 [05:45<00:00,  2.50it/s]\n",
            "Evaluation: 100%|██████████| 216/216 [00:02<00:00, 89.13it/s]\n"
          ]
        },
        {
          "output_type": "stream",
          "name": "stdout",
          "text": [
            "Epoch [5/25] - Train Loss: 2.2407 - Val Loss: 1.8580 - Val Accuracy: 15.74%\n"
          ]
        },
        {
          "output_type": "stream",
          "name": "stderr",
          "text": [
            "Epoch [6/25]: 100%|██████████| 864/864 [05:34<00:00,  2.58it/s]\n",
            "Evaluation: 100%|██████████| 216/216 [00:02<00:00, 92.40it/s]\n"
          ]
        },
        {
          "output_type": "stream",
          "name": "stdout",
          "text": [
            "Epoch [6/25] - Train Loss: 2.2402 - Val Loss: 1.8587 - Val Accuracy: 15.74%\n"
          ]
        },
        {
          "output_type": "stream",
          "name": "stderr",
          "text": [
            "Epoch [7/25]: 100%|██████████| 864/864 [05:45<00:00,  2.50it/s]\n",
            "Evaluation: 100%|██████████| 216/216 [00:02<00:00, 92.68it/s]\n"
          ]
        },
        {
          "output_type": "stream",
          "name": "stdout",
          "text": [
            "Epoch [7/25] - Train Loss: 2.2397 - Val Loss: 1.8583 - Val Accuracy: 13.89%\n"
          ]
        },
        {
          "output_type": "stream",
          "name": "stderr",
          "text": [
            "Epoch [8/25]: 100%|██████████| 864/864 [05:44<00:00,  2.51it/s]\n",
            "Evaluation: 100%|██████████| 216/216 [00:02<00:00, 78.41it/s]\n"
          ]
        },
        {
          "output_type": "stream",
          "name": "stdout",
          "text": [
            "Epoch [8/25] - Train Loss: 2.2394 - Val Loss: 1.8583 - Val Accuracy: 15.74%\n"
          ]
        },
        {
          "output_type": "stream",
          "name": "stderr",
          "text": [
            "Epoch [9/25]: 100%|██████████| 864/864 [05:35<00:00,  2.57it/s]\n",
            "Evaluation: 100%|██████████| 216/216 [00:02<00:00, 88.41it/s]\n"
          ]
        },
        {
          "output_type": "stream",
          "name": "stdout",
          "text": [
            "Epoch [9/25] - Train Loss: 2.2388 - Val Loss: 1.8572 - Val Accuracy: 14.35%\n"
          ]
        },
        {
          "output_type": "stream",
          "name": "stderr",
          "text": [
            "Epoch [10/25]: 100%|██████████| 864/864 [05:47<00:00,  2.48it/s]\n",
            "Evaluation: 100%|██████████| 216/216 [00:02<00:00, 77.18it/s]\n"
          ]
        },
        {
          "output_type": "stream",
          "name": "stdout",
          "text": [
            "Epoch [10/25] - Train Loss: 2.2382 - Val Loss: 1.8575 - Val Accuracy: 14.35%\n"
          ]
        },
        {
          "output_type": "stream",
          "name": "stderr",
          "text": [
            "Epoch [11/25]: 100%|██████████| 864/864 [05:35<00:00,  2.57it/s]\n",
            "Evaluation: 100%|██████████| 216/216 [00:02<00:00, 89.97it/s]\n"
          ]
        },
        {
          "output_type": "stream",
          "name": "stdout",
          "text": [
            "Epoch [11/25] - Train Loss: 2.2383 - Val Loss: 1.8572 - Val Accuracy: 14.35%\n"
          ]
        },
        {
          "output_type": "stream",
          "name": "stderr",
          "text": [
            "Epoch [12/25]: 100%|██████████| 864/864 [05:46<00:00,  2.49it/s]\n",
            "Evaluation: 100%|██████████| 216/216 [00:02<00:00, 76.44it/s]\n"
          ]
        },
        {
          "output_type": "stream",
          "name": "stdout",
          "text": [
            "Epoch [12/25] - Train Loss: 2.2374 - Val Loss: 1.8575 - Val Accuracy: 14.35%\n"
          ]
        },
        {
          "output_type": "stream",
          "name": "stderr",
          "text": [
            "Epoch [13/25]: 100%|██████████| 864/864 [05:39<00:00,  2.55it/s]\n",
            "Evaluation: 100%|██████████| 216/216 [00:02<00:00, 87.07it/s]\n"
          ]
        },
        {
          "output_type": "stream",
          "name": "stdout",
          "text": [
            "Epoch [13/25] - Train Loss: 2.2375 - Val Loss: 1.8566 - Val Accuracy: 14.35%\n"
          ]
        },
        {
          "output_type": "stream",
          "name": "stderr",
          "text": [
            "Epoch [14/25]: 100%|██████████| 864/864 [05:48<00:00,  2.48it/s]\n",
            "Evaluation: 100%|██████████| 216/216 [00:02<00:00, 84.89it/s]\n"
          ]
        },
        {
          "output_type": "stream",
          "name": "stdout",
          "text": [
            "Epoch [14/25] - Train Loss: 2.2369 - Val Loss: 1.8565 - Val Accuracy: 15.74%\n"
          ]
        },
        {
          "output_type": "stream",
          "name": "stderr",
          "text": [
            "Epoch [15/25]: 100%|██████████| 864/864 [05:47<00:00,  2.48it/s]\n",
            "Evaluation: 100%|██████████| 216/216 [00:02<00:00, 78.28it/s]\n"
          ]
        },
        {
          "output_type": "stream",
          "name": "stdout",
          "text": [
            "Epoch [15/25] - Train Loss: 2.2365 - Val Loss: 1.8557 - Val Accuracy: 15.74%\n"
          ]
        },
        {
          "output_type": "stream",
          "name": "stderr",
          "text": [
            "Epoch [16/25]: 100%|██████████| 864/864 [05:36<00:00,  2.57it/s]\n",
            "Evaluation: 100%|██████████| 216/216 [00:02<00:00, 90.28it/s]\n"
          ]
        },
        {
          "output_type": "stream",
          "name": "stdout",
          "text": [
            "Epoch [16/25] - Train Loss: 2.2363 - Val Loss: 1.8562 - Val Accuracy: 14.35%\n"
          ]
        },
        {
          "output_type": "stream",
          "name": "stderr",
          "text": [
            "Epoch [17/25]: 100%|██████████| 864/864 [05:47<00:00,  2.49it/s]\n",
            "Evaluation: 100%|██████████| 216/216 [00:02<00:00, 76.02it/s]\n"
          ]
        },
        {
          "output_type": "stream",
          "name": "stdout",
          "text": [
            "Epoch [17/25] - Train Loss: 2.2356 - Val Loss: 1.8561 - Val Accuracy: 14.35%\n"
          ]
        },
        {
          "output_type": "stream",
          "name": "stderr",
          "text": [
            "Epoch [18/25]: 100%|██████████| 864/864 [05:36<00:00,  2.57it/s]\n",
            "Evaluation: 100%|██████████| 216/216 [00:02<00:00, 89.42it/s]\n"
          ]
        },
        {
          "output_type": "stream",
          "name": "stdout",
          "text": [
            "Epoch [18/25] - Train Loss: 2.2352 - Val Loss: 1.8556 - Val Accuracy: 14.35%\n"
          ]
        },
        {
          "output_type": "stream",
          "name": "stderr",
          "text": [
            "Epoch [19/25]: 100%|██████████| 864/864 [05:45<00:00,  2.50it/s]\n",
            "Evaluation: 100%|██████████| 216/216 [00:02<00:00, 78.48it/s]\n"
          ]
        },
        {
          "output_type": "stream",
          "name": "stdout",
          "text": [
            "Epoch [19/25] - Train Loss: 2.2348 - Val Loss: 1.8562 - Val Accuracy: 14.35%\n"
          ]
        },
        {
          "output_type": "stream",
          "name": "stderr",
          "text": [
            "Epoch [20/25]: 100%|██████████| 864/864 [05:36<00:00,  2.57it/s]\n",
            "Evaluation: 100%|██████████| 216/216 [00:02<00:00, 82.18it/s]\n"
          ]
        },
        {
          "output_type": "stream",
          "name": "stdout",
          "text": [
            "Epoch [20/25] - Train Loss: 2.2343 - Val Loss: 1.8562 - Val Accuracy: 14.35%\n"
          ]
        },
        {
          "output_type": "stream",
          "name": "stderr",
          "text": [
            "Epoch [21/25]: 100%|██████████| 864/864 [05:47<00:00,  2.49it/s]\n",
            "Evaluation: 100%|██████████| 216/216 [00:02<00:00, 78.51it/s]\n"
          ]
        },
        {
          "output_type": "stream",
          "name": "stdout",
          "text": [
            "Epoch [21/25] - Train Loss: 2.2343 - Val Loss: 1.8552 - Val Accuracy: 14.35%\n"
          ]
        },
        {
          "output_type": "stream",
          "name": "stderr",
          "text": [
            "Epoch [22/25]: 100%|██████████| 864/864 [05:35<00:00,  2.58it/s]\n",
            "Evaluation: 100%|██████████| 216/216 [00:02<00:00, 79.98it/s]\n"
          ]
        },
        {
          "output_type": "stream",
          "name": "stdout",
          "text": [
            "Epoch [22/25] - Train Loss: 2.2336 - Val Loss: 1.8551 - Val Accuracy: 15.74%\n"
          ]
        },
        {
          "output_type": "stream",
          "name": "stderr",
          "text": [
            "Epoch [23/25]: 100%|██████████| 864/864 [05:46<00:00,  2.49it/s]\n",
            "Evaluation: 100%|██████████| 216/216 [00:02<00:00, 85.32it/s]\n"
          ]
        },
        {
          "output_type": "stream",
          "name": "stdout",
          "text": [
            "Epoch [23/25] - Train Loss: 2.2335 - Val Loss: 1.8543 - Val Accuracy: 15.74%\n"
          ]
        },
        {
          "output_type": "stream",
          "name": "stderr",
          "text": [
            "Epoch [24/25]: 100%|██████████| 864/864 [05:46<00:00,  2.50it/s]\n",
            "Evaluation: 100%|██████████| 216/216 [00:02<00:00, 89.52it/s]\n"
          ]
        },
        {
          "output_type": "stream",
          "name": "stdout",
          "text": [
            "Epoch [24/25] - Train Loss: 2.2326 - Val Loss: 1.8551 - Val Accuracy: 16.20%\n"
          ]
        },
        {
          "output_type": "stream",
          "name": "stderr",
          "text": [
            "Epoch [25/25]: 100%|██████████| 864/864 [05:36<00:00,  2.56it/s]\n",
            "Evaluation: 100%|██████████| 216/216 [00:02<00:00, 87.35it/s]"
          ]
        },
        {
          "output_type": "stream",
          "name": "stdout",
          "text": [
            "Epoch [25/25] - Train Loss: 2.2323 - Val Loss: 1.8563 - Val Accuracy: 14.35%\n"
          ]
        },
        {
          "output_type": "stream",
          "name": "stderr",
          "text": [
            "\n"
          ]
        }
      ],
      "source": [
        "# Training loop with evaluation and plotting\n",
        "train_losses_l2_sgd_1 = []\n",
        "val_losses_l2_sgd_1 = []\n",
        "val_accuracies_l2_sgd_1 = []\n",
        "\n",
        "for epoch in range(num_epochs):\n",
        "    model.train()\n",
        "    train_loss_sgd_1 = 0.0\n",
        "    for inputs, labels in tqdm(train_loader_sgd_1, desc=f'Epoch [{epoch + 1}/{num_epochs}]'):\n",
        "        optimizer.zero_grad()\n",
        "        outputs = model(inputs)\n",
        "        loss_sgd_1 = criterion(outputs, labels)\n",
        "\n",
        "        # Calculate L2-norm penalty\n",
        "        l2_penalty_sgd_1 = 0.0\n",
        "        for param in model.parameters():\n",
        "            l2_penalty_sgd_1 += torch.norm(param, 2)\n",
        "\n",
        "        loss_sgd_1 += weight_decay * l2_penalty_sgd_1\n",
        "\n",
        "        loss_sgd_1.backward()\n",
        "        optimizer.step()\n",
        "        train_loss_sgd_1 += loss_sgd_1.item()\n",
        "\n",
        "    train_losses_l2_sgd_1.append(train_loss_sgd_1 / len(train_loader_sgd_1))\n",
        "\n",
        "    # Evaluate the model after each epoch and collect accuracy and loss\n",
        "    val_accuracy_sgd_1, val_loss_sgd_1 = evaluate_per_epoch(model, val_loader_sgd_1, criterion)\n",
        "    val_losses_l2_sgd_1.append(val_loss_sgd_1)\n",
        "    val_accuracies_l2_sgd_1.append(val_accuracy_sgd_1)\n",
        "\n",
        "    print(f'Epoch [{epoch + 1}/{num_epochs}] - Train Loss: {train_losses_l2_sgd_1[-1]:.4f} - Val Loss: {val_loss_sgd_1:.4f} - Val Accuracy: {val_accuracy_sgd_1:.2f}%')\n"
      ]
    },
    {
      "cell_type": "code",
      "execution_count": 65,
      "metadata": {
        "id": "f3ufXXhjv3vw",
        "colab": {
          "base_uri": "https://localhost:8080/",
          "height": 388
        },
        "outputId": "60bdd1f1-24fa-4010-deaa-75f2123c041a"
      },
      "outputs": [
        {
          "output_type": "display_data",
          "data": {
            "text/plain": [
              "<Figure size 1200x400 with 2 Axes>"
            ],
            "image/png": "[encoded data removed]"
          },
          "metadata": {}
        }
      ],
      "source": [
        "# Determine the x-axis range based on the number of epochs\n",
        "x_range_sgd_1 = range(1, num_epochs + 1)\n",
        "\n",
        "# Plot loss and accuracy per epoch (limit x-axis to the number of epochs)\n",
        "plt.figure(figsize=(12, 4))\n",
        "plt.subplot(1, 2, 1)\n",
        "plt.plot(x_range_sgd_1, train_losses_l2_sgd_1[:num_epochs], label='Train Loss')\n",
        "plt.plot(x_range_sgd_1, val_losses_l2_sgd_1[:num_epochs], label='Validation Loss')\n",
        "plt.xlabel('Epoch')\n",
        "plt.ylabel('Loss')\n",
        "plt.legend()\n",
        "\n",
        "plt.subplot(1, 2, 2)\n",
        "plt.plot(x_range_sgd_1, val_accuracies_l2_sgd_1[:num_epochs], label='Validation Accuracy', color='red')\n",
        "plt.xlabel('Epoch')\n",
        "plt.ylabel('Accuracy (%)')\n",
        "plt.legend()\n",
        "plt.show()"
      ]
    },
    {
      "cell_type": "code",
      "execution_count": 66,
      "metadata": {
        "id": "Z6-iLAcQv6w-",
        "colab": {
          "base_uri": "https://localhost:8080/"
        },
        "outputId": "cb9ce287-1570-4007-b280-2e9271c122be"
      },
      "outputs": [
        {
          "output_type": "stream",
          "name": "stderr",
          "text": [
            "Evaluation: 100%|██████████| 120/120 [00:01<00:00, 76.75it/s]"
          ]
        },
        {
          "output_type": "stream",
          "name": "stdout",
          "text": [
            "\n",
            "Test Accuracy with L2-norm penalty (SGD with batch size 1): 17.50%\n",
            "Test Loss with L2-norm penalty (SGD with batch size 1): 1.7773\n"
          ]
        },
        {
          "output_type": "stream",
          "name": "stderr",
          "text": [
            "\n"
          ]
        }
      ],
      "source": [
        "test_accuracy_l2_sgd_1, test_loss_l2_sgd_1 = evaluate_per_epoch(model, test_loader_sgd_1, criterion)\n",
        "print(f'\\nTest Accuracy with L2-norm penalty (SGD with batch size 1): {test_accuracy_l2_sgd_1:.2f}%')\n",
        "print(f'Test Loss with L2-norm penalty (SGD with batch size 1): {np.mean(test_loss_l2_sgd_1):.4f}')"
      ]
    },
    {
      "cell_type": "markdown",
      "metadata": {
        "id": "US72WgwuxCj0"
      },
      "source": [
        "### SGD with Minibatches (using minibatch size 64)"
      ]
    },
    {
      "cell_type": "code",
      "execution_count": 67,
      "metadata": {
        "id": "kCx8jzbZwuXd"
      },
      "outputs": [],
      "source": [
        "num_epochs = EPOCHS\n",
        "weight_decay = 0.001\n",
        "learning_rate = 0.001\n",
        "criterion = nn.CrossEntropyLoss()\n",
        "optimizer = optim.SGD(model.parameters(), lr=learning_rate, weight_decay=weight_decay)\n"
      ]
    },
    {
      "cell_type": "code",
      "execution_count": 68,
      "metadata": {
        "id": "jZ7HYdoIxQXC"
      },
      "outputs": [],
      "source": [
        "batch_size = 64\n",
        "train_loader_sgd_mini = DataLoader(train_dataset, batch_size=batch_size, shuffle=True)\n",
        "val_loader_sgd_mini = DataLoader(val_dataset, batch_size=batch_size, shuffle=False)\n",
        "test_loader_sgd_mini = DataLoader(test_dataset, batch_size=batch_size, shuffle=False)"
      ]
    },
    {
      "cell_type": "code",
      "execution_count": 69,
      "metadata": {
        "id": "tMgxezxXxbrs",
        "colab": {
          "base_uri": "https://localhost:8080/"
        },
        "outputId": "a54ee139-0a46-4ef1-adea-048b4c9265a8"
      },
      "outputs": [
        {
          "output_type": "stream",
          "name": "stderr",
          "text": [
            "Epoch [1/25]: 100%|██████████| 14/14 [00:10<00:00,  1.32it/s]\n",
            "Evaluation: 100%|██████████| 4/4 [00:00<00:00,  9.82it/s]\n"
          ]
        },
        {
          "output_type": "stream",
          "name": "stdout",
          "text": [
            "Epoch [1/25] - Train Loss: 2.2308 - Val Loss: 1.846583 - Val Accuracy: 14.35%\n"
          ]
        },
        {
          "output_type": "stream",
          "name": "stderr",
          "text": [
            "Epoch [2/25]: 100%|██████████| 14/14 [00:07<00:00,  1.82it/s]\n",
            "Evaluation: 100%|██████████| 4/4 [00:00<00:00,  6.88it/s]\n"
          ]
        },
        {
          "output_type": "stream",
          "name": "stdout",
          "text": [
            "Epoch [2/25] - Train Loss: 2.2303 - Val Loss: 1.846548 - Val Accuracy: 14.35%\n"
          ]
        },
        {
          "output_type": "stream",
          "name": "stderr",
          "text": [
            "Epoch [3/25]: 100%|██████████| 14/14 [00:08<00:00,  1.61it/s]\n",
            "Evaluation: 100%|██████████| 4/4 [00:00<00:00,  9.53it/s]\n"
          ]
        },
        {
          "output_type": "stream",
          "name": "stdout",
          "text": [
            "Epoch [3/25] - Train Loss: 2.2307 - Val Loss: 1.846494 - Val Accuracy: 14.35%\n"
          ]
        },
        {
          "output_type": "stream",
          "name": "stderr",
          "text": [
            "Epoch [4/25]: 100%|██████████| 14/14 [00:09<00:00,  1.41it/s]\n",
            "Evaluation: 100%|██████████| 4/4 [00:00<00:00,  9.45it/s]\n"
          ]
        },
        {
          "output_type": "stream",
          "name": "stdout",
          "text": [
            "Epoch [4/25] - Train Loss: 2.2295 - Val Loss: 1.846482 - Val Accuracy: 14.35%\n"
          ]
        },
        {
          "output_type": "stream",
          "name": "stderr",
          "text": [
            "Epoch [5/25]: 100%|██████████| 14/14 [00:08<00:00,  1.72it/s]\n",
            "Evaluation: 100%|██████████| 4/4 [00:00<00:00,  9.81it/s]\n"
          ]
        },
        {
          "output_type": "stream",
          "name": "stdout",
          "text": [
            "Epoch [5/25] - Train Loss: 2.2308 - Val Loss: 1.846424 - Val Accuracy: 14.35%\n"
          ]
        },
        {
          "output_type": "stream",
          "name": "stderr",
          "text": [
            "Epoch [6/25]: 100%|██████████| 14/14 [00:08<00:00,  1.58it/s]\n",
            "Evaluation: 100%|██████████| 4/4 [00:00<00:00,  9.88it/s]\n"
          ]
        },
        {
          "output_type": "stream",
          "name": "stdout",
          "text": [
            "Epoch [6/25] - Train Loss: 2.2310 - Val Loss: 1.846361 - Val Accuracy: 14.35%\n"
          ]
        },
        {
          "output_type": "stream",
          "name": "stderr",
          "text": [
            "Epoch [7/25]: 100%|██████████| 14/14 [00:08<00:00,  1.64it/s]\n",
            "Evaluation: 100%|██████████| 4/4 [00:00<00:00,  6.53it/s]\n"
          ]
        },
        {
          "output_type": "stream",
          "name": "stdout",
          "text": [
            "Epoch [7/25] - Train Loss: 2.2306 - Val Loss: 1.846310 - Val Accuracy: 14.35%\n"
          ]
        },
        {
          "output_type": "stream",
          "name": "stderr",
          "text": [
            "Epoch [8/25]: 100%|██████████| 14/14 [00:07<00:00,  1.80it/s]\n",
            "Evaluation: 100%|██████████| 4/4 [00:00<00:00,  9.64it/s]\n"
          ]
        },
        {
          "output_type": "stream",
          "name": "stdout",
          "text": [
            "Epoch [8/25] - Train Loss: 2.2305 - Val Loss: 1.846261 - Val Accuracy: 14.35%\n"
          ]
        },
        {
          "output_type": "stream",
          "name": "stderr",
          "text": [
            "Epoch [9/25]: 100%|██████████| 14/14 [00:08<00:00,  1.58it/s]\n",
            "Evaluation: 100%|██████████| 4/4 [00:00<00:00,  9.01it/s]\n"
          ]
        },
        {
          "output_type": "stream",
          "name": "stdout",
          "text": [
            "Epoch [9/25] - Train Loss: 2.2301 - Val Loss: 1.846227 - Val Accuracy: 14.35%\n"
          ]
        },
        {
          "output_type": "stream",
          "name": "stderr",
          "text": [
            "Epoch [10/25]: 100%|██████████| 14/14 [00:08<00:00,  1.64it/s]\n",
            "Evaluation: 100%|██████████| 4/4 [00:00<00:00,  6.52it/s]\n"
          ]
        },
        {
          "output_type": "stream",
          "name": "stdout",
          "text": [
            "Epoch [10/25] - Train Loss: 2.2312 - Val Loss: 1.846164 - Val Accuracy: 14.35%\n"
          ]
        },
        {
          "output_type": "stream",
          "name": "stderr",
          "text": [
            "Epoch [11/25]: 100%|██████████| 14/14 [00:08<00:00,  1.68it/s]\n",
            "Evaluation: 100%|██████████| 4/4 [00:00<00:00,  9.71it/s]\n"
          ]
        },
        {
          "output_type": "stream",
          "name": "stdout",
          "text": [
            "Epoch [11/25] - Train Loss: 2.2303 - Val Loss: 1.846132 - Val Accuracy: 14.35%\n"
          ]
        },
        {
          "output_type": "stream",
          "name": "stderr",
          "text": [
            "Epoch [12/25]: 100%|██████████| 14/14 [00:08<00:00,  1.58it/s]\n",
            "Evaluation: 100%|██████████| 4/4 [00:00<00:00,  9.57it/s]\n"
          ]
        },
        {
          "output_type": "stream",
          "name": "stdout",
          "text": [
            "Epoch [12/25] - Train Loss: 2.2304 - Val Loss: 1.846094 - Val Accuracy: 14.35%\n"
          ]
        },
        {
          "output_type": "stream",
          "name": "stderr",
          "text": [
            "Epoch [13/25]: 100%|██████████| 14/14 [00:07<00:00,  1.82it/s]\n",
            "Evaluation: 100%|██████████| 4/4 [00:00<00:00,  9.59it/s]\n"
          ]
        },
        {
          "output_type": "stream",
          "name": "stdout",
          "text": [
            "Epoch [13/25] - Train Loss: 2.2307 - Val Loss: 1.846045 - Val Accuracy: 14.35%\n"
          ]
        },
        {
          "output_type": "stream",
          "name": "stderr",
          "text": [
            "Epoch [14/25]: 100%|██████████| 14/14 [00:08<00:00,  1.58it/s]\n",
            "Evaluation: 100%|██████████| 4/4 [00:00<00:00,  9.69it/s]\n"
          ]
        },
        {
          "output_type": "stream",
          "name": "stdout",
          "text": [
            "Epoch [14/25] - Train Loss: 2.2302 - Val Loss: 1.846015 - Val Accuracy: 14.35%\n"
          ]
        },
        {
          "output_type": "stream",
          "name": "stderr",
          "text": [
            "Epoch [15/25]: 100%|██████████| 14/14 [00:08<00:00,  1.66it/s]\n",
            "Evaluation: 100%|██████████| 4/4 [00:00<00:00,  6.65it/s]\n"
          ]
        },
        {
          "output_type": "stream",
          "name": "stdout",
          "text": [
            "Epoch [15/25] - Train Loss: 2.2305 - Val Loss: 1.845969 - Val Accuracy: 14.35%\n"
          ]
        },
        {
          "output_type": "stream",
          "name": "stderr",
          "text": [
            "Epoch [16/25]: 100%|██████████| 14/14 [00:07<00:00,  1.79it/s]\n",
            "Evaluation: 100%|██████████| 4/4 [00:00<00:00,  9.66it/s]\n"
          ]
        },
        {
          "output_type": "stream",
          "name": "stdout",
          "text": [
            "Epoch [16/25] - Train Loss: 2.2306 - Val Loss: 1.845920 - Val Accuracy: 14.35%\n"
          ]
        },
        {
          "output_type": "stream",
          "name": "stderr",
          "text": [
            "Epoch [17/25]: 100%|██████████| 14/14 [00:08<00:00,  1.58it/s]\n",
            "Evaluation: 100%|██████████| 4/4 [00:00<00:00,  9.56it/s]\n"
          ]
        },
        {
          "output_type": "stream",
          "name": "stdout",
          "text": [
            "Epoch [17/25] - Train Loss: 2.2306 - Val Loss: 1.845872 - Val Accuracy: 14.35%\n"
          ]
        },
        {
          "output_type": "stream",
          "name": "stderr",
          "text": [
            "Epoch [18/25]: 100%|██████████| 14/14 [00:07<00:00,  1.84it/s]\n",
            "Evaluation: 100%|██████████| 4/4 [00:00<00:00,  6.66it/s]\n"
          ]
        },
        {
          "output_type": "stream",
          "name": "stdout",
          "text": [
            "Epoch [18/25] - Train Loss: 2.2302 - Val Loss: 1.845840 - Val Accuracy: 14.35%\n"
          ]
        },
        {
          "output_type": "stream",
          "name": "stderr",
          "text": [
            "Epoch [19/25]: 100%|██████████| 14/14 [00:08<00:00,  1.62it/s]\n",
            "Evaluation: 100%|██████████| 4/4 [00:00<00:00,  9.96it/s]\n"
          ]
        },
        {
          "output_type": "stream",
          "name": "stdout",
          "text": [
            "Epoch [19/25] - Train Loss: 2.2304 - Val Loss: 1.845800 - Val Accuracy: 14.35%\n"
          ]
        },
        {
          "output_type": "stream",
          "name": "stderr",
          "text": [
            "Epoch [20/25]: 100%|██████████| 14/14 [00:08<00:00,  1.59it/s]\n",
            "Evaluation: 100%|██████████| 4/4 [00:00<00:00,  9.98it/s]\n"
          ]
        },
        {
          "output_type": "stream",
          "name": "stdout",
          "text": [
            "Epoch [20/25] - Train Loss: 2.2304 - Val Loss: 1.845756 - Val Accuracy: 14.35%\n"
          ]
        },
        {
          "output_type": "stream",
          "name": "stderr",
          "text": [
            "Epoch [21/25]: 100%|██████████| 14/14 [00:18<00:00,  1.33s/it]\n",
            "Evaluation: 100%|██████████| 4/4 [00:00<00:00,  9.70it/s]\n"
          ]
        },
        {
          "output_type": "stream",
          "name": "stdout",
          "text": [
            "Epoch [21/25] - Train Loss: 2.2301 - Val Loss: 1.845734 - Val Accuracy: 14.35%\n"
          ]
        },
        {
          "output_type": "stream",
          "name": "stderr",
          "text": [
            "Epoch [22/25]: 100%|██████████| 14/14 [00:07<00:00,  1.78it/s]\n",
            "Evaluation: 100%|██████████| 4/4 [00:00<00:00,  6.67it/s]\n"
          ]
        },
        {
          "output_type": "stream",
          "name": "stdout",
          "text": [
            "Epoch [22/25] - Train Loss: 2.2302 - Val Loss: 1.845701 - Val Accuracy: 14.35%\n"
          ]
        },
        {
          "output_type": "stream",
          "name": "stderr",
          "text": [
            "Epoch [23/25]: 100%|██████████| 14/14 [00:08<00:00,  1.65it/s]\n",
            "Evaluation: 100%|██████████| 4/4 [00:00<00:00,  9.65it/s]\n"
          ]
        },
        {
          "output_type": "stream",
          "name": "stdout",
          "text": [
            "Epoch [23/25] - Train Loss: 2.2302 - Val Loss: 1.845667 - Val Accuracy: 14.35%\n"
          ]
        },
        {
          "output_type": "stream",
          "name": "stderr",
          "text": [
            "Epoch [24/25]: 100%|██████████| 14/14 [00:08<00:00,  1.59it/s]\n",
            "Evaluation: 100%|██████████| 4/4 [00:00<00:00,  9.47it/s]\n"
          ]
        },
        {
          "output_type": "stream",
          "name": "stdout",
          "text": [
            "Epoch [24/25] - Train Loss: 2.2305 - Val Loss: 1.845625 - Val Accuracy: 14.35%\n"
          ]
        },
        {
          "output_type": "stream",
          "name": "stderr",
          "text": [
            "Epoch [25/25]: 100%|██████████| 14/14 [00:07<00:00,  1.83it/s]\n",
            "Evaluation: 100%|██████████| 4/4 [00:00<00:00,  9.98it/s]"
          ]
        },
        {
          "output_type": "stream",
          "name": "stdout",
          "text": [
            "Epoch [25/25] - Train Loss: 2.2298 - Val Loss: 1.845617 - Val Accuracy: 14.35%\n"
          ]
        },
        {
          "output_type": "stream",
          "name": "stderr",
          "text": [
            "\n"
          ]
        }
      ],
      "source": [
        "# Training loop with evaluation and plotting\n",
        "train_losses_l2_sgd_mini = []\n",
        "val_losses_l2_sgd_mini = []\n",
        "val_accuracies_l2_sgd_mini = []\n",
        "\n",
        "for epoch in range(num_epochs):\n",
        "    model.train()\n",
        "    train_loss_sgd_mini = 0.0\n",
        "    for inputs, labels in tqdm(train_loader_sgd_mini, desc=f'Epoch [{epoch + 1}/{num_epochs}]'):\n",
        "        optimizer.zero_grad()\n",
        "        outputs = model(inputs)\n",
        "        loss_sgd_mini = criterion(outputs, labels)\n",
        "\n",
        "        # Calculate L2-norm penalty\n",
        "        l2_penalty_sgd_mini = 0.0\n",
        "        for param in model.parameters():\n",
        "            l2_penalty_sgd_mini += torch.norm(param, 2)\n",
        "\n",
        "        loss_sgd_mini += weight_decay * l2_penalty_sgd_mini\n",
        "\n",
        "        loss_sgd_mini.backward()\n",
        "        optimizer.step()\n",
        "        train_loss_sgd_mini += loss_sgd_mini.item()\n",
        "\n",
        "    train_losses_l2_sgd_mini.append(train_loss_sgd_mini / len(train_loader_sgd_mini))\n",
        "\n",
        "    # Evaluate the model after each epoch and collect accuracy and loss\n",
        "    val_accuracy_sgd_mini, val_losses_sgd_mini = evaluate_per_epoch(model, val_loader_sgd_mini, criterion)\n",
        "    val_losses_l2_sgd_mini.append(val_losses_sgd_mini)\n",
        "    val_accuracies_l2_sgd_mini.append(val_accuracy_sgd_mini)\n",
        "\n",
        "    print(f'Epoch [{epoch + 1}/{num_epochs}] - Train Loss: {train_losses_l2_sgd_mini[-1]:.4f} - Val Loss: {val_losses_sgd_mini:.6f} - Val Accuracy: {val_accuracy_sgd_mini:.2f}%')\n"
      ]
    },
    {
      "cell_type": "code",
      "execution_count": 70,
      "metadata": {
        "id": "NDjSzB7BxfTu",
        "colab": {
          "base_uri": "https://localhost:8080/",
          "height": 393
        },
        "outputId": "38241499-62e8-4c7a-ca2d-cd2899503014"
      },
      "outputs": [
        {
          "output_type": "display_data",
          "data": {
            "text/plain": [
              "<Figure size 1200x400 with 2 Axes>"
            ],
            "image/png": "[encoded data removed]"
          },
          "metadata": {}
        }
      ],
      "source": [
        "# Determine the x-axis range based on the number of epochs\n",
        "x_range_sgd_mini = range(1, num_epochs + 1)\n",
        "\n",
        "# Plot loss and accuracy per epoch (limit x-axis to the number of epochs)\n",
        "plt.figure(figsize=(12, 4))\n",
        "plt.subplot(1, 2, 1)\n",
        "plt.plot(x_range_sgd_mini, train_losses_l2_sgd_mini[:num_epochs], label='Train Loss')\n",
        "plt.plot(x_range_sgd_mini, val_losses_l2_sgd_mini[:num_epochs], label='Validation Loss')\n",
        "plt.xlabel('Epoch')\n",
        "plt.ylabel('Loss')\n",
        "plt.legend()\n",
        "\n",
        "plt.subplot(1, 2, 2)\n",
        "plt.plot(x_range_sgd_mini, val_accuracies_l2_sgd_mini[:num_epochs], label='Validation Accuracy', color='red')\n",
        "plt.xlabel('Epoch')\n",
        "plt.ylabel('Accuracy (%)')\n",
        "plt.legend()\n",
        "plt.show()\n"
      ]
    },
    {
      "cell_type": "code",
      "execution_count": 71,
      "metadata": {
        "id": "m5uJNoHUxqdF",
        "colab": {
          "base_uri": "https://localhost:8080/"
        },
        "outputId": "7726aed7-af5e-4f88-bb5f-2348db967d9f"
      },
      "outputs": [
        {
          "output_type": "stream",
          "name": "stderr",
          "text": [
            "Evaluation: 100%|██████████| 2/2 [00:00<00:00,  8.76it/s]"
          ]
        },
        {
          "output_type": "stream",
          "name": "stdout",
          "text": [
            "\n",
            "Test Accuracy with L2-norm penalty (SGD with minibatch size 64): 17.50%\n",
            "Test Loss with L2-norm penalty (SGD with minibatch size 64): 1.7778\n"
          ]
        },
        {
          "output_type": "stream",
          "name": "stderr",
          "text": [
            "\n"
          ]
        }
      ],
      "source": [
        "\n",
        "test_accuracy_l2_sgd_mini, test_loss_l2_sgd_mini = evaluate_per_epoch(model, test_loader_sgd_mini, criterion)\n",
        "print(f'\\nTest Accuracy with L2-norm penalty (SGD with minibatch size {batch_size}): {test_accuracy_l2_sgd_mini:.2f}%')\n",
        "print(f'Test Loss with L2-norm penalty (SGD with minibatch size {batch_size}): {np.mean(test_loss_l2_sgd_mini):.4f}')"
      ]
    },
    {
      "cell_type": "markdown",
      "metadata": {
        "id": "M1ZiCT1lx94e"
      },
      "source": [
        "### AdaGrad Optimization"
      ]
    },
    {
      "cell_type": "code",
      "execution_count": 72,
      "metadata": {
        "id": "G-cComgMxrdf"
      },
      "outputs": [],
      "source": [
        "num_epochs = EPOCHS\n",
        "weight_decay = 0.001\n",
        "learning_rate = 0.01\n",
        "criterion = nn.CrossEntropyLoss()\n",
        "optimizer = optim.Adagrad(model.parameters(), lr=learning_rate, weight_decay=weight_decay)  # Use AdaGrad"
      ]
    },
    {
      "cell_type": "code",
      "execution_count": 73,
      "metadata": {
        "id": "3t5_qP6myw3h",
        "colab": {
          "base_uri": "https://localhost:8080/"
        },
        "outputId": "034fdd4d-dbf7-4516-b6fd-040c94777c03"
      },
      "outputs": [
        {
          "output_type": "stream",
          "name": "stderr",
          "text": [
            "Epoch [1/25]: 100%|██████████| 27/27 [00:17<00:00,  1.53it/s]\n",
            "Evaluation: 100%|██████████| 7/7 [00:00<00:00,  8.17it/s]\n"
          ]
        },
        {
          "output_type": "stream",
          "name": "stdout",
          "text": [
            "Epoch [1/25] - Train Loss: 28.8647 - Val Loss: 1.7949 - Val Accuracy: 15.74%\n"
          ]
        },
        {
          "output_type": "stream",
          "name": "stderr",
          "text": [
            "Epoch [2/25]: 100%|██████████| 27/27 [00:24<00:00,  1.10it/s]\n",
            "Evaluation: 100%|██████████| 7/7 [00:01<00:00,  3.93it/s]\n"
          ]
        },
        {
          "output_type": "stream",
          "name": "stdout",
          "text": [
            "Epoch [2/25] - Train Loss: 1.9009 - Val Loss: 15.0722 - Val Accuracy: 14.35%\n"
          ]
        },
        {
          "output_type": "stream",
          "name": "stderr",
          "text": [
            "Epoch [3/25]: 100%|██████████| 27/27 [00:35<00:00,  1.31s/it]\n",
            "Evaluation: 100%|██████████| 7/7 [00:02<00:00,  2.98it/s]\n"
          ]
        },
        {
          "output_type": "stream",
          "name": "stdout",
          "text": [
            "Epoch [3/25] - Train Loss: 3.0818 - Val Loss: 1.7912 - Val Accuracy: 18.06%\n"
          ]
        },
        {
          "output_type": "stream",
          "name": "stderr",
          "text": [
            "Epoch [4/25]: 100%|██████████| 27/27 [00:42<00:00,  1.58s/it]\n",
            "Evaluation: 100%|██████████| 7/7 [00:03<00:00,  2.26it/s]\n"
          ]
        },
        {
          "output_type": "stream",
          "name": "stdout",
          "text": [
            "Epoch [4/25] - Train Loss: 3.1329 - Val Loss: 1.7955 - Val Accuracy: 18.06%\n"
          ]
        },
        {
          "output_type": "stream",
          "name": "stderr",
          "text": [
            "Epoch [5/25]: 100%|██████████| 27/27 [00:44<00:00,  1.64s/it]\n",
            "Evaluation: 100%|██████████| 7/7 [00:03<00:00,  2.29it/s]\n"
          ]
        },
        {
          "output_type": "stream",
          "name": "stdout",
          "text": [
            "Epoch [5/25] - Train Loss: 2.8737 - Val Loss: 1.6793 - Val Accuracy: 25.93%\n"
          ]
        },
        {
          "output_type": "stream",
          "name": "stderr",
          "text": [
            "Epoch [6/25]: 100%|██████████| 27/27 [00:44<00:00,  1.64s/it]\n",
            "Evaluation: 100%|██████████| 7/7 [00:02<00:00,  2.45it/s]\n"
          ]
        },
        {
          "output_type": "stream",
          "name": "stdout",
          "text": [
            "Epoch [6/25] - Train Loss: 2.4800 - Val Loss: 1.8427 - Val Accuracy: 17.13%\n"
          ]
        },
        {
          "output_type": "stream",
          "name": "stderr",
          "text": [
            "Epoch [7/25]: 100%|██████████| 27/27 [00:45<00:00,  1.67s/it]\n",
            "Evaluation: 100%|██████████| 7/7 [00:03<00:00,  1.92it/s]\n"
          ]
        },
        {
          "output_type": "stream",
          "name": "stdout",
          "text": [
            "Epoch [7/25] - Train Loss: 1.9502 - Val Loss: 6.1669 - Val Accuracy: 14.35%\n"
          ]
        },
        {
          "output_type": "stream",
          "name": "stderr",
          "text": [
            "Epoch [8/25]: 100%|██████████| 27/27 [00:45<00:00,  1.70s/it]\n",
            "Evaluation: 100%|██████████| 7/7 [00:03<00:00,  2.33it/s]\n"
          ]
        },
        {
          "output_type": "stream",
          "name": "stdout",
          "text": [
            "Epoch [8/25] - Train Loss: 2.6857 - Val Loss: 1.7941 - Val Accuracy: 17.59%\n"
          ]
        },
        {
          "output_type": "stream",
          "name": "stderr",
          "text": [
            "Epoch [9/25]: 100%|██████████| 27/27 [00:47<00:00,  1.75s/it]\n",
            "Evaluation: 100%|██████████| 7/7 [00:03<00:00,  2.10it/s]\n"
          ]
        },
        {
          "output_type": "stream",
          "name": "stdout",
          "text": [
            "Epoch [9/25] - Train Loss: 2.8116 - Val Loss: 1.7849 - Val Accuracy: 19.44%\n"
          ]
        },
        {
          "output_type": "stream",
          "name": "stderr",
          "text": [
            "Epoch [10/25]: 100%|██████████| 27/27 [00:47<00:00,  1.77s/it]\n",
            "Evaluation: 100%|██████████| 7/7 [00:03<00:00,  2.11it/s]\n"
          ]
        },
        {
          "output_type": "stream",
          "name": "stdout",
          "text": [
            "Epoch [10/25] - Train Loss: 2.3983 - Val Loss: 1.7954 - Val Accuracy: 17.59%\n"
          ]
        },
        {
          "output_type": "stream",
          "name": "stderr",
          "text": [
            "Epoch [11/25]: 100%|██████████| 27/27 [00:48<00:00,  1.80s/it]\n",
            "Evaluation: 100%|██████████| 7/7 [00:03<00:00,  2.25it/s]\n"
          ]
        },
        {
          "output_type": "stream",
          "name": "stdout",
          "text": [
            "Epoch [11/25] - Train Loss: 2.3711 - Val Loss: 1.7145 - Val Accuracy: 29.17%\n"
          ]
        },
        {
          "output_type": "stream",
          "name": "stderr",
          "text": [
            "Epoch [12/25]: 100%|██████████| 27/27 [00:48<00:00,  1.81s/it]\n",
            "Evaluation: 100%|██████████| 7/7 [00:03<00:00,  2.17it/s]\n"
          ]
        },
        {
          "output_type": "stream",
          "name": "stdout",
          "text": [
            "Epoch [12/25] - Train Loss: 2.9094 - Val Loss: 2.4703 - Val Accuracy: 19.91%\n"
          ]
        },
        {
          "output_type": "stream",
          "name": "stderr",
          "text": [
            "Epoch [13/25]: 100%|██████████| 27/27 [00:56<00:00,  2.07s/it]\n",
            "Evaluation: 100%|██████████| 7/7 [00:03<00:00,  2.13it/s]\n"
          ]
        },
        {
          "output_type": "stream",
          "name": "stdout",
          "text": [
            "Epoch [13/25] - Train Loss: 2.3367 - Val Loss: 5.1888 - Val Accuracy: 16.20%\n"
          ]
        },
        {
          "output_type": "stream",
          "name": "stderr",
          "text": [
            "Epoch [14/25]: 100%|██████████| 27/27 [00:50<00:00,  1.87s/it]\n",
            "Evaluation: 100%|██████████| 7/7 [00:03<00:00,  2.07it/s]\n"
          ]
        },
        {
          "output_type": "stream",
          "name": "stdout",
          "text": [
            "Epoch [14/25] - Train Loss: 2.0009 - Val Loss: 1.4976 - Val Accuracy: 33.80%\n"
          ]
        },
        {
          "output_type": "stream",
          "name": "stderr",
          "text": [
            "Epoch [15/25]: 100%|██████████| 27/27 [00:51<00:00,  1.91s/it]\n",
            "Evaluation: 100%|██████████| 7/7 [00:03<00:00,  1.83it/s]\n"
          ]
        },
        {
          "output_type": "stream",
          "name": "stdout",
          "text": [
            "Epoch [15/25] - Train Loss: 2.3242 - Val Loss: 1.5789 - Val Accuracy: 33.33%\n"
          ]
        },
        {
          "output_type": "stream",
          "name": "stderr",
          "text": [
            "Epoch [16/25]: 100%|██████████| 27/27 [00:53<00:00,  1.99s/it]\n",
            "Evaluation: 100%|██████████| 7/7 [00:04<00:00,  1.68it/s]\n"
          ]
        },
        {
          "output_type": "stream",
          "name": "stdout",
          "text": [
            "Epoch [16/25] - Train Loss: 2.0228 - Val Loss: 1.4457 - Val Accuracy: 38.89%\n"
          ]
        },
        {
          "output_type": "stream",
          "name": "stderr",
          "text": [
            "Epoch [17/25]: 100%|██████████| 27/27 [00:56<00:00,  2.09s/it]\n",
            "Evaluation: 100%|██████████| 7/7 [00:04<00:00,  1.48it/s]\n"
          ]
        },
        {
          "output_type": "stream",
          "name": "stdout",
          "text": [
            "Epoch [17/25] - Train Loss: 1.9919 - Val Loss: 1.4047 - Val Accuracy: 42.13%\n"
          ]
        },
        {
          "output_type": "stream",
          "name": "stderr",
          "text": [
            "Epoch [18/25]: 100%|██████████| 27/27 [00:59<00:00,  2.19s/it]\n",
            "Evaluation: 100%|██████████| 7/7 [00:05<00:00,  1.35it/s]\n"
          ]
        },
        {
          "output_type": "stream",
          "name": "stdout",
          "text": [
            "Epoch [18/25] - Train Loss: 1.3579 - Val Loss: 1.3166 - Val Accuracy: 46.30%\n"
          ]
        },
        {
          "output_type": "stream",
          "name": "stderr",
          "text": [
            "Epoch [19/25]: 100%|██████████| 27/27 [01:02<00:00,  2.30s/it]\n",
            "Evaluation: 100%|██████████| 7/7 [00:06<00:00,  1.10it/s]\n"
          ]
        },
        {
          "output_type": "stream",
          "name": "stdout",
          "text": [
            "Epoch [19/25] - Train Loss: 1.3320 - Val Loss: 1.2491 - Val Accuracy: 48.61%\n"
          ]
        },
        {
          "output_type": "stream",
          "name": "stderr",
          "text": [
            "Epoch [20/25]: 100%|██████████| 27/27 [01:06<00:00,  2.44s/it]\n",
            "Evaluation: 100%|██████████| 7/7 [00:06<00:00,  1.05it/s]\n"
          ]
        },
        {
          "output_type": "stream",
          "name": "stdout",
          "text": [
            "Epoch [20/25] - Train Loss: 1.3917 - Val Loss: 1.1344 - Val Accuracy: 54.17%\n"
          ]
        },
        {
          "output_type": "stream",
          "name": "stderr",
          "text": [
            "Epoch [21/25]: 100%|██████████| 27/27 [01:09<00:00,  2.57s/it]\n",
            "Evaluation: 100%|██████████| 7/7 [00:08<00:00,  1.20s/it]\n"
          ]
        },
        {
          "output_type": "stream",
          "name": "stdout",
          "text": [
            "Epoch [21/25] - Train Loss: 1.1821 - Val Loss: 4.1838 - Val Accuracy: 27.31%\n"
          ]
        },
        {
          "output_type": "stream",
          "name": "stderr",
          "text": [
            "Epoch [22/25]: 100%|██████████| 27/27 [01:13<00:00,  2.73s/it]\n",
            "Evaluation: 100%|██████████| 7/7 [00:10<00:00,  1.44s/it]\n"
          ]
        },
        {
          "output_type": "stream",
          "name": "stdout",
          "text": [
            "Epoch [22/25] - Train Loss: 1.4370 - Val Loss: 1.1108 - Val Accuracy: 53.24%\n"
          ]
        },
        {
          "output_type": "stream",
          "name": "stderr",
          "text": [
            "Epoch [23/25]: 100%|██████████| 27/27 [01:17<00:00,  2.87s/it]\n",
            "Evaluation: 100%|██████████| 7/7 [00:10<00:00,  1.43s/it]\n"
          ]
        },
        {
          "output_type": "stream",
          "name": "stdout",
          "text": [
            "Epoch [23/25] - Train Loss: 1.6812 - Val Loss: 1.9500 - Val Accuracy: 36.11%\n"
          ]
        },
        {
          "output_type": "stream",
          "name": "stderr",
          "text": [
            "Epoch [24/25]: 100%|██████████| 27/27 [01:21<00:00,  3.03s/it]\n",
            "Evaluation: 100%|██████████| 7/7 [00:10<00:00,  1.49s/it]\n"
          ]
        },
        {
          "output_type": "stream",
          "name": "stdout",
          "text": [
            "Epoch [24/25] - Train Loss: 1.1873 - Val Loss: 2.9565 - Val Accuracy: 36.11%\n"
          ]
        },
        {
          "output_type": "stream",
          "name": "stderr",
          "text": [
            "Epoch [25/25]: 100%|██████████| 27/27 [01:27<00:00,  3.22s/it]\n",
            "Evaluation: 100%|██████████| 7/7 [00:11<00:00,  1.59s/it]"
          ]
        },
        {
          "output_type": "stream",
          "name": "stdout",
          "text": [
            "Epoch [25/25] - Train Loss: 2.0163 - Val Loss: 1.1194 - Val Accuracy: 54.17%\n"
          ]
        },
        {
          "output_type": "stream",
          "name": "stderr",
          "text": [
            "\n"
          ]
        }
      ],
      "source": [
        "# Training loop with evaluation and plotting\n",
        "train_losses_l2_ada = []\n",
        "val_losses_l2_ada = []\n",
        "val_accuracies_l2_ada = []\n",
        "\n",
        "for epoch in range(num_epochs):\n",
        "    model.train()\n",
        "    train_loss_ada = 0.0\n",
        "    for inputs, labels in tqdm(train_loader, desc=f'Epoch [{epoch + 1}/{num_epochs}]'):\n",
        "        optimizer.zero_grad()\n",
        "        outputs = model(inputs)\n",
        "        loss_ada = criterion(outputs, labels)\n",
        "\n",
        "        # Calculate L2-norm penalty\n",
        "        l2_penalty_ada = 0.0\n",
        "        for param in model.parameters():\n",
        "            l2_penalty_ada += torch.norm(param, 2)\n",
        "\n",
        "        loss_ada += weight_decay * l2_penalty_ada\n",
        "\n",
        "        loss_ada.backward()\n",
        "        optimizer.step()\n",
        "        train_loss_ada += loss_ada.item()\n",
        "\n",
        "    train_losses_l2_ada.append(train_loss_ada / len(train_loader))\n",
        "\n",
        "    # Evaluate the model after each epoch and collect accuracy and loss\n",
        "    val_accuracy_ada, val_losses_ada = evaluate_per_epoch(model, val_loader, criterion)\n",
        "    val_losses_l2_ada.append(val_losses_ada)\n",
        "    val_accuracies_l2_ada.append(val_accuracy_ada)\n",
        "\n",
        "    print(f'Epoch [{epoch + 1}/{num_epochs}] - Train Loss: {train_losses_l2_ada[-1]:.4f} - Val Loss: {val_losses_ada:.4f} - Val Accuracy: {val_accuracy_ada:.2f}%')"
      ]
    },
    {
      "cell_type": "code",
      "execution_count": 74,
      "metadata": {
        "id": "cKFwm9MlzBd7",
        "colab": {
          "base_uri": "https://localhost:8080/",
          "height": 391
        },
        "outputId": "c2c62485-3799-4143-e117-b863691d7e81"
      },
      "outputs": [
        {
          "output_type": "display_data",
          "data": {
            "text/plain": [
              "<Figure size 1200x400 with 2 Axes>"
            ],
            "image/png": "[encoded data removed]"
          },
          "metadata": {}
        }
      ],
      "source": [
        "\n",
        "# Determine the x-axis range based on the number of epochs\n",
        "x_range_ada = range(1, num_epochs + 1)\n",
        "\n",
        "# Plot loss and accuracy per epoch (limit x-axis to the number of epochs)\n",
        "plt.figure(figsize=(12, 4))\n",
        "plt.subplot(1, 2, 1)\n",
        "plt.plot(x_range_ada, train_losses_l2_ada[:num_epochs], label='Train Loss')\n",
        "plt.plot(x_range_ada, val_losses_l2_ada[:num_epochs], label='Validation Loss')\n",
        "plt.xlabel('Epoch')\n",
        "plt.ylabel('Loss')\n",
        "plt.legend()\n",
        "\n",
        "plt.subplot(1, 2, 2)\n",
        "plt.plot(x_range_ada, val_accuracies_l2_ada[:num_epochs], label='Validation Accuracy', color='red')\n",
        "plt.xlabel('Epoch')\n",
        "plt.ylabel('Accuracy (%)')\n",
        "plt.legend()\n",
        "plt.show()\n"
      ]
    },
    {
      "cell_type": "code",
      "execution_count": 75,
      "metadata": {
        "id": "bhhY0ydQzI8K",
        "colab": {
          "base_uri": "https://localhost:8080/"
        },
        "outputId": "9c5c85cf-5849-49a6-93d1-c890a6d328ca"
      },
      "outputs": [
        {
          "output_type": "stream",
          "name": "stderr",
          "text": [
            "Evaluation: 100%|██████████| 4/4 [00:06<00:00,  1.50s/it]"
          ]
        },
        {
          "output_type": "stream",
          "name": "stdout",
          "text": [
            "\n",
            "Test Accuracy with L2-norm penalty (AdaGrad): 51.67%\n",
            "Test Loss with L2-norm penalty (AdaGrad): 1.1335\n"
          ]
        },
        {
          "output_type": "stream",
          "name": "stderr",
          "text": [
            "\n"
          ]
        }
      ],
      "source": [
        "test_accuracy_l2_ada, test_loss_l2_ada = evaluate_per_epoch(model, test_loader, criterion)\n",
        "print(f'\\nTest Accuracy with L2-norm penalty (AdaGrad): {test_accuracy_l2_ada:.2f}%')\n",
        "print(f'Test Loss with L2-norm penalty (AdaGrad): {np.mean(test_loss_l2_ada):.4f}')"
      ]
    },
    {
      "cell_type": "markdown",
      "metadata": {
        "id": "xFeathn1zrQX"
      },
      "source": [
        "### RMSProp"
      ]
    },
    {
      "cell_type": "code",
      "execution_count": 76,
      "metadata": {
        "id": "uA6tBjFozulw"
      },
      "outputs": [],
      "source": [
        "num_epochs = EPOCHS\n",
        "weight_decay = 0.001\n",
        "learning_rate = 0.001\n",
        "criterion = nn.CrossEntropyLoss()\n",
        "optimizer_rmsprop = optim.RMSprop(model.parameters(), lr=learning_rate, weight_decay=weight_decay)  # Use RMSProp\n"
      ]
    },
    {
      "cell_type": "code",
      "execution_count": 77,
      "metadata": {
        "id": "Nt-HeLhpzwCZ",
        "colab": {
          "base_uri": "https://localhost:8080/"
        },
        "outputId": "c823fa74-e9ed-4ee5-e0b5-12c4e3124469"
      },
      "outputs": [
        {
          "output_type": "stream",
          "name": "stderr",
          "text": [
            "Epoch [1/25]: 100%|██████████| 27/27 [00:43<00:00,  1.61s/it]\n",
            "Evaluation: 100%|██████████| 7/7 [00:00<00:00,  8.89it/s]\n"
          ]
        },
        {
          "output_type": "stream",
          "name": "stdout",
          "text": [
            "Epoch [1/25] - Train Loss: 1310.9422 - Val Loss: 3.2965 - Val Accuracy: 17.59%\n"
          ]
        },
        {
          "output_type": "stream",
          "name": "stderr",
          "text": [
            "Epoch [2/25]: 100%|██████████| 27/27 [00:31<00:00,  1.18s/it]\n",
            "Evaluation: 100%|██████████| 7/7 [00:01<00:00,  4.08it/s]\n"
          ]
        },
        {
          "output_type": "stream",
          "name": "stdout",
          "text": [
            "Epoch [2/25] - Train Loss: 1.9500 - Val Loss: 1.6748 - Val Accuracy: 25.46%\n"
          ]
        },
        {
          "output_type": "stream",
          "name": "stderr",
          "text": [
            "Epoch [3/25]: 100%|██████████| 27/27 [00:35<00:00,  1.31s/it]\n",
            "Evaluation: 100%|██████████| 7/7 [00:01<00:00,  5.07it/s]\n"
          ]
        },
        {
          "output_type": "stream",
          "name": "stdout",
          "text": [
            "Epoch [3/25] - Train Loss: 4.4049 - Val Loss: 1.6601 - Val Accuracy: 26.39%\n"
          ]
        },
        {
          "output_type": "stream",
          "name": "stderr",
          "text": [
            "Epoch [4/25]: 100%|██████████| 27/27 [00:38<00:00,  1.41s/it]\n",
            "Evaluation: 100%|██████████| 7/7 [00:01<00:00,  4.62it/s]\n"
          ]
        },
        {
          "output_type": "stream",
          "name": "stdout",
          "text": [
            "Epoch [4/25] - Train Loss: 3.4851 - Val Loss: 1.6417 - Val Accuracy: 26.85%\n"
          ]
        },
        {
          "output_type": "stream",
          "name": "stderr",
          "text": [
            "Epoch [5/25]: 100%|██████████| 27/27 [00:40<00:00,  1.50s/it]\n",
            "Evaluation: 100%|██████████| 7/7 [00:01<00:00,  6.63it/s]\n"
          ]
        },
        {
          "output_type": "stream",
          "name": "stdout",
          "text": [
            "Epoch [5/25] - Train Loss: 17.0874 - Val Loss: 1.7796 - Val Accuracy: 25.46%\n"
          ]
        },
        {
          "output_type": "stream",
          "name": "stderr",
          "text": [
            "Epoch [6/25]: 100%|██████████| 27/27 [00:37<00:00,  1.37s/it]\n",
            "Evaluation: 100%|██████████| 7/7 [00:01<00:00,  6.48it/s]\n"
          ]
        },
        {
          "output_type": "stream",
          "name": "stdout",
          "text": [
            "Epoch [6/25] - Train Loss: 10.4150 - Val Loss: 31.4888 - Val Accuracy: 17.59%\n"
          ]
        },
        {
          "output_type": "stream",
          "name": "stderr",
          "text": [
            "Epoch [7/25]: 100%|██████████| 27/27 [00:38<00:00,  1.42s/it]\n",
            "Evaluation: 100%|██████████| 7/7 [00:01<00:00,  6.70it/s]\n"
          ]
        },
        {
          "output_type": "stream",
          "name": "stdout",
          "text": [
            "Epoch [7/25] - Train Loss: 15.7536 - Val Loss: 1.8380 - Val Accuracy: 12.96%\n"
          ]
        },
        {
          "output_type": "stream",
          "name": "stderr",
          "text": [
            "Epoch [8/25]: 100%|██████████| 27/27 [00:35<00:00,  1.33s/it]\n",
            "Evaluation: 100%|██████████| 7/7 [00:00<00:00,  8.96it/s]\n"
          ]
        },
        {
          "output_type": "stream",
          "name": "stdout",
          "text": [
            "Epoch [8/25] - Train Loss: 1.9836 - Val Loss: 1.7869 - Val Accuracy: 16.67%\n"
          ]
        },
        {
          "output_type": "stream",
          "name": "stderr",
          "text": [
            "Epoch [9/25]: 100%|██████████| 27/27 [00:36<00:00,  1.34s/it]\n",
            "Evaluation: 100%|██████████| 7/7 [00:00<00:00,  8.28it/s]\n"
          ]
        },
        {
          "output_type": "stream",
          "name": "stdout",
          "text": [
            "Epoch [9/25] - Train Loss: 1.7821 - Val Loss: 1.7488 - Val Accuracy: 25.00%\n"
          ]
        },
        {
          "output_type": "stream",
          "name": "stderr",
          "text": [
            "Epoch [10/25]: 100%|██████████| 27/27 [00:36<00:00,  1.35s/it]\n",
            "Evaluation: 100%|██████████| 7/7 [00:00<00:00,  8.39it/s]\n"
          ]
        },
        {
          "output_type": "stream",
          "name": "stdout",
          "text": [
            "Epoch [10/25] - Train Loss: 4.0343 - Val Loss: 1.8913 - Val Accuracy: 25.00%\n"
          ]
        },
        {
          "output_type": "stream",
          "name": "stderr",
          "text": [
            "Epoch [11/25]: 100%|██████████| 27/27 [00:38<00:00,  1.41s/it]\n",
            "Evaluation: 100%|██████████| 7/7 [00:00<00:00,  9.34it/s]\n"
          ]
        },
        {
          "output_type": "stream",
          "name": "stdout",
          "text": [
            "Epoch [11/25] - Train Loss: 6.8606 - Val Loss: 1.7580 - Val Accuracy: 21.76%\n"
          ]
        },
        {
          "output_type": "stream",
          "name": "stderr",
          "text": [
            "Epoch [12/25]: 100%|██████████| 27/27 [00:35<00:00,  1.30s/it]\n",
            "Evaluation: 100%|██████████| 7/7 [00:00<00:00,  7.58it/s]\n"
          ]
        },
        {
          "output_type": "stream",
          "name": "stdout",
          "text": [
            "Epoch [12/25] - Train Loss: 1.8720 - Val Loss: 1.7203 - Val Accuracy: 24.54%\n"
          ]
        },
        {
          "output_type": "stream",
          "name": "stderr",
          "text": [
            "Epoch [13/25]: 100%|██████████| 27/27 [00:36<00:00,  1.33s/it]\n",
            "Evaluation: 100%|██████████| 7/7 [00:00<00:00,  8.57it/s]\n"
          ]
        },
        {
          "output_type": "stream",
          "name": "stdout",
          "text": [
            "Epoch [13/25] - Train Loss: 4.5232 - Val Loss: 5.1664 - Val Accuracy: 27.78%\n"
          ]
        },
        {
          "output_type": "stream",
          "name": "stderr",
          "text": [
            "Epoch [14/25]: 100%|██████████| 27/27 [00:37<00:00,  1.41s/it]\n",
            "Evaluation: 100%|██████████| 7/7 [00:00<00:00,  8.10it/s]\n"
          ]
        },
        {
          "output_type": "stream",
          "name": "stdout",
          "text": [
            "Epoch [14/25] - Train Loss: 3.0297 - Val Loss: 1.7050 - Val Accuracy: 28.24%\n"
          ]
        },
        {
          "output_type": "stream",
          "name": "stderr",
          "text": [
            "Epoch [15/25]: 100%|██████████| 27/27 [00:39<00:00,  1.47s/it]\n",
            "Evaluation: 100%|██████████| 7/7 [00:00<00:00,  7.89it/s]\n"
          ]
        },
        {
          "output_type": "stream",
          "name": "stdout",
          "text": [
            "Epoch [15/25] - Train Loss: 3.5002 - Val Loss: 1.7183 - Val Accuracy: 25.93%\n"
          ]
        },
        {
          "output_type": "stream",
          "name": "stderr",
          "text": [
            "Epoch [16/25]: 100%|██████████| 27/27 [00:37<00:00,  1.40s/it]\n",
            "Evaluation: 100%|██████████| 7/7 [00:00<00:00,  7.42it/s]\n"
          ]
        },
        {
          "output_type": "stream",
          "name": "stdout",
          "text": [
            "Epoch [16/25] - Train Loss: 2.3686 - Val Loss: 1.7408 - Val Accuracy: 29.17%\n"
          ]
        },
        {
          "output_type": "stream",
          "name": "stderr",
          "text": [
            "Epoch [17/25]: 100%|██████████| 27/27 [00:37<00:00,  1.40s/it]\n",
            "Evaluation: 100%|██████████| 7/7 [00:01<00:00,  5.21it/s]\n"
          ]
        },
        {
          "output_type": "stream",
          "name": "stdout",
          "text": [
            "Epoch [17/25] - Train Loss: 3.2675 - Val Loss: 25.8213 - Val Accuracy: 23.15%\n"
          ]
        },
        {
          "output_type": "stream",
          "name": "stderr",
          "text": [
            "Epoch [18/25]: 100%|██████████| 27/27 [00:38<00:00,  1.43s/it]\n",
            "Evaluation: 100%|██████████| 7/7 [00:01<00:00,  6.93it/s]\n"
          ]
        },
        {
          "output_type": "stream",
          "name": "stdout",
          "text": [
            "Epoch [18/25] - Train Loss: 3.4863 - Val Loss: 1.7558 - Val Accuracy: 22.69%\n"
          ]
        },
        {
          "output_type": "stream",
          "name": "stderr",
          "text": [
            "Epoch [19/25]: 100%|██████████| 27/27 [00:40<00:00,  1.48s/it]\n",
            "Evaluation: 100%|██████████| 7/7 [00:01<00:00,  6.69it/s]\n"
          ]
        },
        {
          "output_type": "stream",
          "name": "stdout",
          "text": [
            "Epoch [19/25] - Train Loss: 6.5357 - Val Loss: 1.8831 - Val Accuracy: 20.83%\n"
          ]
        },
        {
          "output_type": "stream",
          "name": "stderr",
          "text": [
            "Epoch [20/25]: 100%|██████████| 27/27 [00:42<00:00,  1.56s/it]\n",
            "Evaluation: 100%|██████████| 7/7 [00:01<00:00,  6.43it/s]\n"
          ]
        },
        {
          "output_type": "stream",
          "name": "stdout",
          "text": [
            "Epoch [20/25] - Train Loss: 5.3554 - Val Loss: 1.8349 - Val Accuracy: 20.83%\n"
          ]
        },
        {
          "output_type": "stream",
          "name": "stderr",
          "text": [
            "Epoch [21/25]: 100%|██████████| 27/27 [00:42<00:00,  1.56s/it]\n",
            "Evaluation: 100%|██████████| 7/7 [00:01<00:00,  5.19it/s]\n"
          ]
        },
        {
          "output_type": "stream",
          "name": "stdout",
          "text": [
            "Epoch [21/25] - Train Loss: 3.7756 - Val Loss: 1.8159 - Val Accuracy: 22.69%\n"
          ]
        },
        {
          "output_type": "stream",
          "name": "stderr",
          "text": [
            "Epoch [22/25]: 100%|██████████| 27/27 [00:43<00:00,  1.59s/it]\n",
            "Evaluation: 100%|██████████| 7/7 [00:01<00:00,  4.62it/s]\n"
          ]
        },
        {
          "output_type": "stream",
          "name": "stdout",
          "text": [
            "Epoch [22/25] - Train Loss: 6.3779 - Val Loss: 1.7268 - Val Accuracy: 20.83%\n"
          ]
        },
        {
          "output_type": "stream",
          "name": "stderr",
          "text": [
            "Epoch [23/25]: 100%|██████████| 27/27 [00:42<00:00,  1.58s/it]\n",
            "Evaluation: 100%|██████████| 7/7 [00:01<00:00,  5.43it/s]\n"
          ]
        },
        {
          "output_type": "stream",
          "name": "stdout",
          "text": [
            "Epoch [23/25] - Train Loss: 3.0926 - Val Loss: 1.6595 - Val Accuracy: 25.00%\n"
          ]
        },
        {
          "output_type": "stream",
          "name": "stderr",
          "text": [
            "Epoch [24/25]: 100%|██████████| 27/27 [00:43<00:00,  1.61s/it]\n",
            "Evaluation: 100%|██████████| 7/7 [00:01<00:00,  5.58it/s]\n"
          ]
        },
        {
          "output_type": "stream",
          "name": "stdout",
          "text": [
            "Epoch [24/25] - Train Loss: 4.6726 - Val Loss: 1.7134 - Val Accuracy: 28.24%\n"
          ]
        },
        {
          "output_type": "stream",
          "name": "stderr",
          "text": [
            "Epoch [25/25]: 100%|██████████| 27/27 [00:44<00:00,  1.66s/it]\n",
            "Evaluation: 100%|██████████| 7/7 [00:01<00:00,  5.33it/s]"
          ]
        },
        {
          "output_type": "stream",
          "name": "stdout",
          "text": [
            "Epoch [25/25] - Train Loss: 6.5569 - Val Loss: 16.2546 - Val Accuracy: 21.76%\n"
          ]
        },
        {
          "output_type": "stream",
          "name": "stderr",
          "text": [
            "\n"
          ]
        }
      ],
      "source": [
        "# Training loop with evaluation and plotting\n",
        "train_losses_l2_rmsprop = []\n",
        "val_losses_l2_rmsprop = []\n",
        "val_accuracies_l2_rmsprop = []\n",
        "\n",
        "for epoch in range(num_epochs):\n",
        "    model.train()\n",
        "    train_loss_rmsprop = 0.0\n",
        "    for inputs, labels in tqdm(train_loader, desc=f'Epoch [{epoch + 1}/{num_epochs}]'):\n",
        "        optimizer_rmsprop.zero_grad()\n",
        "        outputs = model(inputs)\n",
        "        loss_rmsprop = criterion(outputs, labels)\n",
        "\n",
        "        # Calculate L2-norm penalty\n",
        "        l2_penalty_rmsprop = 0.0\n",
        "        for param in model.parameters():\n",
        "            l2_penalty_rmsprop += torch.norm(param, 2)\n",
        "\n",
        "        loss_rmsprop += weight_decay * l2_penalty_rmsprop\n",
        "\n",
        "        loss_rmsprop.backward()\n",
        "        optimizer_rmsprop.step()\n",
        "        train_loss_rmsprop += loss_rmsprop.item()\n",
        "\n",
        "    train_losses_l2_rmsprop.append(train_loss_rmsprop / len(train_loader))\n",
        "\n",
        "    # Evaluate the model after each epoch and collect accuracy and loss\n",
        "    val_accuracy_rmsprop, val_losses_rmsprop = evaluate_per_epoch(model, val_loader, criterion)\n",
        "    val_losses_l2_rmsprop.append(val_losses_rmsprop)\n",
        "    val_accuracies_l2_rmsprop.append(val_accuracy_rmsprop)\n",
        "\n",
        "    print(f'Epoch [{epoch + 1}/{num_epochs}] - Train Loss: {train_losses_l2_rmsprop[-1]:.4f} - Val Loss: {val_losses_rmsprop:.4f} - Val Accuracy: {val_accuracy_rmsprop:.2f}%')\n"
      ]
    },
    {
      "cell_type": "code",
      "execution_count": 78,
      "metadata": {
        "id": "t2-fEW7hz2ta",
        "colab": {
          "base_uri": "https://localhost:8080/",
          "height": 388
        },
        "outputId": "7c7a8ba8-bf72-4f7b-c3dd-b7fbb8112d9c"
      },
      "outputs": [
        {
          "output_type": "display_data",
          "data": {
            "text/plain": [
              "<Figure size 1200x400 with 2 Axes>"
            ],
            "image/png": "[encoded data removed]"
          },
          "metadata": {}
        }
      ],
      "source": [
        "# Determine the x-axis range based on the number of epochs\n",
        "x_range_rmsprop = range(1, num_epochs + 1)\n",
        "\n",
        "# Plot loss and accuracy per epoch (limit x-axis to the number of epochs)\n",
        "plt.figure(figsize=(12, 4))\n",
        "plt.subplot(1, 2, 1)\n",
        "plt.plot(x_range_rmsprop, train_losses_l2_rmsprop[:num_epochs], label='Train Loss')\n",
        "plt.plot(x_range_rmsprop, val_losses_l2_rmsprop[:num_epochs], label='Validation Loss')\n",
        "plt.xlabel('Epoch')\n",
        "plt.ylabel('Loss')\n",
        "plt.legend()\n",
        "\n",
        "plt.subplot(1, 2, 2)\n",
        "plt.plot(x_range_rmsprop, val_accuracies_l2_rmsprop[:num_epochs], label='Validation Accuracy', color='red')\n",
        "plt.xlabel('Epoch')\n",
        "plt.ylabel('Accuracy (%)')\n",
        "plt.legend()\n",
        "plt.show()"
      ]
    },
    {
      "cell_type": "code",
      "execution_count": 79,
      "metadata": {
        "id": "Pi7Nf_lPz-ou",
        "colab": {
          "base_uri": "https://localhost:8080/"
        },
        "outputId": "f3514c16-0ec9-4398-e444-a9bf0c85950e"
      },
      "outputs": [
        {
          "output_type": "stream",
          "name": "stderr",
          "text": [
            "Evaluation: 100%|██████████| 4/4 [00:00<00:00,  5.38it/s]"
          ]
        },
        {
          "output_type": "stream",
          "name": "stdout",
          "text": [
            "\n",
            "Test Accuracy with L2-norm penalty (RMSProp): 19.17%\n",
            "Test Loss with L2-norm penalty (RMSProp): 17.3738\n"
          ]
        },
        {
          "output_type": "stream",
          "name": "stderr",
          "text": [
            "\n"
          ]
        }
      ],
      "source": [
        "test_accuracy_l2_rmsprop, test_loss_l2_rmsprop = evaluate_per_epoch(model, test_loader, criterion)\n",
        "print(f'\\nTest Accuracy with L2-norm penalty (RMSProp): {test_accuracy_l2_rmsprop:.2f}%')\n",
        "print(f'Test Loss with L2-norm penalty (RMSProp): {np.mean(test_loss_l2_rmsprop):.4f}')"
      ]
    },
    {
      "cell_type": "markdown",
      "metadata": {
        "id": "Wd4JjL7y0_gG"
      },
      "source": [
        "### RMSProp with Momentum"
      ]
    },
    {
      "cell_type": "code",
      "execution_count": 80,
      "metadata": {
        "id": "jajA_gUt0Eda"
      },
      "outputs": [],
      "source": [
        "num_epochs = EPOCHS\n",
        "weight_decay = 0.001  # Weight decay (L2 penalty)\n",
        "learning_rate = 0.01  # Initial learning rate\n",
        "momentum = 0.90  # Momentum coefficient\n",
        "criterion = nn.CrossEntropyLoss()\n",
        "optimizer_rmsprop_with_momentum = optim.RMSprop(model.parameters(), lr=learning_rate, momentum=momentum, weight_decay=weight_decay)"
      ]
    },
    {
      "cell_type": "code",
      "execution_count": 81,
      "metadata": {
        "id": "yO0FOQmu1Tpf",
        "colab": {
          "base_uri": "https://localhost:8080/"
        },
        "outputId": "41e8c7eb-580d-4238-fac0-b6ee9a00fbcc"
      },
      "outputs": [
        {
          "output_type": "stream",
          "name": "stderr",
          "text": [
            "Epoch [1/25]: 100%|██████████| 14/14 [00:14<00:00,  1.06s/it]\n",
            "Evaluation: 100%|██████████| 4/4 [00:00<00:00,  7.08it/s]\n"
          ]
        },
        {
          "output_type": "stream",
          "name": "stdout",
          "text": [
            "Epoch [1/25] - Train Loss: 5827002.7951 - Val Loss: 144.1641 - Val Accuracy: 15.74%\n"
          ]
        },
        {
          "output_type": "stream",
          "name": "stderr",
          "text": [
            "Epoch [2/25]: 100%|██████████| 14/14 [00:10<00:00,  1.33it/s]\n",
            "Evaluation: 100%|██████████| 4/4 [00:00<00:00,  9.37it/s]\n"
          ]
        },
        {
          "output_type": "stream",
          "name": "stdout",
          "text": [
            "Epoch [2/25] - Train Loss: 224.4259 - Val Loss: 169.5658 - Val Accuracy: 17.59%\n"
          ]
        },
        {
          "output_type": "stream",
          "name": "stderr",
          "text": [
            "Epoch [3/25]: 100%|██████████| 14/14 [00:10<00:00,  1.30it/s]\n",
            "Evaluation: 100%|██████████| 4/4 [00:00<00:00,  9.70it/s]\n"
          ]
        },
        {
          "output_type": "stream",
          "name": "stdout",
          "text": [
            "Epoch [3/25] - Train Loss: 60.1798 - Val Loss: 114.8223 - Val Accuracy: 14.35%\n"
          ]
        },
        {
          "output_type": "stream",
          "name": "stderr",
          "text": [
            "Epoch [4/25]: 100%|██████████| 14/14 [00:10<00:00,  1.31it/s]\n",
            "Evaluation: 100%|██████████| 4/4 [00:00<00:00,  9.65it/s]\n"
          ]
        },
        {
          "output_type": "stream",
          "name": "stdout",
          "text": [
            "Epoch [4/25] - Train Loss: 61.2239 - Val Loss: 78.3735 - Val Accuracy: 18.06%\n"
          ]
        },
        {
          "output_type": "stream",
          "name": "stderr",
          "text": [
            "Epoch [5/25]: 100%|██████████| 14/14 [00:09<00:00,  1.45it/s]\n",
            "Evaluation: 100%|██████████| 4/4 [00:00<00:00,  6.35it/s]\n"
          ]
        },
        {
          "output_type": "stream",
          "name": "stdout",
          "text": [
            "Epoch [5/25] - Train Loss: 36.8460 - Val Loss: 36.7744 - Val Accuracy: 18.06%\n"
          ]
        },
        {
          "output_type": "stream",
          "name": "stderr",
          "text": [
            "Epoch [6/25]: 100%|██████████| 14/14 [00:10<00:00,  1.35it/s]\n",
            "Evaluation: 100%|██████████| 4/4 [00:00<00:00, 10.18it/s]\n"
          ]
        },
        {
          "output_type": "stream",
          "name": "stdout",
          "text": [
            "Epoch [6/25] - Train Loss: 26.5914 - Val Loss: 45.9713 - Val Accuracy: 17.59%\n"
          ]
        },
        {
          "output_type": "stream",
          "name": "stderr",
          "text": [
            "Epoch [7/25]: 100%|██████████| 14/14 [00:10<00:00,  1.31it/s]\n",
            "Evaluation: 100%|██████████| 4/4 [00:00<00:00, 10.17it/s]\n"
          ]
        },
        {
          "output_type": "stream",
          "name": "stdout",
          "text": [
            "Epoch [7/25] - Train Loss: 30.5282 - Val Loss: 36.2232 - Val Accuracy: 17.59%\n"
          ]
        },
        {
          "output_type": "stream",
          "name": "stderr",
          "text": [
            "Epoch [8/25]: 100%|██████████| 14/14 [00:10<00:00,  1.32it/s]\n",
            "Evaluation: 100%|██████████| 4/4 [00:00<00:00,  9.51it/s]\n"
          ]
        },
        {
          "output_type": "stream",
          "name": "stdout",
          "text": [
            "Epoch [8/25] - Train Loss: 23.7385 - Val Loss: 55.7950 - Val Accuracy: 17.59%\n"
          ]
        },
        {
          "output_type": "stream",
          "name": "stderr",
          "text": [
            "Epoch [9/25]: 100%|██████████| 14/14 [00:10<00:00,  1.33it/s]\n",
            "Evaluation: 100%|██████████| 4/4 [00:00<00:00,  6.59it/s]\n"
          ]
        },
        {
          "output_type": "stream",
          "name": "stdout",
          "text": [
            "Epoch [9/25] - Train Loss: 43.9080 - Val Loss: 61.0185 - Val Accuracy: 17.59%\n"
          ]
        },
        {
          "output_type": "stream",
          "name": "stderr",
          "text": [
            "Epoch [10/25]: 100%|██████████| 14/14 [00:10<00:00,  1.36it/s]\n",
            "Evaluation: 100%|██████████| 4/4 [00:00<00:00,  9.46it/s]\n"
          ]
        },
        {
          "output_type": "stream",
          "name": "stdout",
          "text": [
            "Epoch [10/25] - Train Loss: 26.1825 - Val Loss: 30.4197 - Val Accuracy: 18.06%\n"
          ]
        },
        {
          "output_type": "stream",
          "name": "stderr",
          "text": [
            "Epoch [11/25]: 100%|██████████| 14/14 [00:10<00:00,  1.29it/s]\n",
            "Evaluation: 100%|██████████| 4/4 [00:00<00:00,  9.30it/s]\n"
          ]
        },
        {
          "output_type": "stream",
          "name": "stdout",
          "text": [
            "Epoch [11/25] - Train Loss: 24.8631 - Val Loss: 75.0456 - Val Accuracy: 17.59%\n"
          ]
        },
        {
          "output_type": "stream",
          "name": "stderr",
          "text": [
            "Epoch [12/25]: 100%|██████████| 14/14 [00:10<00:00,  1.30it/s]\n",
            "Evaluation: 100%|██████████| 4/4 [00:00<00:00,  9.63it/s]\n"
          ]
        },
        {
          "output_type": "stream",
          "name": "stdout",
          "text": [
            "Epoch [12/25] - Train Loss: 33.2939 - Val Loss: 80.5039 - Val Accuracy: 17.59%\n"
          ]
        },
        {
          "output_type": "stream",
          "name": "stderr",
          "text": [
            "Epoch [13/25]: 100%|██████████| 14/14 [00:10<00:00,  1.35it/s]\n",
            "Evaluation: 100%|██████████| 4/4 [00:00<00:00,  6.61it/s]\n"
          ]
        },
        {
          "output_type": "stream",
          "name": "stdout",
          "text": [
            "Epoch [13/25] - Train Loss: 25.6055 - Val Loss: 39.0457 - Val Accuracy: 17.59%\n"
          ]
        },
        {
          "output_type": "stream",
          "name": "stderr",
          "text": [
            "Epoch [14/25]: 100%|██████████| 14/14 [00:09<00:00,  1.41it/s]\n",
            "Evaluation: 100%|██████████| 4/4 [00:00<00:00,  9.74it/s]\n"
          ]
        },
        {
          "output_type": "stream",
          "name": "stdout",
          "text": [
            "Epoch [14/25] - Train Loss: 28.0197 - Val Loss: 49.6774 - Val Accuracy: 15.74%\n"
          ]
        },
        {
          "output_type": "stream",
          "name": "stderr",
          "text": [
            "Epoch [15/25]: 100%|██████████| 14/14 [00:11<00:00,  1.27it/s]\n",
            "Evaluation: 100%|██████████| 4/4 [00:00<00:00,  9.99it/s]\n"
          ]
        },
        {
          "output_type": "stream",
          "name": "stdout",
          "text": [
            "Epoch [15/25] - Train Loss: 24.8975 - Val Loss: 13.2227 - Val Accuracy: 18.06%\n"
          ]
        },
        {
          "output_type": "stream",
          "name": "stderr",
          "text": [
            "Epoch [16/25]: 100%|██████████| 14/14 [00:10<00:00,  1.31it/s]\n",
            "Evaluation: 100%|██████████| 4/4 [00:00<00:00,  9.69it/s]\n"
          ]
        },
        {
          "output_type": "stream",
          "name": "stdout",
          "text": [
            "Epoch [16/25] - Train Loss: 21.4500 - Val Loss: 57.7765 - Val Accuracy: 18.06%\n"
          ]
        },
        {
          "output_type": "stream",
          "name": "stderr",
          "text": [
            "Epoch [17/25]: 100%|██████████| 14/14 [00:10<00:00,  1.33it/s]\n",
            "Evaluation: 100%|██████████| 4/4 [00:00<00:00,  7.64it/s]\n"
          ]
        },
        {
          "output_type": "stream",
          "name": "stdout",
          "text": [
            "Epoch [17/25] - Train Loss: 29.4000 - Val Loss: 62.2933 - Val Accuracy: 18.06%\n"
          ]
        },
        {
          "output_type": "stream",
          "name": "stderr",
          "text": [
            "Epoch [18/25]: 100%|██████████| 14/14 [00:09<00:00,  1.46it/s]\n",
            "Evaluation: 100%|██████████| 4/4 [00:00<00:00,  7.44it/s]\n"
          ]
        },
        {
          "output_type": "stream",
          "name": "stdout",
          "text": [
            "Epoch [18/25] - Train Loss: 29.1090 - Val Loss: 29.7024 - Val Accuracy: 14.35%\n"
          ]
        },
        {
          "output_type": "stream",
          "name": "stderr",
          "text": [
            "Epoch [19/25]: 100%|██████████| 14/14 [00:10<00:00,  1.32it/s]\n",
            "Evaluation: 100%|██████████| 4/4 [00:00<00:00,  9.85it/s]\n"
          ]
        },
        {
          "output_type": "stream",
          "name": "stdout",
          "text": [
            "Epoch [19/25] - Train Loss: 23.7065 - Val Loss: 46.3529 - Val Accuracy: 18.06%\n"
          ]
        },
        {
          "output_type": "stream",
          "name": "stderr",
          "text": [
            "Epoch [20/25]: 100%|██████████| 14/14 [00:10<00:00,  1.31it/s]\n",
            "Evaluation: 100%|██████████| 4/4 [00:00<00:00,  9.54it/s]\n"
          ]
        },
        {
          "output_type": "stream",
          "name": "stdout",
          "text": [
            "Epoch [20/25] - Train Loss: 23.7053 - Val Loss: 30.4453 - Val Accuracy: 17.59%\n"
          ]
        },
        {
          "output_type": "stream",
          "name": "stderr",
          "text": [
            "Epoch [21/25]: 100%|██████████| 14/14 [00:10<00:00,  1.30it/s]\n",
            "Evaluation: 100%|██████████| 4/4 [00:00<00:00,  9.61it/s]\n"
          ]
        },
        {
          "output_type": "stream",
          "name": "stdout",
          "text": [
            "Epoch [21/25] - Train Loss: 22.2929 - Val Loss: 20.3941 - Val Accuracy: 17.59%\n"
          ]
        },
        {
          "output_type": "stream",
          "name": "stderr",
          "text": [
            "Epoch [22/25]: 100%|██████████| 14/14 [00:09<00:00,  1.42it/s]\n",
            "Evaluation: 100%|██████████| 4/4 [00:00<00:00,  6.60it/s]\n"
          ]
        },
        {
          "output_type": "stream",
          "name": "stdout",
          "text": [
            "Epoch [22/25] - Train Loss: 28.1723 - Val Loss: 21.2237 - Val Accuracy: 15.74%\n"
          ]
        },
        {
          "output_type": "stream",
          "name": "stderr",
          "text": [
            "Epoch [23/25]: 100%|██████████| 14/14 [00:10<00:00,  1.35it/s]\n",
            "Evaluation: 100%|██████████| 4/4 [00:00<00:00,  9.49it/s]\n"
          ]
        },
        {
          "output_type": "stream",
          "name": "stdout",
          "text": [
            "Epoch [23/25] - Train Loss: 30.9108 - Val Loss: 72.8568 - Val Accuracy: 15.74%\n"
          ]
        },
        {
          "output_type": "stream",
          "name": "stderr",
          "text": [
            "Epoch [24/25]: 100%|██████████| 14/14 [00:10<00:00,  1.30it/s]\n",
            "Evaluation: 100%|██████████| 4/4 [00:00<00:00,  9.73it/s]\n"
          ]
        },
        {
          "output_type": "stream",
          "name": "stdout",
          "text": [
            "Epoch [24/25] - Train Loss: 22.2268 - Val Loss: 34.4881 - Val Accuracy: 16.67%\n"
          ]
        },
        {
          "output_type": "stream",
          "name": "stderr",
          "text": [
            "Epoch [25/25]: 100%|██████████| 14/14 [00:10<00:00,  1.30it/s]\n",
            "Evaluation: 100%|██████████| 4/4 [00:00<00:00,  9.62it/s]"
          ]
        },
        {
          "output_type": "stream",
          "name": "stdout",
          "text": [
            "Epoch [25/25] - Train Loss: 24.5833 - Val Loss: 62.8974 - Val Accuracy: 16.67%\n"
          ]
        },
        {
          "output_type": "stream",
          "name": "stderr",
          "text": [
            "\n"
          ]
        }
      ],
      "source": [
        "\n",
        "# Training loop with evaluation and plotting\n",
        "train_losses_rmsprop_with_momentum = []\n",
        "val_losses_rmsprop_with_momentum = []\n",
        "val_accuracies_rmsprop_with_momentum = []\n",
        "\n",
        "for epoch in range(num_epochs):\n",
        "    model.train()\n",
        "    train_loss_rmsprop_with_momentum = 0.0\n",
        "    for inputs, labels in tqdm(train_loader_sgd_mini, desc=f'Epoch [{epoch + 1}/{num_epochs}]'):\n",
        "        optimizer_rmsprop_with_momentum.zero_grad()\n",
        "        outputs = model(inputs)\n",
        "        loss_rmsprop = criterion(outputs, labels)\n",
        "\n",
        "        # Calculate L2-norm penalty (weight decay)\n",
        "        l2_penalty_rmsprop = 0.0\n",
        "        for param in model.parameters():\n",
        "            l2_penalty_rmsprop += torch.norm(param, 2)\n",
        "\n",
        "        loss_rmsprop += weight_decay * l2_penalty_rmsprop\n",
        "\n",
        "        loss_rmsprop.backward()\n",
        "        optimizer_rmsprop_with_momentum.step()\n",
        "        train_loss_rmsprop_with_momentum += loss_rmsprop.item()\n",
        "\n",
        "    train_losses_rmsprop_with_momentum.append(train_loss_rmsprop_with_momentum / len(train_loader))\n",
        "\n",
        "    # Evaluate the model after each epoch and collect accuracy and loss\n",
        "    val_accuracy_rmsprop_with_momentum, val_losses_rmsprop_momentum = evaluate_per_epoch(model, val_loader_sgd_mini, criterion)\n",
        "    val_losses_rmsprop_with_momentum.append(val_losses_rmsprop_momentum)\n",
        "    val_accuracies_rmsprop_with_momentum.append(val_accuracy_rmsprop_with_momentum)\n",
        "\n",
        "    print(f'Epoch [{epoch + 1}/{num_epochs}] - Train Loss: {train_losses_rmsprop_with_momentum[-1]:.4f} - Val Loss: {val_losses_rmsprop_momentum:.4f} - Val Accuracy: {val_accuracy_rmsprop_with_momentum:.2f}%')\n"
      ]
    },
    {
      "cell_type": "code",
      "execution_count": 82,
      "metadata": {
        "id": "wuSzqqw72V2H",
        "colab": {
          "base_uri": "https://localhost:8080/",
          "height": 403
        },
        "outputId": "14e4d9af-c8fc-48be-fed8-99261be2f283"
      },
      "outputs": [
        {
          "output_type": "display_data",
          "data": {
            "text/plain": [
              "<Figure size 1200x400 with 2 Axes>"
            ],
            "image/png": "[encoded data removed]"
          },
          "metadata": {}
        }
      ],
      "source": [
        "# Determine the x-axis range based on the number of epochs\n",
        "x_range_rmsprop_with_momentum = range(1, num_epochs + 1)\n",
        "\n",
        "# Plot loss and accuracy per epoch (limit x-axis to the number of epochs)\n",
        "plt.figure(figsize=(12, 4))\n",
        "plt.subplot(1, 2, 1)\n",
        "plt.plot(x_range_rmsprop_with_momentum, train_losses_rmsprop_with_momentum[:num_epochs], label='Train Loss')\n",
        "plt.plot(x_range_rmsprop_with_momentum, val_losses_rmsprop_with_momentum[:num_epochs], label='Validation Loss')\n",
        "plt.xlabel('Epoch')\n",
        "plt.ylabel('Loss')\n",
        "plt.legend()\n",
        "\n",
        "plt.subplot(1, 2, 2)\n",
        "plt.plot(x_range_rmsprop_with_momentum, val_accuracies_rmsprop_with_momentum[:num_epochs], label='Validation Accuracy', color='red')\n",
        "plt.xlabel('Epoch')\n",
        "plt.ylabel('Accuracy (%)')\n",
        "plt.legend()\n",
        "plt.show()\n"
      ]
    },
    {
      "cell_type": "code",
      "execution_count": 83,
      "metadata": {
        "id": "vBZdlPfp2XJq",
        "colab": {
          "base_uri": "https://localhost:8080/"
        },
        "outputId": "0eb2aa3f-8222-4ef9-8d4a-5598b0237c31"
      },
      "outputs": [
        {
          "output_type": "stream",
          "name": "stderr",
          "text": [
            "Evaluation: 100%|██████████| 4/4 [00:00<00:00, 15.56it/s]"
          ]
        },
        {
          "output_type": "stream",
          "name": "stdout",
          "text": [
            "\n",
            "Test Accuracy with L2-norm penalty (RMSProp with Momentum and Weight Decay): 16.67%\n",
            "Test Loss with L2-norm penalty (RMSProp with Momentum and Weight Decay): 67.8044\n"
          ]
        },
        {
          "output_type": "stream",
          "name": "stderr",
          "text": [
            "\n"
          ]
        }
      ],
      "source": [
        "# Evaluate the model on the test set\n",
        "test_accuracy_rmsprop_with_momentum, test_losses_rmsprop_with_momentum = evaluate_per_epoch(model, test_loader, criterion)\n",
        "print(f'\\nTest Accuracy with L2-norm penalty (RMSProp with Momentum and Weight Decay): {test_accuracy_rmsprop_with_momentum:.2f}%')\n",
        "print(f'Test Loss with L2-norm penalty (RMSProp with Momentum and Weight Decay): {np.mean(test_losses_rmsprop_with_momentum):.4f}')"
      ]
    },
    {
      "cell_type": "markdown",
      "metadata": {
        "id": "90nouW3b3BWU"
      },
      "source": [
        "### Batch Normalization"
      ]
    },
    {
      "cell_type": "code",
      "execution_count": 84,
      "metadata": {
        "id": "T81Sv_Mu24ng"
      },
      "outputs": [],
      "source": [
        "import torch\n",
        "import torch.nn as nn\n",
        "\n",
        "class NNModelWithBatchNorm(nn.Module):\n",
        "    def __init__(self):\n",
        "        super(NNModelWithBatchNorm, self).__init__()\n",
        "        # Define three dense layers with ReLU activation and BatchNorm\n",
        "        self.input_layer = nn.Linear(64 * 64 * 3, 1024)  # Input size: 64x64x3\n",
        "        self.bn1 = nn.BatchNorm1d(1024)  # BatchNorm layer after the first fully connected layer\n",
        "        self.relu1 = nn.ReLU()\n",
        "        self.hidden_layer1 = nn.Linear(1024, 12288)\n",
        "        self.bn2 = nn.BatchNorm1d(12288)  # BatchNorm layer after the second fully connected layer\n",
        "        self.relu2 = nn.ReLU()\n",
        "        self.hidden_layer2 = nn.Linear(12288, 6)  # Output layer with 6 classes\n",
        "\n",
        "    def forward(self, x):\n",
        "        x = x.view(x.size(0), -1)  # Flatten the input\n",
        "        x = self.input_layer(x)\n",
        "        x = self.bn1(x)  # Apply BatchNorm\n",
        "        x = self.relu1(x)\n",
        "        x = self.hidden_layer1(x)\n",
        "        x = self.bn2(x)  # Apply BatchNorm\n",
        "        x = self.relu2(x)\n",
        "        x = self.hidden_layer2(x)\n",
        "        return x\n"
      ]
    },
    {
      "cell_type": "code",
      "execution_count": 85,
      "metadata": {
        "id": "9P6PbhW69Jll"
      },
      "outputs": [],
      "source": [
        "num_epochs = EPOCHS\n",
        "weight_decay = 0.001\n",
        "learning_rate = 0.01\n",
        "\n",
        "# Create an instance of the model\n",
        "model_bn = NNModelWithBatchNorm()\n",
        "\n",
        "# Define loss function and optimizer\n",
        "criterion = nn.CrossEntropyLoss()\n",
        "optimizer = optim.SGD(model.parameters(), lr=learning_rate, weight_decay=weight_decay)\n"
      ]
    },
    {
      "cell_type": "code",
      "execution_count": 86,
      "metadata": {
        "id": "EljpanUKCbBa",
        "colab": {
          "base_uri": "https://localhost:8080/"
        },
        "outputId": "224747ff-aec5-4736-d70a-fe1815caa4d6"
      },
      "outputs": [
        {
          "output_type": "stream",
          "name": "stderr",
          "text": [
            "Epoch [1/25]: 100%|██████████| 14/14 [00:07<00:00,  1.85it/s]\n",
            "Evaluation: 100%|██████████| 4/4 [00:00<00:00,  6.35it/s]\n"
          ]
        },
        {
          "output_type": "stream",
          "name": "stdout",
          "text": [
            "Epoch [1/25] - Train Loss: 4.8759 - Val Loss: 1.7903 - Val Accuracy: 21.30%\n"
          ]
        },
        {
          "output_type": "stream",
          "name": "stderr",
          "text": [
            "Epoch [2/25]: 100%|██████████| 14/14 [00:08<00:00,  1.65it/s]\n",
            "Evaluation: 100%|██████████| 4/4 [00:00<00:00,  9.86it/s]\n"
          ]
        },
        {
          "output_type": "stream",
          "name": "stdout",
          "text": [
            "Epoch [2/25] - Train Loss: 4.8741 - Val Loss: 1.7986 - Val Accuracy: 19.91%\n"
          ]
        },
        {
          "output_type": "stream",
          "name": "stderr",
          "text": [
            "Epoch [3/25]: 100%|██████████| 14/14 [00:08<00:00,  1.64it/s]\n",
            "Evaluation: 100%|██████████| 4/4 [00:00<00:00,  6.95it/s]\n"
          ]
        },
        {
          "output_type": "stream",
          "name": "stdout",
          "text": [
            "Epoch [3/25] - Train Loss: 4.8738 - Val Loss: 1.8100 - Val Accuracy: 18.98%\n"
          ]
        },
        {
          "output_type": "stream",
          "name": "stderr",
          "text": [
            "Epoch [4/25]: 100%|██████████| 14/14 [00:07<00:00,  1.89it/s]\n",
            "Evaluation: 100%|██████████| 4/4 [00:00<00:00,  9.57it/s]\n"
          ]
        },
        {
          "output_type": "stream",
          "name": "stdout",
          "text": [
            "Epoch [4/25] - Train Loss: 4.8691 - Val Loss: 1.8157 - Val Accuracy: 18.06%\n"
          ]
        },
        {
          "output_type": "stream",
          "name": "stderr",
          "text": [
            "Epoch [5/25]: 100%|██████████| 14/14 [00:08<00:00,  1.60it/s]\n",
            "Evaluation: 100%|██████████| 4/4 [00:00<00:00,  9.99it/s]\n"
          ]
        },
        {
          "output_type": "stream",
          "name": "stdout",
          "text": [
            "Epoch [5/25] - Train Loss: 4.8684 - Val Loss: 1.8170 - Val Accuracy: 18.98%\n"
          ]
        },
        {
          "output_type": "stream",
          "name": "stderr",
          "text": [
            "Epoch [6/25]: 100%|██████████| 14/14 [00:07<00:00,  1.85it/s]\n",
            "Evaluation: 100%|██████████| 4/4 [00:00<00:00,  6.55it/s]\n"
          ]
        },
        {
          "output_type": "stream",
          "name": "stdout",
          "text": [
            "Epoch [6/25] - Train Loss: 4.8717 - Val Loss: 1.8162 - Val Accuracy: 19.44%\n"
          ]
        },
        {
          "output_type": "stream",
          "name": "stderr",
          "text": [
            "Epoch [7/25]: 100%|██████████| 14/14 [00:08<00:00,  1.66it/s]\n",
            "Evaluation: 100%|██████████| 4/4 [00:00<00:00,  9.57it/s]\n"
          ]
        },
        {
          "output_type": "stream",
          "name": "stdout",
          "text": [
            "Epoch [7/25] - Train Loss: 4.8690 - Val Loss: 1.8169 - Val Accuracy: 18.52%\n"
          ]
        },
        {
          "output_type": "stream",
          "name": "stderr",
          "text": [
            "Epoch [8/25]: 100%|██████████| 14/14 [00:08<00:00,  1.63it/s]\n",
            "Evaluation: 100%|██████████| 4/4 [00:00<00:00,  7.38it/s]\n"
          ]
        },
        {
          "output_type": "stream",
          "name": "stdout",
          "text": [
            "Epoch [8/25] - Train Loss: 4.8720 - Val Loss: 1.8173 - Val Accuracy: 18.98%\n"
          ]
        },
        {
          "output_type": "stream",
          "name": "stderr",
          "text": [
            "Epoch [9/25]: 100%|██████████| 14/14 [00:07<00:00,  1.87it/s]\n",
            "Evaluation: 100%|██████████| 4/4 [00:00<00:00,  9.85it/s]\n"
          ]
        },
        {
          "output_type": "stream",
          "name": "stdout",
          "text": [
            "Epoch [9/25] - Train Loss: 4.8710 - Val Loss: 1.8160 - Val Accuracy: 18.98%\n"
          ]
        },
        {
          "output_type": "stream",
          "name": "stderr",
          "text": [
            "Epoch [10/25]: 100%|██████████| 14/14 [00:08<00:00,  1.61it/s]\n",
            "Evaluation: 100%|██████████| 4/4 [00:00<00:00, 10.06it/s]\n"
          ]
        },
        {
          "output_type": "stream",
          "name": "stdout",
          "text": [
            "Epoch [10/25] - Train Loss: 4.8705 - Val Loss: 1.8154 - Val Accuracy: 18.98%\n"
          ]
        },
        {
          "output_type": "stream",
          "name": "stderr",
          "text": [
            "Epoch [11/25]: 100%|██████████| 14/14 [00:07<00:00,  1.85it/s]\n",
            "Evaluation: 100%|██████████| 4/4 [00:00<00:00,  6.54it/s]\n"
          ]
        },
        {
          "output_type": "stream",
          "name": "stdout",
          "text": [
            "Epoch [11/25] - Train Loss: 4.8723 - Val Loss: 1.8161 - Val Accuracy: 18.52%\n"
          ]
        },
        {
          "output_type": "stream",
          "name": "stderr",
          "text": [
            "Epoch [12/25]: 100%|██████████| 14/14 [00:08<00:00,  1.66it/s]\n",
            "Evaluation: 100%|██████████| 4/4 [00:00<00:00,  9.43it/s]\n"
          ]
        },
        {
          "output_type": "stream",
          "name": "stdout",
          "text": [
            "Epoch [12/25] - Train Loss: 4.8701 - Val Loss: 1.8167 - Val Accuracy: 18.98%\n"
          ]
        },
        {
          "output_type": "stream",
          "name": "stderr",
          "text": [
            "Epoch [13/25]: 100%|██████████| 14/14 [00:08<00:00,  1.62it/s]\n",
            "Evaluation: 100%|██████████| 4/4 [00:00<00:00,  8.45it/s]\n"
          ]
        },
        {
          "output_type": "stream",
          "name": "stdout",
          "text": [
            "Epoch [13/25] - Train Loss: 4.8712 - Val Loss: 1.8153 - Val Accuracy: 18.06%\n"
          ]
        },
        {
          "output_type": "stream",
          "name": "stderr",
          "text": [
            "Epoch [14/25]: 100%|██████████| 14/14 [00:07<00:00,  1.88it/s]\n",
            "Evaluation: 100%|██████████| 4/4 [00:00<00:00,  9.96it/s]\n"
          ]
        },
        {
          "output_type": "stream",
          "name": "stdout",
          "text": [
            "Epoch [14/25] - Train Loss: 4.8693 - Val Loss: 1.8154 - Val Accuracy: 18.98%\n"
          ]
        },
        {
          "output_type": "stream",
          "name": "stderr",
          "text": [
            "Epoch [15/25]: 100%|██████████| 14/14 [00:08<00:00,  1.60it/s]\n",
            "Evaluation: 100%|██████████| 4/4 [00:00<00:00,  9.73it/s]\n"
          ]
        },
        {
          "output_type": "stream",
          "name": "stdout",
          "text": [
            "Epoch [15/25] - Train Loss: 4.8687 - Val Loss: 1.8178 - Val Accuracy: 19.44%\n"
          ]
        },
        {
          "output_type": "stream",
          "name": "stderr",
          "text": [
            "Epoch [16/25]: 100%|██████████| 14/14 [00:07<00:00,  1.81it/s]\n",
            "Evaluation: 100%|██████████| 4/4 [00:00<00:00,  6.23it/s]\n"
          ]
        },
        {
          "output_type": "stream",
          "name": "stdout",
          "text": [
            "Epoch [16/25] - Train Loss: 4.8688 - Val Loss: 1.8148 - Val Accuracy: 18.52%\n"
          ]
        },
        {
          "output_type": "stream",
          "name": "stderr",
          "text": [
            "Epoch [17/25]: 100%|██████████| 14/14 [00:08<00:00,  1.67it/s]\n",
            "Evaluation: 100%|██████████| 4/4 [00:00<00:00,  9.68it/s]\n"
          ]
        },
        {
          "output_type": "stream",
          "name": "stdout",
          "text": [
            "Epoch [17/25] - Train Loss: 4.8670 - Val Loss: 1.8179 - Val Accuracy: 18.52%\n"
          ]
        },
        {
          "output_type": "stream",
          "name": "stderr",
          "text": [
            "Epoch [18/25]: 100%|██████████| 14/14 [00:08<00:00,  1.60it/s]\n",
            "Evaluation: 100%|██████████| 4/4 [00:00<00:00,  9.51it/s]\n"
          ]
        },
        {
          "output_type": "stream",
          "name": "stdout",
          "text": [
            "Epoch [18/25] - Train Loss: 4.8668 - Val Loss: 1.8173 - Val Accuracy: 18.06%\n"
          ]
        },
        {
          "output_type": "stream",
          "name": "stderr",
          "text": [
            "Epoch [19/25]: 100%|██████████| 14/14 [00:07<00:00,  1.86it/s]\n",
            "Evaluation: 100%|██████████| 4/4 [00:00<00:00,  9.91it/s]\n"
          ]
        },
        {
          "output_type": "stream",
          "name": "stdout",
          "text": [
            "Epoch [19/25] - Train Loss: 4.8656 - Val Loss: 1.8163 - Val Accuracy: 18.98%\n"
          ]
        },
        {
          "output_type": "stream",
          "name": "stderr",
          "text": [
            "Epoch [20/25]: 100%|██████████| 14/14 [00:08<00:00,  1.60it/s]\n",
            "Evaluation: 100%|██████████| 4/4 [00:00<00:00,  9.95it/s]\n"
          ]
        },
        {
          "output_type": "stream",
          "name": "stdout",
          "text": [
            "Epoch [20/25] - Train Loss: 4.8670 - Val Loss: 1.8147 - Val Accuracy: 19.91%\n"
          ]
        },
        {
          "output_type": "stream",
          "name": "stderr",
          "text": [
            "Epoch [21/25]: 100%|██████████| 14/14 [00:07<00:00,  1.79it/s]\n",
            "Evaluation: 100%|██████████| 4/4 [00:00<00:00,  6.60it/s]\n"
          ]
        },
        {
          "output_type": "stream",
          "name": "stdout",
          "text": [
            "Epoch [21/25] - Train Loss: 4.8652 - Val Loss: 1.8160 - Val Accuracy: 19.44%\n"
          ]
        },
        {
          "output_type": "stream",
          "name": "stderr",
          "text": [
            "Epoch [22/25]: 100%|██████████| 14/14 [00:08<00:00,  1.71it/s]\n",
            "Evaluation: 100%|██████████| 4/4 [00:00<00:00, 10.23it/s]\n"
          ]
        },
        {
          "output_type": "stream",
          "name": "stdout",
          "text": [
            "Epoch [22/25] - Train Loss: 4.8630 - Val Loss: 1.8162 - Val Accuracy: 18.52%\n"
          ]
        },
        {
          "output_type": "stream",
          "name": "stderr",
          "text": [
            "Epoch [23/25]: 100%|██████████| 14/14 [00:08<00:00,  1.60it/s]\n",
            "Evaluation: 100%|██████████| 4/4 [00:00<00:00,  9.99it/s]\n"
          ]
        },
        {
          "output_type": "stream",
          "name": "stdout",
          "text": [
            "Epoch [23/25] - Train Loss: 4.8634 - Val Loss: 1.8165 - Val Accuracy: 18.52%\n"
          ]
        },
        {
          "output_type": "stream",
          "name": "stderr",
          "text": [
            "Epoch [24/25]: 100%|██████████| 14/14 [00:07<00:00,  1.86it/s]\n",
            "Evaluation: 100%|██████████| 4/4 [00:00<00:00,  9.86it/s]\n"
          ]
        },
        {
          "output_type": "stream",
          "name": "stdout",
          "text": [
            "Epoch [24/25] - Train Loss: 4.8601 - Val Loss: 1.8161 - Val Accuracy: 18.52%\n"
          ]
        },
        {
          "output_type": "stream",
          "name": "stderr",
          "text": [
            "Epoch [25/25]: 100%|██████████| 14/14 [00:08<00:00,  1.60it/s]\n",
            "Evaluation: 100%|██████████| 4/4 [00:00<00:00,  9.98it/s]"
          ]
        },
        {
          "output_type": "stream",
          "name": "stdout",
          "text": [
            "Epoch [25/25] - Train Loss: 4.8608 - Val Loss: 1.8162 - Val Accuracy: 18.98%\n"
          ]
        },
        {
          "output_type": "stream",
          "name": "stderr",
          "text": [
            "\n"
          ]
        }
      ],
      "source": [
        "# Training loop with evaluation and plotting\n",
        "train_losses_bn= []\n",
        "val_losses_bn= []\n",
        "val_accuracies_bn= []\n",
        "\n",
        "for epoch in range(num_epochs):\n",
        "    model_bn.train()\n",
        "    train_loss_bn= 0.0\n",
        "    for inputs, labels in tqdm(train_loader_sgd_mini, desc=f'Epoch [{epoch + 1}/{num_epochs}]'):\n",
        "        optimizer.zero_grad()\n",
        "        outputs = model_bn(inputs)\n",
        "        loss_bn= criterion(outputs, labels)\n",
        "\n",
        "        # Calculate L2-norm penalty (weight decay)\n",
        "        l2_penalty_bn= 0.0\n",
        "        for param in model.parameters():\n",
        "            l2_penalty_bn += torch.norm(param, 2)\n",
        "\n",
        "        loss_bn += weight_decay * l2_penalty_bn\n",
        "\n",
        "        loss_bn.backward()\n",
        "        optimizer.step()\n",
        "        train_loss_bn += loss_bn.item()\n",
        "\n",
        "    train_losses_bn.append(train_loss_bn / len(train_loader))\n",
        "\n",
        "    # Evaluate the model after each epoch and collect accuracy and loss\n",
        "    val_accuracy_bn, val_loss_bn= evaluate_per_epoch(model_bn, val_loader_sgd_mini, criterion)\n",
        "    val_losses_bn.append(val_loss_bn)\n",
        "    val_accuracies_bn.append(val_accuracy_bn)\n",
        "\n",
        "    print(f'Epoch [{epoch + 1}/{num_epochs}] - Train Loss: {train_losses_bn[-1]:.4f} - Val Loss: {val_loss_bn:.4f} - Val Accuracy: {val_accuracy_bn:.2f}%')\n"
      ]
    },
    {
      "cell_type": "code",
      "execution_count": 87,
      "metadata": {
        "id": "iit6ErgW_GNX",
        "colab": {
          "base_uri": "https://localhost:8080/",
          "height": 391
        },
        "outputId": "6a62bc13-6f6c-4cfc-9a9b-177cbc5fe164"
      },
      "outputs": [
        {
          "output_type": "display_data",
          "data": {
            "text/plain": [
              "<Figure size 1200x400 with 2 Axes>"
            ],
            "image/png": "[encoded data removed]"
          },
          "metadata": {}
        }
      ],
      "source": [
        "x_range_with_bn = range(1, num_epochs + 1)\n",
        "\n",
        "# Plot loss and accuracy per epoch (limit x-axis to the number of epochs)\n",
        "plt.figure(figsize=(12, 4))\n",
        "plt.subplot(1, 2, 1)\n",
        "plt.plot(x_range_with_bn, train_losses_bn[:num_epochs], label='Train Loss')\n",
        "plt.plot(x_range_with_bn, val_losses_bn[:num_epochs], label='Validation Loss')\n",
        "plt.xlabel('Epoch')\n",
        "plt.ylabel('Loss')\n",
        "plt.legend()\n",
        "\n",
        "plt.subplot(1, 2, 2)\n",
        "plt.plot(x_range_with_bn, val_accuracies_bn[:num_epochs], label='Validation Accuracy', color='red')\n",
        "plt.xlabel('Epoch')\n",
        "plt.ylabel('Accuracy (%)')\n",
        "plt.legend()\n",
        "plt.show()\n",
        "\n",
        "\n"
      ]
    },
    {
      "cell_type": "code",
      "execution_count": 88,
      "metadata": {
        "id": "Ic0481pPEZqM",
        "colab": {
          "base_uri": "https://localhost:8080/"
        },
        "outputId": "14b0768a-235c-4279-d546-f96778e2f52d"
      },
      "outputs": [
        {
          "output_type": "stream",
          "name": "stderr",
          "text": [
            "Evaluation: 100%|██████████| 2/2 [00:00<00:00,  8.78it/s]"
          ]
        },
        {
          "output_type": "stream",
          "name": "stdout",
          "text": [
            "\n",
            "Test Accuracy with L2-norm penalty and BatchNorm: 15.83%\n",
            "Test Loss with L2-norm penalty and BatchNorm: 1.8333\n"
          ]
        },
        {
          "output_type": "stream",
          "name": "stderr",
          "text": [
            "\n"
          ]
        }
      ],
      "source": [
        "# Evaluate the model on the test set\n",
        "test_accuracy_bn, test_losses_bn = evaluate_per_epoch(model_bn, test_loader_sgd_mini, criterion)\n",
        "print(f'\\nTest Accuracy with L2-norm penalty and BatchNorm: {test_accuracy_bn:.2f}%')\n",
        "print(f'Test Loss with L2-norm penalty and BatchNorm: {np.mean(test_losses_bn):.4f}')"
      ]
    },
    {
      "cell_type": "code",
      "source": [],
      "metadata": {
        "id": "KQp6sd1QcvMV"
      },
      "execution_count": null,
      "outputs": []
    }
  ],
  "metadata": {
    "colab": {
      "provenance": []
    },
    "kernelspec": {
      "display_name": "Python 3",
      "name": "python3"
    },
    "language_info": {
      "name": "python"
    }
  },
  "nbformat": 4,
  "nbformat_minor": 0
}